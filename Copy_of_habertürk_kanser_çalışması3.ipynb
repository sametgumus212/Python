{
  "nbformat": 4,
  "nbformat_minor": 5,
  "metadata": {
    "kernelspec": {
      "display_name": "Python 3",
      "language": "python",
      "name": "python3"
    },
    "language_info": {
      "codemirror_mode": {
        "name": "ipython",
        "version": 3
      },
      "file_extension": ".py",
      "mimetype": "text/x-python",
      "name": "python",
      "nbconvert_exporter": "python",
      "pygments_lexer": "ipython3",
      "version": "3.8.8"
    },
    "colab": {
      "name": "Copy of habertürk_kanser_çalışması3.ipynb ",
      "provenance": [],
      "collapsed_sections": [],
      "include_colab_link": true
    }
  },
  "cells": [
    {
      "cell_type": "markdown",
      "metadata": {
        "id": "view-in-github",
        "colab_type": "text"
      },
      "source": [
        "<a href=\"https://colab.research.google.com/github/sametgumus212/Python/blob/master/Copy_of_habert%C3%BCrk_kanser_%C3%A7al%C4%B1%C5%9Fmas%C4%B13.ipynb\" target=\"_parent\"><img src=\"https://colab.research.google.com/assets/colab-badge.svg\" alt=\"Open In Colab\"/></a>"
      ]
    },
    {
      "cell_type": "code",
      "metadata": {
        "id": "30WTA-lu9nA7",
        "colab": {
          "base_uri": "https://localhost:8080/"
        },
        "outputId": "822d28bb-eb79-4298-bd50-58ecdde9c763"
      },
      "source": [
        "!pip install selenium "
      ],
      "id": "30WTA-lu9nA7",
      "execution_count": null,
      "outputs": [
        {
          "output_type": "stream",
          "text": [
            "Collecting selenium\n",
            "  Downloading selenium-3.141.0-py2.py3-none-any.whl (904 kB)\n",
            "\u001b[?25l\r\u001b[K     |▍                               | 10 kB 25.4 MB/s eta 0:00:01\r\u001b[K     |▊                               | 20 kB 29.3 MB/s eta 0:00:01\r\u001b[K     |█                               | 30 kB 31.4 MB/s eta 0:00:01\r\u001b[K     |█▌                              | 40 kB 33.2 MB/s eta 0:00:01\r\u001b[K     |█▉                              | 51 kB 35.8 MB/s eta 0:00:01\r\u001b[K     |██▏                             | 61 kB 27.0 MB/s eta 0:00:01\r\u001b[K     |██▌                             | 71 kB 25.1 MB/s eta 0:00:01\r\u001b[K     |███                             | 81 kB 26.9 MB/s eta 0:00:01\r\u001b[K     |███▎                            | 92 kB 26.8 MB/s eta 0:00:01\r\u001b[K     |███▋                            | 102 kB 24.5 MB/s eta 0:00:01\r\u001b[K     |████                            | 112 kB 24.5 MB/s eta 0:00:01\r\u001b[K     |████▍                           | 122 kB 24.5 MB/s eta 0:00:01\r\u001b[K     |████▊                           | 133 kB 24.5 MB/s eta 0:00:01\r\u001b[K     |█████                           | 143 kB 24.5 MB/s eta 0:00:01\r\u001b[K     |█████▍                          | 153 kB 24.5 MB/s eta 0:00:01\r\u001b[K     |█████▉                          | 163 kB 24.5 MB/s eta 0:00:01\r\u001b[K     |██████▏                         | 174 kB 24.5 MB/s eta 0:00:01\r\u001b[K     |██████▌                         | 184 kB 24.5 MB/s eta 0:00:01\r\u001b[K     |██████▉                         | 194 kB 24.5 MB/s eta 0:00:01\r\u001b[K     |███████▎                        | 204 kB 24.5 MB/s eta 0:00:01\r\u001b[K     |███████▋                        | 215 kB 24.5 MB/s eta 0:00:01\r\u001b[K     |████████                        | 225 kB 24.5 MB/s eta 0:00:01\r\u001b[K     |████████▎                       | 235 kB 24.5 MB/s eta 0:00:01\r\u001b[K     |████████▊                       | 245 kB 24.5 MB/s eta 0:00:01\r\u001b[K     |█████████                       | 256 kB 24.5 MB/s eta 0:00:01\r\u001b[K     |█████████▍                      | 266 kB 24.5 MB/s eta 0:00:01\r\u001b[K     |█████████▉                      | 276 kB 24.5 MB/s eta 0:00:01\r\u001b[K     |██████████▏                     | 286 kB 24.5 MB/s eta 0:00:01\r\u001b[K     |██████████▌                     | 296 kB 24.5 MB/s eta 0:00:01\r\u001b[K     |██████████▉                     | 307 kB 24.5 MB/s eta 0:00:01\r\u001b[K     |███████████▎                    | 317 kB 24.5 MB/s eta 0:00:01\r\u001b[K     |███████████▋                    | 327 kB 24.5 MB/s eta 0:00:01\r\u001b[K     |████████████                    | 337 kB 24.5 MB/s eta 0:00:01\r\u001b[K     |████████████▎                   | 348 kB 24.5 MB/s eta 0:00:01\r\u001b[K     |████████████▊                   | 358 kB 24.5 MB/s eta 0:00:01\r\u001b[K     |█████████████                   | 368 kB 24.5 MB/s eta 0:00:01\r\u001b[K     |█████████████▍                  | 378 kB 24.5 MB/s eta 0:00:01\r\u001b[K     |█████████████▊                  | 389 kB 24.5 MB/s eta 0:00:01\r\u001b[K     |██████████████▏                 | 399 kB 24.5 MB/s eta 0:00:01\r\u001b[K     |██████████████▌                 | 409 kB 24.5 MB/s eta 0:00:01\r\u001b[K     |██████████████▉                 | 419 kB 24.5 MB/s eta 0:00:01\r\u001b[K     |███████████████▏                | 430 kB 24.5 MB/s eta 0:00:01\r\u001b[K     |███████████████▋                | 440 kB 24.5 MB/s eta 0:00:01\r\u001b[K     |████████████████                | 450 kB 24.5 MB/s eta 0:00:01\r\u001b[K     |████████████████▎               | 460 kB 24.5 MB/s eta 0:00:01\r\u001b[K     |████████████████▋               | 471 kB 24.5 MB/s eta 0:00:01\r\u001b[K     |█████████████████               | 481 kB 24.5 MB/s eta 0:00:01\r\u001b[K     |█████████████████▍              | 491 kB 24.5 MB/s eta 0:00:01\r\u001b[K     |█████████████████▊              | 501 kB 24.5 MB/s eta 0:00:01\r\u001b[K     |██████████████████▏             | 512 kB 24.5 MB/s eta 0:00:01\r\u001b[K     |██████████████████▌             | 522 kB 24.5 MB/s eta 0:00:01\r\u001b[K     |██████████████████▉             | 532 kB 24.5 MB/s eta 0:00:01\r\u001b[K     |███████████████████▏            | 542 kB 24.5 MB/s eta 0:00:01\r\u001b[K     |███████████████████▋            | 552 kB 24.5 MB/s eta 0:00:01\r\u001b[K     |████████████████████            | 563 kB 24.5 MB/s eta 0:00:01\r\u001b[K     |████████████████████▎           | 573 kB 24.5 MB/s eta 0:00:01\r\u001b[K     |████████████████████▋           | 583 kB 24.5 MB/s eta 0:00:01\r\u001b[K     |█████████████████████           | 593 kB 24.5 MB/s eta 0:00:01\r\u001b[K     |█████████████████████▍          | 604 kB 24.5 MB/s eta 0:00:01\r\u001b[K     |█████████████████████▊          | 614 kB 24.5 MB/s eta 0:00:01\r\u001b[K     |██████████████████████          | 624 kB 24.5 MB/s eta 0:00:01\r\u001b[K     |██████████████████████▌         | 634 kB 24.5 MB/s eta 0:00:01\r\u001b[K     |██████████████████████▉         | 645 kB 24.5 MB/s eta 0:00:01\r\u001b[K     |███████████████████████▏        | 655 kB 24.5 MB/s eta 0:00:01\r\u001b[K     |███████████████████████▌        | 665 kB 24.5 MB/s eta 0:00:01\r\u001b[K     |████████████████████████        | 675 kB 24.5 MB/s eta 0:00:01\r\u001b[K     |████████████████████████▎       | 686 kB 24.5 MB/s eta 0:00:01\r\u001b[K     |████████████████████████▋       | 696 kB 24.5 MB/s eta 0:00:01\r\u001b[K     |█████████████████████████       | 706 kB 24.5 MB/s eta 0:00:01\r\u001b[K     |█████████████████████████▍      | 716 kB 24.5 MB/s eta 0:00:01\r\u001b[K     |█████████████████████████▊      | 727 kB 24.5 MB/s eta 0:00:01\r\u001b[K     |██████████████████████████      | 737 kB 24.5 MB/s eta 0:00:01\r\u001b[K     |██████████████████████████▍     | 747 kB 24.5 MB/s eta 0:00:01\r\u001b[K     |██████████████████████████▉     | 757 kB 24.5 MB/s eta 0:00:01\r\u001b[K     |███████████████████████████▏    | 768 kB 24.5 MB/s eta 0:00:01\r\u001b[K     |███████████████████████████▌    | 778 kB 24.5 MB/s eta 0:00:01\r\u001b[K     |████████████████████████████    | 788 kB 24.5 MB/s eta 0:00:01\r\u001b[K     |████████████████████████████▎   | 798 kB 24.5 MB/s eta 0:00:01\r\u001b[K     |████████████████████████████▋   | 808 kB 24.5 MB/s eta 0:00:01\r\u001b[K     |█████████████████████████████   | 819 kB 24.5 MB/s eta 0:00:01\r\u001b[K     |█████████████████████████████▍  | 829 kB 24.5 MB/s eta 0:00:01\r\u001b[K     |█████████████████████████████▊  | 839 kB 24.5 MB/s eta 0:00:01\r\u001b[K     |██████████████████████████████  | 849 kB 24.5 MB/s eta 0:00:01\r\u001b[K     |██████████████████████████████▍ | 860 kB 24.5 MB/s eta 0:00:01\r\u001b[K     |██████████████████████████████▉ | 870 kB 24.5 MB/s eta 0:00:01\r\u001b[K     |███████████████████████████████▏| 880 kB 24.5 MB/s eta 0:00:01\r\u001b[K     |███████████████████████████████▌| 890 kB 24.5 MB/s eta 0:00:01\r\u001b[K     |███████████████████████████████▉| 901 kB 24.5 MB/s eta 0:00:01\r\u001b[K     |████████████████████████████████| 904 kB 24.5 MB/s \n",
            "\u001b[?25hRequirement already satisfied: urllib3 in /usr/local/lib/python3.7/dist-packages (from selenium) (1.24.3)\n",
            "Installing collected packages: selenium\n",
            "Successfully installed selenium-3.141.0\n"
          ],
          "name": "stdout"
        }
      ]
    },
    {
      "cell_type": "code",
      "metadata": {
        "id": "6de85e54"
      },
      "source": [
        "from bs4 import BeautifulSoup\n",
        "import requests\n",
        "from selenium import webdriver\n",
        "from selenium.webdriver.common.keys import Keys\n",
        "import time\n",
        "import csv\n",
        "import pandas as pd\n",
        "import datetime\n",
        "from datetime import datetime, timedelta\n",
        "import numpy as np\n",
        "import concurrent\n",
        "import multiprocessing\n",
        "from multiprocessing import pool"
      ],
      "id": "6de85e54",
      "execution_count": null,
      "outputs": []
    },
    {
      "cell_type": "code",
      "metadata": {
        "id": "tqLcUJBzINNz",
        "colab": {
          "base_uri": "https://localhost:8080/"
        },
        "outputId": "080e0632-a5da-48b8-b510-c8db27f434c5"
      },
      "source": [
        "!pip install kora -q"
      ],
      "id": "tqLcUJBzINNz",
      "execution_count": null,
      "outputs": [
        {
          "output_type": "stream",
          "text": [
            "\u001b[?25l\r\u001b[K     |█████▊                          | 10 kB 24.0 MB/s eta 0:00:01\r\u001b[K     |███████████▍                    | 20 kB 30.3 MB/s eta 0:00:01\r\u001b[K     |█████████████████               | 30 kB 36.9 MB/s eta 0:00:01\r\u001b[K     |██████████████████████▊         | 40 kB 40.2 MB/s eta 0:00:01\r\u001b[K     |████████████████████████████▍   | 51 kB 39.8 MB/s eta 0:00:01\r\u001b[K     |████████████████████████████████| 57 kB 5.4 MB/s \n",
            "\u001b[?25h\u001b[?25l\r\u001b[K     |██████                          | 10 kB 25.6 MB/s eta 0:00:01\r\u001b[K     |████████████▏                   | 20 kB 31.0 MB/s eta 0:00:01\r\u001b[K     |██████████████████▎             | 30 kB 37.1 MB/s eta 0:00:01\r\u001b[K     |████████████████████████▍       | 40 kB 42.2 MB/s eta 0:00:01\r\u001b[K     |██████████████████████████████▌ | 51 kB 45.7 MB/s eta 0:00:01\r\u001b[K     |████████████████████████████████| 53 kB 2.4 MB/s \n",
            "\u001b[?25h"
          ],
          "name": "stdout"
        }
      ]
    },
    {
      "cell_type": "code",
      "metadata": {
        "id": "gCtSt4wNIRvh"
      },
      "source": [
        "from kora.selenium import wd\n",
        "# wd.get(uss)"
      ],
      "id": "gCtSt4wNIRvh",
      "execution_count": null,
      "outputs": []
    },
    {
      "cell_type": "code",
      "metadata": {
        "id": "pgQrrwwyT0p5"
      },
      "source": [
        "def datecreator():\n",
        "  keys = [\"kanser\",\"prostat kanseri\",\"meme kanseri\"]\n",
        "  kanser_links = []\n",
        "  prostat_links = []\n",
        "  memekanseri_links=[]\n",
        "  kan_link =\"&key=kanser&where=/&how=Article,NewsPhotoGallery,Column&isDetail=false\" #1000 e kadar sayfa var kanser\n",
        "  pros_link = \"&key=prostat%20kanseri&where=/&how=Article,NewsPhotoGallery,Column&and=prostat%20kanseri&isDetail=false\" #75 e kadar sayfa var prostat kanseri\n",
        "  mem_link = \"&key=meme%20kanseri&where=/&how=Article,NewsPhotoGallery,Column&isDetail=false\" #266 ya kadar sayfa var meme kanseri\n",
        "\n",
        "  url=\"https://www.hurriyet.com.tr/arama#/?page=\" \n",
        "\n",
        "  for i in range(1,11,1):\n",
        "    kanser_links.append(\"{}{}{}\".format(url,i,kan_link))\n",
        "\n",
        "  for i in range(1,11,1):\n",
        "    prostat_links.append(\"{}{}{}\".format(url,i,pros_link))\n",
        "\n",
        "  for i in range(1,11,1):\n",
        "    memekanseri_links.append(\"{}{}{}\".format(url,i,mem_link))\n",
        "  return kanser_links,memekanseri_links,prostat_links"
      ],
      "id": "pgQrrwwyT0p5",
      "execution_count": null,
      "outputs": []
    },
    {
      "cell_type": "code",
      "metadata": {
        "id": "uC7u4zKwsAO6"
      },
      "source": [
        "def datecreator2():#verilerin tümünün çekilmesi için yıllık aramaya göre yapılması uygun\n",
        "  keys = [\"kanser\",\"prostat kanseri\",\"meme kanseri\"]\n",
        "  kanser_links = []\n",
        "  prostat_links = []\n",
        "  memekanseri_links=[]\n",
        "  kan_link =\"&key=kanser&where=/&how=Article,NewsPhotoGallery,Column&isDetail=false\" #1000 e kadar sayfa var kanser\n",
        "  pros_link = \"&key=prostat%20kanseri&where=/&how=Article,NewsPhotoGallery,Column&and=prostat%20kanseri&isDetail=false\" #75 e kadar sayfa var prostat kanseri\n",
        "  mem_link = \"&key=meme%20kanseri&where=/&how=Article,NewsPhotoGallery,Column&isDetail=false\" #266 ya kadar sayfa var meme kanseri\n",
        "\n",
        "  url=\"https://www.hurriyet.com.tr/arama#/?page=\" \n",
        "\n",
        "  for i in range(1,11,1):\n",
        "    kanser_links.append(\"{}{}{}\".format(url,i,kan_link))\n",
        "\n",
        "  for i in range(1,11,1):\n",
        "    prostat_links.append(\"{}{}{}\".format(url,i,pros_link))\n",
        "\n",
        "  for i in range(1,11,1):\n",
        "    memekanseri_links.append(\"{}{}{}\".format(url,i,mem_link))\n",
        "  return kanser_links,memekanseri_links,prostat_links"
      ],
      "id": "uC7u4zKwsAO6",
      "execution_count": null,
      "outputs": []
    },
    {
      "cell_type": "code",
      "metadata": {
        "id": "tc3U5417Uz5M",
        "colab": {
          "base_uri": "https://localhost:8080/"
        },
        "outputId": "80d30b39-af7d-42e9-a68e-51523e57ad09"
      },
      "source": [
        "page_kanser_links,page_memekanseri_links,page_prostat_links = datecreator()\n",
        "print(page_kanser_links)\n",
        "print(page_memekanseri_links)\n",
        "print(page_prostat_links)"
      ],
      "id": "tc3U5417Uz5M",
      "execution_count": null,
      "outputs": [
        {
          "output_type": "stream",
          "text": [
            "['https://www.hurriyet.com.tr/arama#/?page=1&key=kanser&where=/&how=Article,NewsPhotoGallery,Column&isDetail=false', 'https://www.hurriyet.com.tr/arama#/?page=2&key=kanser&where=/&how=Article,NewsPhotoGallery,Column&isDetail=false', 'https://www.hurriyet.com.tr/arama#/?page=3&key=kanser&where=/&how=Article,NewsPhotoGallery,Column&isDetail=false', 'https://www.hurriyet.com.tr/arama#/?page=4&key=kanser&where=/&how=Article,NewsPhotoGallery,Column&isDetail=false', 'https://www.hurriyet.com.tr/arama#/?page=5&key=kanser&where=/&how=Article,NewsPhotoGallery,Column&isDetail=false', 'https://www.hurriyet.com.tr/arama#/?page=6&key=kanser&where=/&how=Article,NewsPhotoGallery,Column&isDetail=false', 'https://www.hurriyet.com.tr/arama#/?page=7&key=kanser&where=/&how=Article,NewsPhotoGallery,Column&isDetail=false', 'https://www.hurriyet.com.tr/arama#/?page=8&key=kanser&where=/&how=Article,NewsPhotoGallery,Column&isDetail=false', 'https://www.hurriyet.com.tr/arama#/?page=9&key=kanser&where=/&how=Article,NewsPhotoGallery,Column&isDetail=false', 'https://www.hurriyet.com.tr/arama#/?page=10&key=kanser&where=/&how=Article,NewsPhotoGallery,Column&isDetail=false']\n",
            "['https://www.hurriyet.com.tr/arama#/?page=1&key=meme%20kanseri&where=/&how=Article,NewsPhotoGallery,Column&isDetail=false', 'https://www.hurriyet.com.tr/arama#/?page=2&key=meme%20kanseri&where=/&how=Article,NewsPhotoGallery,Column&isDetail=false', 'https://www.hurriyet.com.tr/arama#/?page=3&key=meme%20kanseri&where=/&how=Article,NewsPhotoGallery,Column&isDetail=false', 'https://www.hurriyet.com.tr/arama#/?page=4&key=meme%20kanseri&where=/&how=Article,NewsPhotoGallery,Column&isDetail=false', 'https://www.hurriyet.com.tr/arama#/?page=5&key=meme%20kanseri&where=/&how=Article,NewsPhotoGallery,Column&isDetail=false', 'https://www.hurriyet.com.tr/arama#/?page=6&key=meme%20kanseri&where=/&how=Article,NewsPhotoGallery,Column&isDetail=false', 'https://www.hurriyet.com.tr/arama#/?page=7&key=meme%20kanseri&where=/&how=Article,NewsPhotoGallery,Column&isDetail=false', 'https://www.hurriyet.com.tr/arama#/?page=8&key=meme%20kanseri&where=/&how=Article,NewsPhotoGallery,Column&isDetail=false', 'https://www.hurriyet.com.tr/arama#/?page=9&key=meme%20kanseri&where=/&how=Article,NewsPhotoGallery,Column&isDetail=false', 'https://www.hurriyet.com.tr/arama#/?page=10&key=meme%20kanseri&where=/&how=Article,NewsPhotoGallery,Column&isDetail=false']\n",
            "['https://www.hurriyet.com.tr/arama#/?page=1&key=prostat%20kanseri&where=/&how=Article,NewsPhotoGallery,Column&and=prostat%20kanseri&isDetail=false', 'https://www.hurriyet.com.tr/arama#/?page=2&key=prostat%20kanseri&where=/&how=Article,NewsPhotoGallery,Column&and=prostat%20kanseri&isDetail=false', 'https://www.hurriyet.com.tr/arama#/?page=3&key=prostat%20kanseri&where=/&how=Article,NewsPhotoGallery,Column&and=prostat%20kanseri&isDetail=false', 'https://www.hurriyet.com.tr/arama#/?page=4&key=prostat%20kanseri&where=/&how=Article,NewsPhotoGallery,Column&and=prostat%20kanseri&isDetail=false', 'https://www.hurriyet.com.tr/arama#/?page=5&key=prostat%20kanseri&where=/&how=Article,NewsPhotoGallery,Column&and=prostat%20kanseri&isDetail=false', 'https://www.hurriyet.com.tr/arama#/?page=6&key=prostat%20kanseri&where=/&how=Article,NewsPhotoGallery,Column&and=prostat%20kanseri&isDetail=false', 'https://www.hurriyet.com.tr/arama#/?page=7&key=prostat%20kanseri&where=/&how=Article,NewsPhotoGallery,Column&and=prostat%20kanseri&isDetail=false', 'https://www.hurriyet.com.tr/arama#/?page=8&key=prostat%20kanseri&where=/&how=Article,NewsPhotoGallery,Column&and=prostat%20kanseri&isDetail=false', 'https://www.hurriyet.com.tr/arama#/?page=9&key=prostat%20kanseri&where=/&how=Article,NewsPhotoGallery,Column&and=prostat%20kanseri&isDetail=false', 'https://www.hurriyet.com.tr/arama#/?page=10&key=prostat%20kanseri&where=/&how=Article,NewsPhotoGallery,Column&and=prostat%20kanseri&isDetail=false']\n"
          ],
          "name": "stdout"
        }
      ]
    },
    {
      "cell_type": "code",
      "metadata": {
        "id": "d0988801"
      },
      "source": [
        "# def write_to_txt(data):\n",
        "#     with open(\"hürriyetcontent.txt\", 'a') as file: \n",
        "#         file.write(data+'\\n')\n",
        "#         file.truncate()"
      ],
      "id": "d0988801",
      "execution_count": null,
      "outputs": []
    },
    {
      "cell_type": "code",
      "metadata": {
        "id": "a7d68a23"
      },
      "source": [
        "def get_link_kanser(i):\n",
        "    \n",
        "    sayfa =i\n",
        "    browser = wd\n",
        "    # driver_path = \"C:/Users/koray/Desktop/chromedriver.exe\"\n",
        "    # browser = webdriver.Chrome(driver_path)\n",
        "    browser.get(sayfa)\n",
        "    test = []\n",
        "    dizi = []\n",
        "    sayfa_kaynağı = browser.page_source\n",
        "    soup = BeautifulSoup(sayfa_kaynağı, \"html.parser\")\n",
        "    for a in soup.find_all('a', href=True):\n",
        "        test.append(a['href'])\n",
        "\n",
        "    for i in test:\n",
        "        if not i in dizi:           #çekilen linklerde aynı olan verileri teke düşürüyor \n",
        "            result = i.startswith(('http://www.hurriyet.com.tr/egitim','http://www.hurriyet.com.tr/gundem','http://www.hurriyet.com.tr/yazarlar','http://www.hurriyet.com.tr/avrupa','http://www.hurriyet.com.tr/kelebek','http://www.hurriyet.com.tr/teknoloji','http://www.hurriyet.com.tr/yerel-haberler'), 0, 35) #standartlara uygun linkleri çekiyor \n",
        "            link = i\n",
        "            if result == True:\n",
        "                if len(link)>50:\n",
        "                    with open(\"hurriyet_link_kanser.txt\", 'a') as file: \n",
        "                        file.write(link+'\\n')\n",
        "                        dizi.append(link)\n",
        "               #print(\"**\")\n",
        "               #ilk sayfa 40 haber çekiyo\n",
        "    # return dizi"
      ],
      "id": "a7d68a23",
      "execution_count": null,
      "outputs": []
    },
    {
      "cell_type": "code",
      "metadata": {
        "id": "kuPNr5BLmV0i"
      },
      "source": [
        "def get_link_kanser2(i):\n",
        "    sayfa =i\n",
        "    browser = wd\n",
        "    # driver_path = \"C:/Users/koray/Desktop/chromedriver.exe\"\n",
        "    # browser = webdriver.Chrome(driver_path)\n",
        "    browser.get(sayfa)\n",
        "    test = []\n",
        "    dizi = []\n",
        "    counter=0\n",
        "    sayfa_kaynağı = browser.page_source\n",
        "    soup = BeautifulSoup(sayfa_kaynağı, \"html.parser\")\n",
        "    for a in soup.find_all('a', href=True):\n",
        "        test.append(a['href'])\n",
        "    for i in test:\n",
        "      # print(len(i))\n",
        "      counter+=1\n",
        "      if (len(i)<40 or i.startswith('/')):\n",
        "        pass\n",
        "      else:\n",
        "        if counter%5==1:\n",
        "          print(i)\n",
        "        if counter>61:\n",
        "          break\n",
        "\n",
        "\n",
        "    # for i in range(len(test)):\n",
        "\n",
        "    #   lnk=test[i].a.get(\"href\")\n",
        "    #   if (len(lnk)<50 or lnk.startswith('/')):\n",
        "    #     pass\n",
        "    #   else :\n",
        "    #     while(counter<51):  #https://www.hurriyet.com.tr/arama/#/?page=28&key=meme%20kanseri&where=hurriyet&how=Article,Column,NewsPhotoGallery,NewsVideo,Recipe&and=kanser&year=2003&platform=hurriyet&isDetail=true\n",
        "    #       counter+=1\n",
        "    #       print(counter)\n",
        "    #       if (counter%5==0):\n",
        "    #         print(lnk)\n",
        "    #       if counter>50:\n",
        "    #         break\n",
        "\n",
        "    #     test.append(a['href'])\n",
        "    # for i in test:\n",
        "    #     if not i in dizi:           #çekilen linklerde aynı olan verileri teke düşürüyor \n",
        "    #         result = i.startswith(('http://www.hurriyet.com.tr/egitim','http://www.hurriyet.com.tr/gundem','http://www.hurriyet.com.tr/dunya','http://www.hurriyet.com.tr/yazarlar','http://www.hurriyet.com.tr/avrupa','http://www.hurriyet.com.tr/kelebek','http://www.hurriyet.com.tr/teknoloji','http://www.hurriyet.com.tr/yerel-haberler'), 0, 35) #standartlara uygun linkleri çekiyor \n",
        "    #         link = i\n",
        "    #         if result == True:\n",
        "    #           if len(link)>50:\n",
        "                  with open(\"hurriyet_link_meme_kanseri.txt\", 'a') as file: \n",
        "                      file.write(link+'\\n')\n",
        "    #                   # dizi.append(link)"
      ],
      "id": "kuPNr5BLmV0i",
      "execution_count": null,
      "outputs": []
    },
    {
      "cell_type": "code",
      "metadata": {
        "id": "8HyQM1W4De2H"
      },
      "source": [
        "def get_link_kanser22(i):\n",
        "    # sayfa =i\n",
        "    wd.refresh()   #eğer refresh konulmazsa hep aynı düngü gerçekleşir\n",
        "    browser = wd\n",
        "    # driver_path = \"C:/Users/koray/Desktop/chromedriver.exe\"\n",
        "    # browser = webdriver.Chrome(driver_path)\n",
        "    browser.get(i)\n",
        "    # r = requests.get(url)   \n",
        "    # soup = BeautifulSoup(r.content, 'html.parser')\n",
        "    test = []\n",
        "    dizi = []\n",
        "    counter=0\n",
        "    sayfa_kaynağı = browser.page_source\n",
        "    soup = BeautifulSoup(sayfa_kaynağı, \"html.parser\")\n",
        "    for a in soup.find_all('a', href=True):\n",
        "        test.append(a['href'])\n",
        "        # print(a.get(\"href\"))\n",
        "    for i in test:\n",
        "      # print(len(i))\n",
        "      counter+=1\n",
        "      if (len(i)<50 or i.startswith('/') or i.startswith('https://reklamver')or i.startswith('https://www.hurriyet.com.tr/seyahat')or i.startswith('http://www.hurriyet.com.tr/seyahat')or i.startswith('http://www.hurriyet.com.tr/istanbul/merkez-haberleri') or i.startswith('http://www.hurriyet.com.tr/adana/merkez-haberleri/')or i.startswith('https://www.hurriyet.com.tr/spor')or i.startswith('https://www.hurriyet.com.tr/istanbul-namaz')):\n",
        "        pass\n",
        "      else:\n",
        "        if counter%5==1:\n",
        "          with open(\"hurriyet_link_meme_kanseri.txt\", 'a') as file: \n",
        "            file.write(i+'\\n')\n",
        "        if counter>61:\n",
        "          break"
      ],
      "id": "8HyQM1W4De2H",
      "execution_count": null,
      "outputs": []
    },
    {
      "cell_type": "code",
      "metadata": {
        "colab": {
          "base_uri": "https://localhost:8080/"
        },
        "id": "760UQyQX50B7",
        "outputId": "d78ef214-7a46-420a-d997-d0153bc81093"
      },
      "source": [
        "uus=\"https://www.hurriyet.com.tr/arama/#/?page=28&key=meme%20kanseri&where=hurriyet&how=Article,Column,NewsPhotoGallery,NewsVideo,Recipe&and=kanser&year=2003&platform=hurriyet&isDetail=true\"\n",
        "get_link_kanser2(uus)"
      ],
      "id": "760UQyQX50B7",
      "execution_count": null,
      "outputs": [
        {
          "output_type": "stream",
          "text": [
            "http://www.hurriyet.com.tr/gundem/nobel-tip-odulu-mr-arastirmasina-38502268\n",
            "http://www.hurriyet.com.tr/gundem/trakyada-ilk-mor-karnabahar-38504174\n",
            "http://www.hurriyet.com.tr/gundem/hucre-cekirdegine-lazerli-mucadele-38505258\n",
            "http://www.hurriyet.com.tr/gundem/bir-bina-masumiyeti-ispat-edilinceye-kadar-sucludur-38508040\n",
            "http://www.hurriyet.com.tr/gundem/okur-temsilcisine-mektuplar-38508421\n",
            "http://www.hurriyet.com.tr/gundem/deodorantla-kanser-iliskisi-38473306\n",
            "http://www.hurriyet.com.tr/gundem/prostat-kanserini-yavaslatan-protein-bulundu-38474158\n",
            "http://www.hurriyet.com.tr/gundem/istanbul-ve-ankara-niye-yok-38474867\n",
            "http://www.hurriyet.com.tr/gundem/hastaya-bakmak-hasta-ediyor-38478495\n",
            "http://www.hurriyet.com.tr/gundem/aksama-kadar-okey-oynayan-ogretmen-var-38479210\n"
          ],
          "name": "stdout"
        }
      ]
    },
    {
      "cell_type": "code",
      "metadata": {
        "id": "AIY6D3jGCXEO"
      },
      "source": [
        "for i in hurriyet_meme_kanser_pages:\n",
        "  print(i)\n",
        "  # get_link_kanser22(i)"
      ],
      "id": "AIY6D3jGCXEO",
      "execution_count": null,
      "outputs": []
    },
    {
      "cell_type": "code",
      "metadata": {
        "colab": {
          "base_uri": "https://localhost:8080/"
        },
        "id": "RFnvx2KDhAKZ",
        "outputId": "89e61b90-a260-4b8c-a7fa-ed8c2cceb799"
      },
      "source": [
        "t1=time.time()\n",
        "with concurrent.futures.ProcessPoolExecutor() as execut:\n",
        "  b_res=[execut.submit(get_link_kanser22,i.strip()) for i in hurriyet_kanser_pages]\n",
        "\n",
        "print(time.time()-t1)"
      ],
      "id": "RFnvx2KDhAKZ",
      "execution_count": null,
      "outputs": [
        {
          "output_type": "stream",
          "text": [
            "2078.9656295776367\n"
          ],
          "name": "stdout"
        }
      ]
    },
    {
      "cell_type": "code",
      "metadata": {
        "id": "zOnwU_8ApIU3"
      },
      "source": [
        "for i in hurriyet_meme_kanser_pages:\n",
        "  print(i.strip())\n",
        "  get_link_kanser2(i.strip())"
      ],
      "id": "zOnwU_8ApIU3",
      "execution_count": null,
      "outputs": []
    },
    {
      "cell_type": "code",
      "metadata": {
        "colab": {
          "base_uri": "https://localhost:8080/"
        },
        "id": "jvhBpVgBn2SV",
        "outputId": "c87b70fa-c7af-444c-de02-3377e759c881"
      },
      "source": [
        "t1=time.time()\n",
        "with concurrent.futures.ProcessPoolExecutor() as execut:\n",
        "  b_res=[execut.submit(get_link_kanser22,i.strip()) for i in hurriyet_prostat_kanser_pages]\n",
        "\n",
        "print(time.time()-t1)"
      ],
      "id": "jvhBpVgBn2SV",
      "execution_count": null,
      "outputs": [
        {
          "output_type": "stream",
          "text": [
            "1703.9930620193481\n"
          ],
          "name": "stdout"
        }
      ]
    },
    {
      "cell_type": "code",
      "metadata": {
        "id": "aKJHWU77u6G5"
      },
      "source": [
        "t1=time.time()\n",
        "with concurrent.futures.ProcessPoolExecutor() as execut:\n",
        "  b_res=[execut.submit(get_link_kanser22,i.strip()) for i in hurriyet_meme_kanser_pages]\n",
        "\n",
        "print(time.time()-t1)"
      ],
      "id": "aKJHWU77u6G5",
      "execution_count": null,
      "outputs": []
    },
    {
      "cell_type": "code",
      "metadata": {
        "id": "xVjRPHoDWyLX"
      },
      "source": [
        "import math"
      ],
      "id": "xVjRPHoDWyLX",
      "execution_count": null,
      "outputs": []
    },
    {
      "cell_type": "code",
      "metadata": {
        "id": "cPqUYD-VR1AX"
      },
      "source": [
        "def page_count_finder(url):\n",
        "  browser=wd\n",
        "  browser.get(url)   \n",
        "  page_sour=browser.page_source\n",
        "  soup = BeautifulSoup(page_sour, 'html5lib')\n",
        "  # sayi=soup.find(\"p\",{\"class\":\"hs-cfr-text\"})\n",
        "  # print(\"ss\")\n",
        "  # h=sayi.find(\"span\",{\"class\":\"totalArticle\"}).getText()\n",
        "  z=soup.find(\"span\",{\"class\":\"totalArticle\"})\n",
        "  # print(z)\n",
        "  h=(float(z.getText()))/10\n",
        "  return (math.ceil(h)+1) # ceil tavan 15.1 =16    round taban => 15.9 =15 \n",
        "  "
      ],
      "id": "cPqUYD-VR1AX",
      "execution_count": null,
      "outputs": []
    },
    {
      "cell_type": "code",
      "metadata": {
        "colab": {
          "base_uri": "https://localhost:8080/"
        },
        "id": "t8jV4UejRiTB",
        "outputId": "131f276e-4a50-4947-eb54-163bbc2b70c3"
      },
      "source": [
        "page_count=page_count_finder(dene)\n",
        "page_count"
      ],
      "id": "t8jV4UejRiTB",
      "execution_count": null,
      "outputs": [
        {
          "output_type": "execute_result",
          "data": {
            "text/plain": [
              "35"
            ]
          },
          "metadata": {
            "tags": []
          },
          "execution_count": 87
        }
      ]
    },
    {
      "cell_type": "code",
      "metadata": {
        "id": "sZvzN8o5YV0O"
      },
      "source": [
        "kanser_pages_links=[]\n",
        "urr=\"https://www.hurriyet.com.tr/arama/#/?page=1&key=meme%20kanseri&where=hurriyet&how=Article,Column,NewsPhotoGallery,NewsVideo,Recipe&and=kanser&year={}&platform=hurriyet&isDetail=true\"\n",
        "for i in range(1999,2022,1):\n",
        "  new_urr=urr.format(i)   #urr içine tarih ekleme\n",
        "  print(new_urr)     #1999 ...2021\n",
        "  p_count=page_count_finder(new_urr)\n",
        "  print(p_count)\n",
        "  for i in range(1,p_count,1):\n",
        "    i=str(i)\n",
        "    pl=new_urr.replace('page=1',\"page=\"+i)\n",
        "    print(pl)\n",
        "    # kanser_pages_links.append(pl)\n",
        "    # with open(\"hürriyet_meme_kanseri_pages.txt\", 'a') as file: \n",
        "    #     file.write(pl+'\\n')\n",
        "  print(\"--------------------\")"
      ],
      "id": "sZvzN8o5YV0O",
      "execution_count": null,
      "outputs": []
    },
    {
      "cell_type": "code",
      "metadata": {
        "id": "ZzANSiOGb4zL"
      },
      "source": [
        "for i in kanser_pages_links:\n",
        "  print(i)"
      ],
      "id": "ZzANSiOGb4zL",
      "execution_count": null,
      "outputs": []
    },
    {
      "cell_type": "code",
      "metadata": {
        "id": "JAEpEBuBW9vg"
      },
      "source": [
        "def get_link_prostatkanseri(i):\n",
        "    sayfa =i\n",
        "    print(sayfa)\n",
        "    browser = wd\n",
        "    # driver_path = \"C:/Users/koray/Desktop/chromedriver.exe\"\n",
        "    # browser = webdriver.Chrome(driver_path)\n",
        "    browser.get(sayfa)\n",
        "    test = []\n",
        "    dizi = []\n",
        "    sayfa_kaynağı = browser.page_source\n",
        "    soup = BeautifulSoup(sayfa_kaynağı, \"html.parser\")\n",
        "    for a in soup.find_all('a', href=True):\n",
        "        test.append(a['href'])\n",
        "      \n",
        "    for i in test:\n",
        "        if not i in dizi:           #çekilen linklerde aynı olan verileri teke düşürüyor \n",
        "            result = i.startswith(('http://www.hurriyet.com.tr/egitim','http://www.hurriyet.com.tr/gundem','http://www.hurriyet.com.tr/yazarlar','http://www.hurriyet.com.tr/avrupa','http://www.hurriyet.com.tr/kelebek','http://www.hurriyet.com.tr/gundem','http://www.hurriyet.com.tr/yerel-haberler'), 0, 35) #standartlara uygun linkleri çekiyor \n",
        "            link = i\n",
        "            if result == True:\n",
        "                if len(link)>50:\n",
        "                    with open(\"hürriyet_link_prostat_kanser.txt\", 'a') as file: \n",
        "                        file.write(link+'\\n')\n",
        "                        dizi.append(link)\n",
        "               #print(\"**\")\n",
        "               #ilk sayfa 40 haber çekiyo\n",
        "    return dizi"
      ],
      "id": "JAEpEBuBW9vg",
      "execution_count": null,
      "outputs": []
    },
    {
      "cell_type": "code",
      "metadata": {
        "id": "eGIfuhAuW9tQ"
      },
      "source": [
        "def get_link_memekanseri(i):\n",
        "    sayfa =i\n",
        "    print(sayfa)\n",
        "    browser = wd\n",
        "    # driver_path = \"C:/Users/koray/Desktop/chromedriver.exe\"\n",
        "    # browser = webdriver.Chrome(driver_path)\n",
        "    browser.get(sayfa)\n",
        "    print(sayfa)\n",
        "    test = []\n",
        "    dizi = []\n",
        "    sayfa_kaynağı = browser.page_source\n",
        "    soup = BeautifulSoup(sayfa_kaynağı, \"html.parser\")\n",
        "    for a in soup.find_all('a', href=True):\n",
        "        test.append(a['href'])\n",
        "    for i in test:\n",
        "        if not i in dizi:           #çekilen linklerde aynı olan verileri teke düşürüyor \n",
        "            result = i.startswith(('http://www.hurriyet.com.tr/egitim','http://www.hurriyet.com.tr/gundem','http://www.hurriyet.com.tr/yazarlar','http://www.hurriyet.com.tr/avrupa','http://www.hurriyet.com.tr/kelebek','http://www.hurriyet.com.tr/gundem','http://www.hurriyet.com.tr/yerel-haberler'), 0, 35) #standartlara uygun linkleri çekiyor \n",
        "            link = i\n",
        "            if result == True:\n",
        "                if len(link)>50:\n",
        "                    with open(\"hürriyet_link_meme_kanser.txt\", 'a') as file: \n",
        "                        file.write(link+'\\n')\n",
        "                        dizi.append(link)\n",
        "               #print(\"**\")\n",
        "               #ilk sayfa 40 haber çekiyo\n",
        "    return dizi"
      ],
      "id": "eGIfuhAuW9tQ",
      "execution_count": null,
      "outputs": []
    },
    {
      "cell_type": "code",
      "metadata": {
        "id": "cfc45150"
      },
      "source": [
        "def creator1(url):\n",
        "    r = requests.get(url)   \n",
        "    soup = BeautifulSoup(r.content, 'html5lib')\n",
        "    title = soup.find(\"h1\", attrs = {\"class\":\"title-news-detail\"}).getText()\n",
        "    content_array = soup.find(\"div\", attrs = {\"class\":\"rhd-all-article-detail\"}).getText()\n",
        "    date = soup.find(\"span\", attrs = {\"class\":\"rhd-time-box-text\"}).getText()\n",
        "    date = date.split()\n",
        "    date = date[2]\n",
        "    content_array = content_array.split()\n",
        "    content_string = \"\"\n",
        "    for w in content_array:\n",
        "        content_string = content_string+\" \"+w\n",
        "        #w_data = url+\";\"+date+\";\"+title+\";\"+content_string\n",
        "    w_data=\"{};{};{};{}\".format(url,date,title,content_string)\n",
        "    #print(w_data)\n",
        "    # write_to_txt(w_data)\n",
        "    with open(\"hürriyet_content_kanser.txt\", 'a') as file: \n",
        "        file.write(w_data+'\\n')"
      ],
      "id": "cfc45150",
      "execution_count": null,
      "outputs": []
    },
    {
      "cell_type": "code",
      "metadata": {
        "id": "0hYteOgReQl-"
      },
      "source": [
        "def creator2(url):\n",
        "    r = requests.get(url)   \n",
        "    soup = BeautifulSoup(r.content, 'html5lib')\n",
        "    title = soup.find(\"h1\", attrs = {\"class\":\"title-news-detail\"}).getText()\n",
        "    content_array = soup.find(\"div\", attrs = {\"class\":\"rhd-all-article-detail\"}).getText()\n",
        "    date = soup.find(\"span\", attrs = {\"class\":\"rhd-time-box-text\"}).getText()\n",
        "    date = date.split()\n",
        "    date = date[2]\n",
        "    content_array = content_array.split()\n",
        "    content_string = \"\"\n",
        "    for w in content_array:\n",
        "        content_string = content_string+\" \"+w\n",
        "        #w_data = url+\";\"+date+\";\"+title+\";\"+content_string\n",
        "    w_data=\"{};{};{};{}\".format(url,date,title,content_string)\n",
        "    #print(w_data)\n",
        "    # write_to_txt(w_data)\n",
        "    with open(\"hürriyet_content_prostat_kanser.txt\", 'a') as file: \n",
        "        file.write(w_data+'\\n')"
      ],
      "id": "0hYteOgReQl-",
      "execution_count": null,
      "outputs": []
    },
    {
      "cell_type": "code",
      "metadata": {
        "id": "5PGpSRFoeQjt"
      },
      "source": [
        "def creator3(url):\n",
        "    r = requests.get(url)   \n",
        "    soup = BeautifulSoup(r.content, 'html5lib')\n",
        "    title = soup.find(\"h1\", attrs = {\"class\":\"title-news-detail\"}).getText()\n",
        "    content_array = soup.find(\"div\", attrs = {\"class\":\"rhd-all-article-detail\"}).getText()\n",
        "    date = soup.find(\"span\", attrs = {\"class\":\"rhd-time-box-text\"}).getText()\n",
        "    date = date.split()\n",
        "    date = date[2]\n",
        "    content_array = content_array.split()\n",
        "    content_string = \"\"\n",
        "    for w in content_array:\n",
        "        content_string = content_string+\" \"+w\n",
        "        #w_data = url+\";\"+date+\";\"+title+\";\"+content_string\n",
        "    w_data=\"{};{};{};{}\".format(url,date,title,content_string)\n",
        "    #print(w_data)\n",
        "    # write_to_txt(w_data)\n",
        "    with open(\"hürriyet_content_meme_kanser.txt\", 'a') as file: \n",
        "        file.write(w_data+'\\n')"
      ],
      "id": "5PGpSRFoeQjt",
      "execution_count": null,
      "outputs": []
    },
    {
      "cell_type": "code",
      "metadata": {
        "id": "26da4348"
      },
      "source": [
        "page_kanser_links,page_memekanseri_links,page_prostat_links = datecreator()\n",
        "\n",
        "dizi = []\n",
        "count= 0 \n",
        "for i in page_kanser_links:\n",
        "    try:\n",
        "       get_link_kanser(i)\n",
        "    except:\n",
        "        print('Format Dışı Link')\n",
        "\n",
        "\n",
        "for i in page_prostat_links:\n",
        "    try:\n",
        "       get_link_prostatkanseri(i)\n",
        "       \n",
        "    except:\n",
        "        print('Format Dışı Link')\n",
        "\n",
        "\n",
        "for i in page_memekanseri_links:\n",
        "    try:\n",
        "      get_link_memekanseri(i)\n",
        "       \n",
        "    except:\n",
        "        print('Format Dışı Link')\n",
        "\n"
      ],
      "id": "26da4348",
      "execution_count": null,
      "outputs": []
    },
    {
      "cell_type": "code",
      "metadata": {
        "id": "XGuFLf3brKwT",
        "colab": {
          "base_uri": "https://localhost:8080/"
        },
        "outputId": "99eaec5a-33f7-4bc5-e1b5-189f7b787010"
      },
      "source": [
        "for i in page_kanser_links:\n",
        "  print(i)"
      ],
      "id": "XGuFLf3brKwT",
      "execution_count": null,
      "outputs": [
        {
          "output_type": "stream",
          "text": [
            "https://www.hurriyet.com.tr/arama#/?page=1&key=kanser&where=/&how=Article,NewsPhotoGallery,Column&isDetail=false\n",
            "https://www.hurriyet.com.tr/arama#/?page=2&key=kanser&where=/&how=Article,NewsPhotoGallery,Column&isDetail=false\n",
            "https://www.hurriyet.com.tr/arama#/?page=3&key=kanser&where=/&how=Article,NewsPhotoGallery,Column&isDetail=false\n",
            "https://www.hurriyet.com.tr/arama#/?page=4&key=kanser&where=/&how=Article,NewsPhotoGallery,Column&isDetail=false\n",
            "https://www.hurriyet.com.tr/arama#/?page=5&key=kanser&where=/&how=Article,NewsPhotoGallery,Column&isDetail=false\n",
            "https://www.hurriyet.com.tr/arama#/?page=6&key=kanser&where=/&how=Article,NewsPhotoGallery,Column&isDetail=false\n",
            "https://www.hurriyet.com.tr/arama#/?page=7&key=kanser&where=/&how=Article,NewsPhotoGallery,Column&isDetail=false\n",
            "https://www.hurriyet.com.tr/arama#/?page=8&key=kanser&where=/&how=Article,NewsPhotoGallery,Column&isDetail=false\n",
            "https://www.hurriyet.com.tr/arama#/?page=9&key=kanser&where=/&how=Article,NewsPhotoGallery,Column&isDetail=false\n",
            "https://www.hurriyet.com.tr/arama#/?page=10&key=kanser&where=/&how=Article,NewsPhotoGallery,Column&isDetail=false\n"
          ],
          "name": "stdout"
        }
      ]
    },
    {
      "cell_type": "code",
      "metadata": {
        "id": "A0ZDh4vmcDhl"
      },
      "source": [
        "import os\n",
        "import csv\n",
        "import concurrent\n",
        "import multiprocessing\n",
        "from multiprocessing import pool\n",
        "import io\n",
        "from pprint import pprint\n",
        "hurriyet_kanser_pages=[]\n",
        "with open(\"hürriyet_kanser_pages.txt\",'r',newline='') as f:\n",
        "  for i in f.readlines():    \n",
        "  # reader=csv.reader(f)\n",
        "    hurriyet_kanser_pages.append(i)"
      ],
      "id": "A0ZDh4vmcDhl",
      "execution_count": null,
      "outputs": []
    },
    {
      "cell_type": "code",
      "metadata": {
        "id": "PaxC1rcqcDjr",
        "colab": {
          "base_uri": "https://localhost:8080/"
        },
        "outputId": "e2d26228-9cd5-4c62-dad2-5bd7b1aa52ba"
      },
      "source": [
        "t1=time.time()\n",
        "with concurrent.futures.ProcessPoolExecutor() as execut:\n",
        "  b_res=[execut.submit(creator1,i.strip()) for i in hurriyet_kanser_links]\n",
        "\n",
        "print(time.time()-t1)"
      ],
      "id": "PaxC1rcqcDjr",
      "execution_count": null,
      "outputs": [
        {
          "output_type": "stream",
          "text": [
            "26.42104434967041\n"
          ],
          "name": "stdout"
        }
      ]
    },
    {
      "cell_type": "code",
      "metadata": {
        "id": "CMnjLVkPecUM"
      },
      "source": [
        "hurriyet_prostat_kanser_pages=[]\n",
        "with open(\"hürriyet_prostat_kanseri_pages.txt\",'r',newline='') as f:\n",
        "  for i in f.readlines():    \n",
        "  # reader=csv.reader(f)\n",
        "    hurriyet_prostat_kanser_pages.append(i)"
      ],
      "id": "CMnjLVkPecUM",
      "execution_count": null,
      "outputs": []
    },
    {
      "cell_type": "code",
      "metadata": {
        "id": "NUKzZEtfecWV",
        "colab": {
          "base_uri": "https://localhost:8080/"
        },
        "outputId": "ece6f0ce-0406-4752-f2eb-3516447d0b27"
      },
      "source": [
        "t1=time.time()\n",
        "with concurrent.futures.ProcessPoolExecutor() as execut:\n",
        "  b_res=[execut.submit(creator2,i.strip()) for i in hurriyet_prostat_kanser_links]\n",
        "\n",
        "print(time.time()-t1)"
      ],
      "id": "NUKzZEtfecWV",
      "execution_count": null,
      "outputs": [
        {
          "output_type": "stream",
          "text": [
            "22.27637767791748\n"
          ],
          "name": "stdout"
        }
      ]
    },
    {
      "cell_type": "code",
      "metadata": {
        "id": "SXxKsRKyecYl"
      },
      "source": [
        "hurriyet_meme_kanser_pages=[]\n",
        "with open(\"hürriyet_meme_kanseri_pages.txt\",'r',newline='') as f:\n",
        "  for i in f.readlines():    \n",
        "  # reader=csv.reader(f)\n",
        "    hurriyet_meme_kanser_pages.append(i)"
      ],
      "id": "SXxKsRKyecYl",
      "execution_count": null,
      "outputs": []
    },
    {
      "cell_type": "code",
      "metadata": {
        "id": "TJNcOz9wecae",
        "colab": {
          "base_uri": "https://localhost:8080/"
        },
        "outputId": "8baf62f0-8bef-419f-b239-581df22d83c6"
      },
      "source": [
        "t1=time.time()\n",
        "with concurrent.futures.ProcessPoolExecutor() as execut:\n",
        "  b_res=[execut.submit(creator3,i.strip()) for i in hurriyet_meme_kanser_links]\n",
        "\n",
        "print(time.time()-t1)"
      ],
      "id": "TJNcOz9wecae",
      "execution_count": null,
      "outputs": [
        {
          "output_type": "stream",
          "text": [
            "27.654183626174927\n"
          ],
          "name": "stdout"
        }
      ]
    },
    {
      "cell_type": "code",
      "metadata": {
        "id": "MgEfdVGNKyNe"
      },
      "source": [
        ""
      ],
      "id": "MgEfdVGNKyNe",
      "execution_count": null,
      "outputs": []
    },
    {
      "cell_type": "code",
      "metadata": {
        "id": "fM9q5f1KMWWk"
      },
      "source": [
        "dene=\"https://www.hurriyet.com.tr/arama/#/?page=1&key=kanser&where=hurriyet&how=Article,Column,NewsPhotoGallery,NewsVideo,Recipe&and=kanser&year=2001&platform=hurriyet&isDetail=true\""
      ],
      "id": "fM9q5f1KMWWk",
      "execution_count": null,
      "outputs": []
    },
    {
      "cell_type": "code",
      "metadata": {
        "id": "2MNDT8iaKe6y",
        "colab": {
          "base_uri": "https://localhost:8080/",
          "height": 204
        },
        "outputId": "b50c6867-e625-4f38-dff3-21cce9de5edf"
      },
      "source": [
        "creator(dene)"
      ],
      "id": "2MNDT8iaKe6y",
      "execution_count": null,
      "outputs": [
        {
          "output_type": "error",
          "ename": "NameError",
          "evalue": "ignored",
          "traceback": [
            "\u001b[0;31m---------------------------------------------------------------------------\u001b[0m",
            "\u001b[0;31mNameError\u001b[0m                                 Traceback (most recent call last)",
            "\u001b[0;32m<ipython-input-2-7a343affe5a9>\u001b[0m in \u001b[0;36m<module>\u001b[0;34m()\u001b[0m\n\u001b[0;32m----> 1\u001b[0;31m \u001b[0mcreator\u001b[0m\u001b[0;34m(\u001b[0m\u001b[0mdene\u001b[0m\u001b[0;34m)\u001b[0m\u001b[0;34m\u001b[0m\u001b[0;34m\u001b[0m\u001b[0m\n\u001b[0m",
            "\u001b[0;31mNameError\u001b[0m: name 'creator' is not defined"
          ]
        }
      ]
    }
  ]
}