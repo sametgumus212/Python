{
  "nbformat": 4,
  "nbformat_minor": 0,
  "metadata": {
    "colab": {
      "name": "Generative RNN-LSTM",
      "provenance": [],
      "collapsed_sections": [],
      "authorship_tag": "ABX9TyOo4laHoGs0XzFGbJPLqHfQ",
      "include_colab_link": true
    },
    "kernelspec": {
      "name": "python3",
      "display_name": "Python 3"
    }
  },
  "cells": [
    {
      "cell_type": "markdown",
      "metadata": {
        "id": "view-in-github",
        "colab_type": "text"
      },
      "source": [
        "<a href=\"https://colab.research.google.com/github/sametgumus212/Python/blob/master/Generative_RNN_LSTM.ipynb\" target=\"_parent\"><img src=\"https://colab.research.google.com/assets/colab-badge.svg\" alt=\"Open In Colab\"/></a>"
      ]
    },
    {
      "cell_type": "code",
      "metadata": {
        "id": "AovHM7rEFMLn",
        "outputId": "36d7854b-47f9-4f93-cef3-7cfac0540a0d",
        "colab": {
          "base_uri": "https://localhost:8080/",
          "height": 1000
        }
      },
      "source": [
        "\n",
        "! wget https://repo.anaconda.com/miniconda/Miniconda3-py37_4.8.2-Linux-x86_64.sh\n",
        "! chmod +x Miniconda3-py37_4.8.2-Linux-x86_64.sh\n",
        "! bash ./Miniconda3-py37_4.8.2-Linux-x86_64.sh -b -f -p /usr/local\n",
        "! conda install -c rdkit rdkit -y\n",
        "import sys\n",
        "sys.path.append('/usr/local/lib/python3.7/site-packages/')\n",
        "\n",
        "\n",
        "!pip install tensorflow\n",
        "!pip install keras\n",
        "!pip install bunch"
      ],
      "execution_count": null,
      "outputs": [
        {
          "output_type": "stream",
          "text": [
            "--2020-09-25 17:49:13--  https://repo.anaconda.com/miniconda/Miniconda3-py37_4.8.2-Linux-x86_64.sh\n",
            "Resolving repo.anaconda.com (repo.anaconda.com)... 104.16.131.3, 104.16.130.3, 2606:4700::6810:8203, ...\n",
            "Connecting to repo.anaconda.com (repo.anaconda.com)|104.16.131.3|:443... connected.\n",
            "HTTP request sent, awaiting response... 200 OK\n",
            "Length: 85055499 (81M) [application/x-sh]\n",
            "Saving to: ‘Miniconda3-py37_4.8.2-Linux-x86_64.sh.1’\n",
            "\n",
            "Miniconda3-py37_4.8 100%[===================>]  81.12M   120MB/s    in 0.7s    \n",
            "\n",
            "2020-09-25 17:49:14 (120 MB/s) - ‘Miniconda3-py37_4.8.2-Linux-x86_64.sh.1’ saved [85055499/85055499]\n",
            "\n",
            "PREFIX=/usr/local\n",
            "Unpacking payload ...\n",
            "Collecting package metadata (current_repodata.json): - \b\b\\ \b\b| \b\bdone\n",
            "Solving environment: - \b\b\\ \b\b| \b\b/ \b\b- \b\b\\ \b\b| \b\b/ \b\bdone\n",
            "\n",
            "## Package Plan ##\n",
            "\n",
            "  environment location: /usr/local\n",
            "\n",
            "  added / updated specs:\n",
            "    - _libgcc_mutex==0.1=main\n",
            "    - asn1crypto==1.3.0=py37_0\n",
            "    - ca-certificates==2020.1.1=0\n",
            "    - certifi==2019.11.28=py37_0\n",
            "    - cffi==1.14.0=py37h2e261b9_0\n",
            "    - chardet==3.0.4=py37_1003\n",
            "    - conda-package-handling==1.6.0=py37h7b6447c_0\n",
            "    - conda==4.8.2=py37_0\n",
            "    - cryptography==2.8=py37h1ba5d50_0\n",
            "    - idna==2.8=py37_0\n",
            "    - ld_impl_linux-64==2.33.1=h53a641e_7\n",
            "    - libedit==3.1.20181209=hc058e9b_0\n",
            "    - libffi==3.2.1=hd88cf55_4\n",
            "    - libgcc-ng==9.1.0=hdf63c60_0\n",
            "    - libstdcxx-ng==9.1.0=hdf63c60_0\n",
            "    - ncurses==6.2=he6710b0_0\n",
            "    - openssl==1.1.1d=h7b6447c_4\n",
            "    - pip==20.0.2=py37_1\n",
            "    - pycosat==0.6.3=py37h7b6447c_0\n",
            "    - pycparser==2.19=py37_0\n",
            "    - pyopenssl==19.1.0=py37_0\n",
            "    - pysocks==1.7.1=py37_0\n",
            "    - python==3.7.6=h0371630_2\n",
            "    - readline==7.0=h7b6447c_5\n",
            "    - requests==2.22.0=py37_1\n",
            "    - ruamel_yaml==0.15.87=py37h7b6447c_0\n",
            "    - setuptools==45.2.0=py37_0\n",
            "    - six==1.14.0=py37_0\n",
            "    - sqlite==3.31.1=h7b6447c_0\n",
            "    - tk==8.6.8=hbc83047_0\n",
            "    - tqdm==4.42.1=py_0\n",
            "    - urllib3==1.25.8=py37_0\n",
            "    - wheel==0.34.2=py37_0\n",
            "    - xz==5.2.4=h14c3975_4\n",
            "    - yaml==0.1.7=had09818_2\n",
            "    - zlib==1.2.11=h7b6447c_3\n",
            "\n",
            "\n",
            "The following packages will be SUPERSEDED by a higher-priority channel:\n",
            "\n",
            "  ca-certificates    conda-forge::ca-certificates-2020.6.2~ --> pkgs/main::ca-certificates-2020.1.1-0\n",
            "  certifi            conda-forge::certifi-2020.6.20-py37hc~ --> pkgs/main::certifi-2019.11.28-py37_0\n",
            "  conda              conda-forge::conda-4.8.5-py37hc8dfbb8~ --> pkgs/main::conda-4.8.2-py37_0\n",
            "  openssl            conda-forge::openssl-1.1.1h-h516909a_0 --> pkgs/main::openssl-1.1.1d-h7b6447c_4\n",
            "\n",
            "\n",
            "Preparing transaction: \\ \b\bdone\n",
            "Executing transaction: / \b\b- \b\bdone\n",
            "installation finished.\n",
            "WARNING:\n",
            "    You currently have a PYTHONPATH environment variable set. This may cause\n",
            "    unexpected behavior when running the Python interpreter in Miniconda3.\n",
            "    For best results, please verify that your PYTHONPATH only points to\n",
            "    directories of packages that are compatible with the Python interpreter\n",
            "    in Miniconda3: /usr/local\n",
            "Collecting package metadata (current_repodata.json): - \b\b\\ \b\b| \b\b/ \b\b- \b\b\\ \b\b| \b\b/ \b\b- \b\b\\ \b\b| \b\b/ \b\b- \b\bdone\n",
            "Solving environment: | \b\b/ \b\b- \b\b\\ \b\b| \b\b/ \b\b- \b\b\\ \b\b| \b\b/ \b\b- \b\b\\ \b\b| \b\bdone\n",
            "\n",
            "## Package Plan ##\n",
            "\n",
            "  environment location: /usr/local\n",
            "\n",
            "  added / updated specs:\n",
            "    - rdkit\n",
            "\n",
            "\n",
            "The following packages will be UPDATED:\n",
            "\n",
            "  ca-certificates                                2020.1.1-0 --> 2020.7.22-0\n",
            "  certifi                                 2019.11.28-py37_0 --> 2020.6.20-py37_0\n",
            "  conda                                        4.8.2-py37_0 --> 4.8.5-py37_0\n",
            "  openssl                                 1.1.1d-h7b6447c_4 --> 1.1.1h-h7b6447c_0\n",
            "\n",
            "\n",
            "Preparing transaction: - \b\bdone\n",
            "Verifying transaction: | \b\b/ \b\bdone\n",
            "Executing transaction: \\ \b\bdone\n",
            "Requirement already satisfied: tensorflow in /usr/local/lib/python3.7/site-packages (2.3.1)\n",
            "Requirement already satisfied: numpy<1.19.0,>=1.16.0 in /usr/local/lib/python3.7/site-packages (from tensorflow) (1.18.5)\n",
            "Requirement already satisfied: tensorboard<3,>=2.3.0 in /usr/local/lib/python3.7/site-packages (from tensorflow) (2.3.0)\n",
            "Requirement already satisfied: absl-py>=0.7.0 in /usr/local/lib/python3.7/site-packages (from tensorflow) (0.10.0)\n",
            "Requirement already satisfied: h5py<2.11.0,>=2.10.0 in /usr/local/lib/python3.7/site-packages (from tensorflow) (2.10.0)\n",
            "Requirement already satisfied: astunparse==1.6.3 in /usr/local/lib/python3.7/site-packages (from tensorflow) (1.6.3)\n",
            "Requirement already satisfied: keras-preprocessing<1.2,>=1.1.1 in /usr/local/lib/python3.7/site-packages (from tensorflow) (1.1.2)\n",
            "Requirement already satisfied: wrapt>=1.11.1 in /usr/local/lib/python3.7/site-packages (from tensorflow) (1.12.1)\n",
            "Requirement already satisfied: opt-einsum>=2.3.2 in /usr/local/lib/python3.7/site-packages (from tensorflow) (3.3.0)\n",
            "Requirement already satisfied: six>=1.12.0 in /usr/local/lib/python3.7/site-packages (from tensorflow) (1.14.0)\n",
            "Requirement already satisfied: termcolor>=1.1.0 in /usr/local/lib/python3.7/site-packages (from tensorflow) (1.1.0)\n",
            "Requirement already satisfied: gast==0.3.3 in /usr/local/lib/python3.7/site-packages (from tensorflow) (0.3.3)\n",
            "Requirement already satisfied: grpcio>=1.8.6 in /usr/local/lib/python3.7/site-packages (from tensorflow) (1.32.0)\n",
            "Requirement already satisfied: wheel>=0.26 in /usr/local/lib/python3.7/site-packages (from tensorflow) (0.34.2)\n",
            "Requirement already satisfied: protobuf>=3.9.2 in /usr/local/lib/python3.7/site-packages (from tensorflow) (3.13.0)\n",
            "Requirement already satisfied: tensorflow-estimator<2.4.0,>=2.3.0 in /usr/local/lib/python3.7/site-packages (from tensorflow) (2.3.0)\n",
            "Requirement already satisfied: google-pasta>=0.1.8 in /usr/local/lib/python3.7/site-packages (from tensorflow) (0.2.0)\n",
            "Requirement already satisfied: requests<3,>=2.21.0 in /usr/local/lib/python3.7/site-packages (from tensorboard<3,>=2.3.0->tensorflow) (2.22.0)\n",
            "Requirement already satisfied: tensorboard-plugin-wit>=1.6.0 in /usr/local/lib/python3.7/site-packages (from tensorboard<3,>=2.3.0->tensorflow) (1.7.0)\n",
            "Requirement already satisfied: setuptools>=41.0.0 in /usr/local/lib/python3.7/site-packages (from tensorboard<3,>=2.3.0->tensorflow) (45.2.0.post20200210)\n",
            "Requirement already satisfied: werkzeug>=0.11.15 in /usr/local/lib/python3.7/site-packages (from tensorboard<3,>=2.3.0->tensorflow) (1.0.1)\n",
            "Requirement already satisfied: google-auth<2,>=1.6.3 in /usr/local/lib/python3.7/site-packages (from tensorboard<3,>=2.3.0->tensorflow) (1.21.3)\n",
            "Requirement already satisfied: markdown>=2.6.8 in /usr/local/lib/python3.7/site-packages (from tensorboard<3,>=2.3.0->tensorflow) (3.2.2)\n",
            "Requirement already satisfied: google-auth-oauthlib<0.5,>=0.4.1 in /usr/local/lib/python3.7/site-packages (from tensorboard<3,>=2.3.0->tensorflow) (0.4.1)\n",
            "Requirement already satisfied: urllib3!=1.25.0,!=1.25.1,<1.26,>=1.21.1 in /usr/local/lib/python3.7/site-packages (from requests<3,>=2.21.0->tensorboard<3,>=2.3.0->tensorflow) (1.25.8)\n",
            "Requirement already satisfied: certifi>=2017.4.17 in /usr/local/lib/python3.7/site-packages (from requests<3,>=2.21.0->tensorboard<3,>=2.3.0->tensorflow) (2020.6.20)\n",
            "Requirement already satisfied: chardet<3.1.0,>=3.0.2 in /usr/local/lib/python3.7/site-packages (from requests<3,>=2.21.0->tensorboard<3,>=2.3.0->tensorflow) (3.0.4)\n",
            "Requirement already satisfied: idna<2.9,>=2.5 in /usr/local/lib/python3.7/site-packages (from requests<3,>=2.21.0->tensorboard<3,>=2.3.0->tensorflow) (2.8)\n",
            "Requirement already satisfied: cachetools<5.0,>=2.0.0 in /usr/local/lib/python3.7/site-packages (from google-auth<2,>=1.6.3->tensorboard<3,>=2.3.0->tensorflow) (4.1.1)\n",
            "Requirement already satisfied: pyasn1-modules>=0.2.1 in /usr/local/lib/python3.7/site-packages (from google-auth<2,>=1.6.3->tensorboard<3,>=2.3.0->tensorflow) (0.2.8)\n",
            "Requirement already satisfied: rsa<5,>=3.1.4; python_version >= \"3.5\" in /usr/local/lib/python3.7/site-packages (from google-auth<2,>=1.6.3->tensorboard<3,>=2.3.0->tensorflow) (4.6)\n",
            "Requirement already satisfied: importlib-metadata; python_version < \"3.8\" in /usr/local/lib/python3.7/site-packages (from markdown>=2.6.8->tensorboard<3,>=2.3.0->tensorflow) (2.0.0)\n",
            "Requirement already satisfied: requests-oauthlib>=0.7.0 in /usr/local/lib/python3.7/site-packages (from google-auth-oauthlib<0.5,>=0.4.1->tensorboard<3,>=2.3.0->tensorflow) (1.3.0)\n",
            "Requirement already satisfied: pyasn1<0.5.0,>=0.4.6 in /usr/local/lib/python3.7/site-packages (from pyasn1-modules>=0.2.1->google-auth<2,>=1.6.3->tensorboard<3,>=2.3.0->tensorflow) (0.4.8)\n",
            "Requirement already satisfied: zipp>=0.5 in /usr/local/lib/python3.7/site-packages (from importlib-metadata; python_version < \"3.8\"->markdown>=2.6.8->tensorboard<3,>=2.3.0->tensorflow) (3.2.0)\n",
            "Requirement already satisfied: oauthlib>=3.0.0 in /usr/local/lib/python3.7/site-packages (from requests-oauthlib>=0.7.0->google-auth-oauthlib<0.5,>=0.4.1->tensorboard<3,>=2.3.0->tensorflow) (3.1.0)\n",
            "Requirement already satisfied: keras in /usr/local/lib/python3.7/site-packages (2.4.3)\n",
            "Requirement already satisfied: scipy>=0.14 in /usr/local/lib/python3.7/site-packages (from keras) (1.5.2)\n",
            "Requirement already satisfied: numpy>=1.9.1 in /usr/local/lib/python3.7/site-packages (from keras) (1.18.5)\n",
            "Requirement already satisfied: pyyaml in /usr/local/lib/python3.7/site-packages (from keras) (5.3.1)\n",
            "Requirement already satisfied: h5py in /usr/local/lib/python3.7/site-packages (from keras) (2.10.0)\n",
            "Requirement already satisfied: six in /usr/local/lib/python3.7/site-packages (from h5py->keras) (1.14.0)\n",
            "Requirement already satisfied: bunch in /usr/local/lib/python3.7/site-packages (1.0.1)\n"
          ],
          "name": "stdout"
        }
      ]
    },
    {
      "cell_type": "code",
      "metadata": {
        "id": "HGO7e12_IBUv",
        "outputId": "8422f11f-c1e3-4254-8942-04c84aced5c4",
        "colab": {
          "base_uri": "https://localhost:8080/",
          "height": 34
        }
      },
      "source": [
        "import pandas as pd\n",
        "from google.colab import drive\n",
        "drive.mount('/content/drive', force_remount=True)"
      ],
      "execution_count": null,
      "outputs": [
        {
          "output_type": "stream",
          "text": [
            "Mounted at /content/drive\n"
          ],
          "name": "stdout"
        }
      ]
    },
    {
      "cell_type": "code",
      "metadata": {
        "id": "Q-nXHhbeidgJ"
      },
      "source": [
        "import sys\n",
        "sys.path.insert(0,'/content/drive/My Drive/DD')"
      ],
      "execution_count": 78,
      "outputs": []
    },
    {
      "cell_type": "code",
      "metadata": {
        "id": "vRo6ecffISqw",
        "outputId": "3f1f8dff-8dad-4469-cb9a-0ca8fa9a43af",
        "colab": {
          "base_uri": "https://localhost:8080/",
          "height": 238
        }
      },
      "source": [
        "# Load ZINC data\n",
        "\n",
        "moses_smiles = pd.read_csv('/content/drive/My Drive/DD/datasets/moses_dataset_v1.txt',sep=',')\n",
        "print(moses_smiles.shape)\n",
        "moses_smiles = moses_smiles[moses_smiles['SMILES'].notnull()]\n",
        "print(moses_smiles.shape)\n",
        "moses_smiles['smiles'] = moses_smiles[\"SMILES\"]\n",
        "moses_smiles['length'] = moses_smiles[\"smiles\"].str.len()\n",
        "moses_smiles.head()"
      ],
      "execution_count": null,
      "outputs": [
        {
          "output_type": "stream",
          "text": [
            "(1936962, 2)\n",
            "(1936962, 2)\n"
          ],
          "name": "stdout"
        },
        {
          "output_type": "execute_result",
          "data": {
            "text/html": [
              "<div>\n",
              "<style scoped>\n",
              "    .dataframe tbody tr th:only-of-type {\n",
              "        vertical-align: middle;\n",
              "    }\n",
              "\n",
              "    .dataframe tbody tr th {\n",
              "        vertical-align: top;\n",
              "    }\n",
              "\n",
              "    .dataframe thead th {\n",
              "        text-align: right;\n",
              "    }\n",
              "</style>\n",
              "<table border=\"1\" class=\"dataframe\">\n",
              "  <thead>\n",
              "    <tr style=\"text-align: right;\">\n",
              "      <th></th>\n",
              "      <th>SMILES</th>\n",
              "      <th>SPLIT</th>\n",
              "      <th>smiles</th>\n",
              "      <th>length</th>\n",
              "    </tr>\n",
              "  </thead>\n",
              "  <tbody>\n",
              "    <tr>\n",
              "      <th>0</th>\n",
              "      <td>CCCS(=O)c1ccc2[nH]c(=NC(=O)OC)[nH]c2c1</td>\n",
              "      <td>train</td>\n",
              "      <td>CCCS(=O)c1ccc2[nH]c(=NC(=O)OC)[nH]c2c1</td>\n",
              "      <td>38</td>\n",
              "    </tr>\n",
              "    <tr>\n",
              "      <th>1</th>\n",
              "      <td>CC(C)(C)C(=O)C(Oc1ccc(Cl)cc1)n1ccnc1</td>\n",
              "      <td>train</td>\n",
              "      <td>CC(C)(C)C(=O)C(Oc1ccc(Cl)cc1)n1ccnc1</td>\n",
              "      <td>36</td>\n",
              "    </tr>\n",
              "    <tr>\n",
              "      <th>2</th>\n",
              "      <td>CC1C2CCC(C2)C1CN(CCO)C(=O)c1ccc(Cl)cc1</td>\n",
              "      <td>test</td>\n",
              "      <td>CC1C2CCC(C2)C1CN(CCO)C(=O)c1ccc(Cl)cc1</td>\n",
              "      <td>38</td>\n",
              "    </tr>\n",
              "    <tr>\n",
              "      <th>3</th>\n",
              "      <td>Cc1c(Cl)cccc1Nc1ncccc1C(=O)OCC(O)CO</td>\n",
              "      <td>train</td>\n",
              "      <td>Cc1c(Cl)cccc1Nc1ncccc1C(=O)OCC(O)CO</td>\n",
              "      <td>35</td>\n",
              "    </tr>\n",
              "    <tr>\n",
              "      <th>4</th>\n",
              "      <td>Cn1cnc2c1c(=O)n(CC(O)CO)c(=O)n2C</td>\n",
              "      <td>train</td>\n",
              "      <td>Cn1cnc2c1c(=O)n(CC(O)CO)c(=O)n2C</td>\n",
              "      <td>32</td>\n",
              "    </tr>\n",
              "  </tbody>\n",
              "</table>\n",
              "</div>"
            ],
            "text/plain": [
              "                                   SMILES  ... length\n",
              "0  CCCS(=O)c1ccc2[nH]c(=NC(=O)OC)[nH]c2c1  ...     38\n",
              "1    CC(C)(C)C(=O)C(Oc1ccc(Cl)cc1)n1ccnc1  ...     36\n",
              "2  CC1C2CCC(C2)C1CN(CCO)C(=O)c1ccc(Cl)cc1  ...     38\n",
              "3     Cc1c(Cl)cccc1Nc1ncccc1C(=O)OCC(O)CO  ...     35\n",
              "4        Cn1cnc2c1c(=O)n(CC(O)CO)c(=O)n2C  ...     32\n",
              "\n",
              "[5 rows x 4 columns]"
            ]
          },
          "metadata": {
            "tags": []
          },
          "execution_count": 5
        }
      ]
    },
    {
      "cell_type": "code",
      "metadata": {
        "id": "nysx4HivJAL7",
        "outputId": "dbf76380-edfe-47c7-a610-3b1959404c3c",
        "colab": {
          "base_uri": "https://localhost:8080/",
          "height": 221
        }
      },
      "source": [
        "\n",
        "# Load ChEMBL data\n",
        "\n",
        "chembl_smiles = pd.read_csv('/content/drive/My Drive/DD/datasets/chembl_dataset.txt', names=[\"smiles\"])\n",
        "chembl_smiles['length'] = chembl_smiles[\"smiles\"].str.len() \n",
        "print(chembl_smiles.shape)\n",
        "chembl_smiles.head()"
      ],
      "execution_count": null,
      "outputs": [
        {
          "output_type": "stream",
          "text": [
            "(556134, 2)\n"
          ],
          "name": "stdout"
        },
        {
          "output_type": "execute_result",
          "data": {
            "text/html": [
              "<div>\n",
              "<style scoped>\n",
              "    .dataframe tbody tr th:only-of-type {\n",
              "        vertical-align: middle;\n",
              "    }\n",
              "\n",
              "    .dataframe tbody tr th {\n",
              "        vertical-align: top;\n",
              "    }\n",
              "\n",
              "    .dataframe thead th {\n",
              "        text-align: right;\n",
              "    }\n",
              "</style>\n",
              "<table border=\"1\" class=\"dataframe\">\n",
              "  <thead>\n",
              "    <tr style=\"text-align: right;\">\n",
              "      <th></th>\n",
              "      <th>smiles</th>\n",
              "      <th>length</th>\n",
              "    </tr>\n",
              "  </thead>\n",
              "  <tbody>\n",
              "    <tr>\n",
              "      <th>0</th>\n",
              "      <td>C1CCCCCNc2cc[n+](Cc3cccc(c3)c4cccc(C[n+]5ccc(N...</td>\n",
              "      <td>74</td>\n",
              "    </tr>\n",
              "    <tr>\n",
              "      <th>1</th>\n",
              "      <td>Br\\C=C\\1/CCC(C(=O)O1)c2cccc3ccccc23</td>\n",
              "      <td>35</td>\n",
              "    </tr>\n",
              "    <tr>\n",
              "      <th>2</th>\n",
              "      <td>I\\C=C\\1/CCC(C(=O)O1)c2cccc3ccccc23</td>\n",
              "      <td>34</td>\n",
              "    </tr>\n",
              "    <tr>\n",
              "      <th>3</th>\n",
              "      <td>O=C1O\\C(=C\\C#C)\\CCC1c2cccc3ccccc23</td>\n",
              "      <td>34</td>\n",
              "    </tr>\n",
              "    <tr>\n",
              "      <th>4</th>\n",
              "      <td>I\\C=C/1\\CCC(C(=O)O1)c2cccc3ccccc23</td>\n",
              "      <td>34</td>\n",
              "    </tr>\n",
              "  </tbody>\n",
              "</table>\n",
              "</div>"
            ],
            "text/plain": [
              "                                              smiles  length\n",
              "0  C1CCCCCNc2cc[n+](Cc3cccc(c3)c4cccc(C[n+]5ccc(N...      74\n",
              "1                Br\\C=C\\1/CCC(C(=O)O1)c2cccc3ccccc23      35\n",
              "2                 I\\C=C\\1/CCC(C(=O)O1)c2cccc3ccccc23      34\n",
              "3                 O=C1O\\C(=C\\C#C)\\CCC1c2cccc3ccccc23      34\n",
              "4                 I\\C=C/1\\CCC(C(=O)O1)c2cccc3ccccc23      34"
            ]
          },
          "metadata": {
            "tags": []
          },
          "execution_count": 6
        }
      ]
    },
    {
      "cell_type": "code",
      "metadata": {
        "id": "qkFOWEYkJn5-",
        "outputId": "ba80ebfd-237f-45d6-cbf8-ff5d2b49fb22",
        "colab": {
          "base_uri": "https://localhost:8080/",
          "height": 51
        }
      },
      "source": [
        "# Drop duplicates and append both dataset\n",
        "\n",
        "moses_smiles = moses_smiles['smiles']\n",
        "print(moses_smiles.shape)\n",
        "moses_smiles = moses_smiles.drop_duplicates()\n",
        "print(moses_smiles.shape)"
      ],
      "execution_count": null,
      "outputs": [
        {
          "output_type": "stream",
          "text": [
            "(1936962,)\n",
            "(1936962,)\n"
          ],
          "name": "stdout"
        }
      ]
    },
    {
      "cell_type": "code",
      "metadata": {
        "id": "CXaymcttJqbk",
        "outputId": "53149800-a59e-4cf4-b5e1-f7f8418551fe",
        "colab": {
          "base_uri": "https://localhost:8080/",
          "height": 51
        }
      },
      "source": [
        "chembl_smiles = chembl_smiles['smiles']\n",
        "print(chembl_smiles.shape)\n",
        "chembl_smiles = chembl_smiles.drop_duplicates()\n",
        "print(chembl_smiles.shape)"
      ],
      "execution_count": null,
      "outputs": [
        {
          "output_type": "stream",
          "text": [
            "(556134,)\n",
            "(556134,)\n"
          ],
          "name": "stdout"
        }
      ]
    },
    {
      "cell_type": "code",
      "metadata": {
        "id": "ZzTdofm7Jsxl",
        "outputId": "88f4e1d8-28c7-4370-dec7-b59d4307ec10",
        "colab": {
          "base_uri": "https://localhost:8080/",
          "height": 51
        }
      },
      "source": [
        "smiles = moses_smiles.append(chembl_smiles)\n",
        "print(smiles.shape)\n",
        "smiles = smiles.drop_duplicates()\n",
        "print(smiles.shape)"
      ],
      "execution_count": null,
      "outputs": [
        {
          "output_type": "stream",
          "text": [
            "(2493096,)\n",
            "(2492860,)\n"
          ],
          "name": "stdout"
        }
      ]
    },
    {
      "cell_type": "code",
      "metadata": {
        "id": "ma3dVUHzJxGD"
      },
      "source": [
        "# Total SMILES ~2.5 million\n",
        "# Included this step to randomly sample 250000 smiles for model testing (run it in cloud GPU later for whole dataset)\n",
        "smiles = smiles.sample(250000)"
      ],
      "execution_count": null,
      "outputs": []
    },
    {
      "cell_type": "code",
      "metadata": {
        "id": "qbp_2KuxJ3AY"
      },
      "source": [
        "smiles.to_csv(r'/content/drive/My Drive/DD/datasets/all_smiles2.txt', header=None, index=None, sep='\\t', mode='a')"
      ],
      "execution_count": null,
      "outputs": []
    },
    {
      "cell_type": "code",
      "metadata": {
        "id": "rJVAHF1sJ67S",
        "outputId": "d2d8a3cc-1fce-4ca8-efce-0fac0bfbbcbb",
        "colab": {
          "base_uri": "https://localhost:8080/",
          "height": 221
        }
      },
      "source": [
        "all_smiles_test = pd.read_csv('/content/drive/My Drive/DD/datasets/all_smiles2.txt',sep='\\t', header=None)\n",
        "print(all_smiles_test.shape)\n",
        "all_smiles_test.head()\n"
      ],
      "execution_count": null,
      "outputs": [
        {
          "output_type": "stream",
          "text": [
            "(250000, 1)\n"
          ],
          "name": "stdout"
        },
        {
          "output_type": "execute_result",
          "data": {
            "text/html": [
              "<div>\n",
              "<style scoped>\n",
              "    .dataframe tbody tr th:only-of-type {\n",
              "        vertical-align: middle;\n",
              "    }\n",
              "\n",
              "    .dataframe tbody tr th {\n",
              "        vertical-align: top;\n",
              "    }\n",
              "\n",
              "    .dataframe thead th {\n",
              "        text-align: right;\n",
              "    }\n",
              "</style>\n",
              "<table border=\"1\" class=\"dataframe\">\n",
              "  <thead>\n",
              "    <tr style=\"text-align: right;\">\n",
              "      <th></th>\n",
              "      <th>0</th>\n",
              "    </tr>\n",
              "  </thead>\n",
              "  <tbody>\n",
              "    <tr>\n",
              "      <th>0</th>\n",
              "      <td>O=S(=O)(Nc1ccnn1CC1CC1)c1ccc(C(F)(F)F)nc1</td>\n",
              "    </tr>\n",
              "    <tr>\n",
              "      <th>1</th>\n",
              "      <td>Cc1n[nH]cc1CNC(=O)Cn1cnc2sccc2c1=O</td>\n",
              "    </tr>\n",
              "    <tr>\n",
              "      <th>2</th>\n",
              "      <td>COc1ccc2nc(C(=O)N3CCOCC3)cn2n1</td>\n",
              "    </tr>\n",
              "    <tr>\n",
              "      <th>3</th>\n",
              "      <td>CCNC(=O)C1CCCN(C(C#N)c2c(F)cccc2Cl)C1</td>\n",
              "    </tr>\n",
              "    <tr>\n",
              "      <th>4</th>\n",
              "      <td>CC(CCCO)NC(=O)NC(c1ccccc1)C1CCC1</td>\n",
              "    </tr>\n",
              "  </tbody>\n",
              "</table>\n",
              "</div>"
            ],
            "text/plain": [
              "                                           0\n",
              "0  O=S(=O)(Nc1ccnn1CC1CC1)c1ccc(C(F)(F)F)nc1\n",
              "1         Cc1n[nH]cc1CNC(=O)Cn1cnc2sccc2c1=O\n",
              "2             COc1ccc2nc(C(=O)N3CCOCC3)cn2n1\n",
              "3      CCNC(=O)C1CCCN(C(C#N)c2c(F)cccc2Cl)C1\n",
              "4           CC(CCCO)NC(=O)NC(c1ccccc1)C1CCC1"
            ]
          },
          "metadata": {
            "tags": []
          },
          "execution_count": 12
        }
      ]
    },
    {
      "cell_type": "markdown",
      "metadata": {
        "id": "Pgnk3l1e2tTM"
      },
      "source": [
        "Remdesivir- CCC(CC)COC(=O)C(C)NP(=O)(OCC1C(C(C(O1)(C#N)C2=CC=C3N2N=CN=C3N)O)O)OC4=CC=CC=C4\n",
        "\n",
        "Nelfinavir- CC1=C(C=CC=C1O)C(=O)NC(CSC2=CC=CC=C2)C(CN3CC4CCCCC4CC3C(=O)NC(C)(C)C)O\n",
        "\n",
        "Lopinavir- CC1=C(C(=CC=C1)C)OCC(=O)NC(CC2=CC=CC=C2)C(CC(CC3=CC=CC=C3)NC(=O)C(C(C)C)N4CCCNC4=O)O\n",
        "\n",
        "Ritonavir- CC(C)C1=NC(=CS1)CN(C)C(=O)NC(C(C)C)C(=O)NC(CC2=CC=CC=C2)CC(C(CC3=CC=CC=C3)NC(=O)OCC4=CN=CS4)O\n",
        "\n",
        "Other protease inhibitors as potential treatments\n",
        "\n",
        "Darunavir- CC(C)CN(CC(C(CC1=CC=CC=C1)NC(=O)OC2COC3C2CCO3)O)S(=O)(=O)C4=CC=C(C=C4)N\n",
        "\n",
        "Atazanavir- CC(C)(C)C(C(=O)NC(CC1=CC=CC=C1)C(CN(CC2=CC=C(C=C2)C3=CC=CC=N3)NC(=O)C(C(C)(C)C)NC(=O)OC)O)NC(=O)OC"
      ]
    },
    {
      "cell_type": "code",
      "metadata": {
        "id": "5w0TOCuoJ-d-",
        "outputId": "5436bb0a-f873-4329-8cb1-beeebc2a932b",
        "colab": {
          "base_uri": "https://localhost:8080/",
          "height": 252
        }
      },
      "source": [
        "\n",
        "protease_smiles_test = pd.read_csv('/content/drive/My Drive/DD/datasets/protease_inhibitors_for_fine-tune.txt',sep='\\t', header=None)\n",
        "print(protease_smiles_test.shape)\n",
        "protease_smiles_test"
      ],
      "execution_count": null,
      "outputs": [
        {
          "output_type": "stream",
          "text": [
            "(6, 1)\n"
          ],
          "name": "stdout"
        },
        {
          "output_type": "execute_result",
          "data": {
            "text/html": [
              "<div>\n",
              "<style scoped>\n",
              "    .dataframe tbody tr th:only-of-type {\n",
              "        vertical-align: middle;\n",
              "    }\n",
              "\n",
              "    .dataframe tbody tr th {\n",
              "        vertical-align: top;\n",
              "    }\n",
              "\n",
              "    .dataframe thead th {\n",
              "        text-align: right;\n",
              "    }\n",
              "</style>\n",
              "<table border=\"1\" class=\"dataframe\">\n",
              "  <thead>\n",
              "    <tr style=\"text-align: right;\">\n",
              "      <th></th>\n",
              "      <th>0</th>\n",
              "    </tr>\n",
              "  </thead>\n",
              "  <tbody>\n",
              "    <tr>\n",
              "      <th>0</th>\n",
              "      <td>CCC(CC)COC(=O)C(C)NP(=O)(OCC1C(C(C(O1)(C#N)C2=...</td>\n",
              "    </tr>\n",
              "    <tr>\n",
              "      <th>1</th>\n",
              "      <td>CC1=C(C=CC=C1O)C(=O)NC(CSC2=CC=CC=C2)C(CN3CC4C...</td>\n",
              "    </tr>\n",
              "    <tr>\n",
              "      <th>2</th>\n",
              "      <td>CC1=C(C(=CC=C1)C)OCC(=O)NC(CC2=CC=CC=C2)C(CC(C...</td>\n",
              "    </tr>\n",
              "    <tr>\n",
              "      <th>3</th>\n",
              "      <td>CC(C)C1=NC(=CS1)CN(C)C(=O)NC(C(C)C)C(=O)NC(CC2...</td>\n",
              "    </tr>\n",
              "    <tr>\n",
              "      <th>4</th>\n",
              "      <td>CC(C)CN(CC(C(CC1=CC=CC=C1)NC(=O)OC2COC3C2CCO3)...</td>\n",
              "    </tr>\n",
              "    <tr>\n",
              "      <th>5</th>\n",
              "      <td>CC(C)(C)C(C(=O)NC(CC1=CC=CC=C1)C(CN(CC2=CC=C(C...</td>\n",
              "    </tr>\n",
              "  </tbody>\n",
              "</table>\n",
              "</div>"
            ],
            "text/plain": [
              "                                                   0\n",
              "0  CCC(CC)COC(=O)C(C)NP(=O)(OCC1C(C(C(O1)(C#N)C2=...\n",
              "1  CC1=C(C=CC=C1O)C(=O)NC(CSC2=CC=CC=C2)C(CN3CC4C...\n",
              "2  CC1=C(C(=CC=C1)C)OCC(=O)NC(CC2=CC=CC=C2)C(CC(C...\n",
              "3  CC(C)C1=NC(=CS1)CN(C)C(=O)NC(C(C)C)C(=O)NC(CC2...\n",
              "4  CC(C)CN(CC(C(CC1=CC=CC=C1)NC(=O)OC2COC3C2CCO3)...\n",
              "5  CC(C)(C)C(C(=O)NC(CC1=CC=CC=C1)C(CN(CC2=CC=C(C..."
            ]
          },
          "metadata": {
            "tags": []
          },
          "execution_count": 13
        }
      ]
    },
    {
      "cell_type": "markdown",
      "metadata": {
        "id": "S-r164pi28cl"
      },
      "source": [
        "pre-processing"
      ]
    },
    {
      "cell_type": "code",
      "metadata": {
        "id": "WuDzY0YWKBa5",
        "outputId": "5640cb10-aba9-445e-d390-c12601de6a9c",
        "colab": {
          "base_uri": "https://localhost:8080/",
          "height": 221
        }
      },
      "source": [
        "\n",
        "all_smiles_clean = pd.read_csv('/content/drive/My Drive/DD/datasets/all_smiles_clean.txt',sep='\\t', header=None)\n",
        "print(all_smiles_clean.shape)\n",
        "all_smiles_clean.head()"
      ],
      "execution_count": null,
      "outputs": [
        {
          "output_type": "stream",
          "text": [
            "(180793, 1)\n"
          ],
          "name": "stdout"
        },
        {
          "output_type": "execute_result",
          "data": {
            "text/html": [
              "<div>\n",
              "<style scoped>\n",
              "    .dataframe tbody tr th:only-of-type {\n",
              "        vertical-align: middle;\n",
              "    }\n",
              "\n",
              "    .dataframe tbody tr th {\n",
              "        vertical-align: top;\n",
              "    }\n",
              "\n",
              "    .dataframe thead th {\n",
              "        text-align: right;\n",
              "    }\n",
              "</style>\n",
              "<table border=\"1\" class=\"dataframe\">\n",
              "  <thead>\n",
              "    <tr style=\"text-align: right;\">\n",
              "      <th></th>\n",
              "      <th>0</th>\n",
              "    </tr>\n",
              "  </thead>\n",
              "  <tbody>\n",
              "    <tr>\n",
              "      <th>0</th>\n",
              "      <td>NC(=O)c1cnn2cc(-c3cccnc3)cc2c1NC1CCOCC1</td>\n",
              "    </tr>\n",
              "    <tr>\n",
              "      <th>1</th>\n",
              "      <td>COC(=O)C(NC1CCc2c(F)cccc21)c1cccc(C#N)c1</td>\n",
              "    </tr>\n",
              "    <tr>\n",
              "      <th>2</th>\n",
              "      <td>CC1CCCC(CNC(=O)CNC(=O)c2ccc(F)c(F)c2)C1</td>\n",
              "    </tr>\n",
              "    <tr>\n",
              "      <th>3</th>\n",
              "      <td>CC1CN(CC2CCN(C(=O)C(C)(C)C)CC2)CC(C)O1</td>\n",
              "    </tr>\n",
              "    <tr>\n",
              "      <th>4</th>\n",
              "      <td>NC(=O)C1Cc2ccccc2N1C(=O)c1ccc2ccccc2n1</td>\n",
              "    </tr>\n",
              "  </tbody>\n",
              "</table>\n",
              "</div>"
            ],
            "text/plain": [
              "                                          0\n",
              "0   NC(=O)c1cnn2cc(-c3cccnc3)cc2c1NC1CCOCC1\n",
              "1  COC(=O)C(NC1CCc2c(F)cccc21)c1cccc(C#N)c1\n",
              "2   CC1CCCC(CNC(=O)CNC(=O)c2ccc(F)c(F)c2)C1\n",
              "3    CC1CN(CC2CCN(C(=O)C(C)(C)C)CC2)CC(C)O1\n",
              "4    NC(=O)C1Cc2ccccc2N1C(=O)c1ccc2ccccc2n1"
            ]
          },
          "metadata": {
            "tags": []
          },
          "execution_count": 14
        }
      ]
    },
    {
      "cell_type": "code",
      "metadata": {
        "id": "JDZp0tcgA5h8"
      },
      "source": [
        "all_smiles_clean.to_csv(r'all_smiles_clean.txt', header=None, index=None, sep='\\t', mode='a')"
      ],
      "execution_count": null,
      "outputs": []
    },
    {
      "cell_type": "markdown",
      "metadata": {
        "id": "RW4olzd1KG5O"
      },
      "source": [
        "LSTM\n"
      ]
    },
    {
      "cell_type": "code",
      "metadata": {
        "id": "UIQYBJtk3dJI",
        "outputId": "c29eaa07-24e7-40a8-f98d-437533bc7cd3",
        "colab": {
          "base_uri": "https://localhost:8080/",
          "height": 476
        }
      },
      "source": [
        "!conda install -c conda-forge rdkit"
      ],
      "execution_count": null,
      "outputs": [
        {
          "output_type": "stream",
          "text": [
            "Collecting package metadata (current_repodata.json): - \b\b\\ \b\b| \b\b/ \b\b- \b\b\\ \b\b| \b\b/ \b\b- \b\b\\ \b\b| \b\b/ \b\b- \b\b\\ \b\b| \b\b/ \b\b- \b\b\\ \b\bdone\n",
            "Solving environment: / \b\b- \b\b\\ \b\b| \b\b/ \b\b- \b\b\\ \b\b| \b\b/ \b\b- \b\b\\ \b\b| \b\b/ \b\b- \b\b\\ \b\b| \b\b/ \b\b- \b\b\\ \b\b| \b\bdone\n",
            "\n",
            "## Package Plan ##\n",
            "\n",
            "  environment location: /usr/local\n",
            "\n",
            "  added / updated specs:\n",
            "    - rdkit\n",
            "\n",
            "\n",
            "The following packages will be UPDATED:\n",
            "\n",
            "  conda                       pkgs/main::conda-4.8.5-py37_0 --> conda-forge::conda-4.8.5-py37hc8dfbb8_1\n",
            "\n",
            "The following packages will be SUPERSEDED by a higher-priority channel:\n",
            "\n",
            "  ca-certificates    pkgs/main::ca-certificates-2020.7.22-0 --> conda-forge::ca-certificates-2020.6.20-hecda079_0\n",
            "  certifi               pkgs/main::certifi-2020.6.20-py37_0 --> conda-forge::certifi-2020.6.20-py37hc8dfbb8_0\n",
            "  openssl              pkgs/main::openssl-1.1.1h-h7b6447c_0 --> conda-forge::openssl-1.1.1h-h516909a_0\n",
            "\n",
            "\n",
            "Proceed ([y]/n)? y\n",
            "\n",
            "Preparing transaction: - \b\bdone\n",
            "Verifying transaction: | \b\bdone\n",
            "Executing transaction: - \b\bdone\n"
          ],
          "name": "stdout"
        }
      ]
    },
    {
      "cell_type": "code",
      "metadata": {
        "id": "Xu4ze83g9YGH",
        "outputId": "591277ed-c5db-425d-b9a2-088a18e2e09d",
        "colab": {
          "base_uri": "https://localhost:8080/",
          "height": 561
        }
      },
      "source": [
        "! conda install -c conda-forge bunch"
      ],
      "execution_count": null,
      "outputs": [
        {
          "output_type": "stream",
          "text": [
            "Collecting package metadata (current_repodata.json): - \b\b\\ \b\b| \b\b/ \b\b- \b\b\\ \b\b| \b\b/ \b\b- \b\b\\ \b\b| \b\b/ \b\b- \b\b\\ \b\b| \b\b/ \b\b- \b\b\\ \b\b| \b\b/ \b\b- \b\bdone\n",
            "Solving environment: | \b\b/ \b\b- \b\b\\ \b\b| \b\b/ \b\b- \b\b\\ \b\b| \b\b/ \b\b- \b\b\\ \b\b| \b\b/ \b\bdone\n",
            "\n",
            "## Package Plan ##\n",
            "\n",
            "  environment location: /usr/local\n",
            "\n",
            "  added / updated specs:\n",
            "    - bunch\n",
            "\n",
            "\n",
            "The following packages will be downloaded:\n",
            "\n",
            "    package                    |            build\n",
            "    ---------------------------|-----------------\n",
            "    bunch-1.0.1                |             py_1           8 KB  conda-forge\n",
            "    ------------------------------------------------------------\n",
            "                                           Total:           8 KB\n",
            "\n",
            "The following NEW packages will be INSTALLED:\n",
            "\n",
            "  bunch              conda-forge/noarch::bunch-1.0.1-py_1\n",
            "\n",
            "\n",
            "Proceed ([y]/n)? y\n",
            "\n",
            "\n",
            "Downloading and Extracting Packages\n",
            "bunch-1.0.1          | 8 KB      | : 100% 1.0/1 [00:00<00:00,  5.34it/s]\n",
            "Preparing transaction: \\ \b\bdone\n",
            "Verifying transaction: / \b\bdone\n",
            "Executing transaction: \\ \b\b| \b\b/ \b\b- \b\b\\ \b\b| \b\bdone\n"
          ],
          "name": "stdout"
        }
      ]
    },
    {
      "cell_type": "code",
      "metadata": {
        "id": "1-7xajLqXuJX",
        "outputId": "318fae88-bf6b-4f46-8502-ae2792cc663c",
        "colab": {
          "base_uri": "https://localhost:8080/",
          "height": 1000
        }
      },
      "source": [
        "!conda install -c anaconda scikit-learn"
      ],
      "execution_count": null,
      "outputs": [
        {
          "output_type": "stream",
          "text": [
            "Collecting package metadata (current_repodata.json): - \b\b\\ \b\b| \b\b/ \b\b- \b\b\\ \b\b| \b\b/ \b\b- \b\b\\ \b\b| \b\b/ \b\b- \b\b\\ \b\bdone\n",
            "Solving environment: / \b\b- \b\b\\ \b\b| \b\b/ \b\b- \b\b\\ \b\b| \b\b/ \b\b- \b\b\\ \b\b| \b\b/ \b\b- \b\bdone\n",
            "\n",
            "## Package Plan ##\n",
            "\n",
            "  environment location: /usr/local\n",
            "\n",
            "  added / updated specs:\n",
            "    - scikit-learn\n",
            "\n",
            "\n",
            "The following packages will be downloaded:\n",
            "\n",
            "    package                    |            build\n",
            "    ---------------------------|-----------------\n",
            "    ca-certificates-2020.7.22  |                0         132 KB  anaconda\n",
            "    certifi-2020.6.20          |           py37_0         159 KB  anaconda\n",
            "    conda-4.8.5                |           py37_0         3.1 MB  anaconda\n",
            "    joblib-0.16.0              |             py_0         210 KB  anaconda\n",
            "    libgfortran-ng-7.3.0       |       hdf63c60_0         1.3 MB  anaconda\n",
            "    openssl-1.1.1h             |       h7b6447c_0         3.8 MB  anaconda\n",
            "    scikit-learn-0.23.2        |   py37h0573a6f_0         6.9 MB  anaconda\n",
            "    scipy-1.5.2                |   py37h0b6359f_0        14.3 MB\n",
            "    threadpoolctl-2.1.0        |     pyh5ca1d4c_0          16 KB  anaconda\n",
            "    ------------------------------------------------------------\n",
            "                                           Total:        29.8 MB\n",
            "\n",
            "The following NEW packages will be INSTALLED:\n",
            "\n",
            "  joblib             anaconda/noarch::joblib-0.16.0-py_0\n",
            "  libgfortran-ng     anaconda/linux-64::libgfortran-ng-7.3.0-hdf63c60_0\n",
            "  scikit-learn       anaconda/linux-64::scikit-learn-0.23.2-py37h0573a6f_0\n",
            "  scipy              pkgs/main/linux-64::scipy-1.5.2-py37h0b6359f_0\n",
            "  threadpoolctl      anaconda/noarch::threadpoolctl-2.1.0-pyh5ca1d4c_0\n",
            "\n",
            "The following packages will be UPDATED:\n",
            "\n",
            "  ca-certificates    conda-forge::ca-certificates-2020.6.2~ --> anaconda::ca-certificates-2020.7.22-0\n",
            "\n",
            "The following packages will be SUPERSEDED by a higher-priority channel:\n",
            "\n",
            "  certifi            conda-forge::certifi-2020.6.20-py37hc~ --> anaconda::certifi-2020.6.20-py37_0\n",
            "  conda              conda-forge::conda-4.8.5-py37hc8dfbb8~ --> anaconda::conda-4.8.5-py37_0\n",
            "  openssl            conda-forge::openssl-1.1.1h-h516909a_0 --> anaconda::openssl-1.1.1h-h7b6447c_0\n",
            "\n",
            "\n",
            "Proceed ([y]/n)? y\n",
            "\n",
            "\n",
            "Downloading and Extracting Packages\n",
            "scikit-learn-0.23.2  | 6.9 MB    | : 100% 1.0/1 [00:02<00:00,  2.66s/it]               \n",
            "scipy-1.5.2          | 14.3 MB   | : 100% 1.0/1 [00:01<00:00,  1.02s/it]               \n",
            "libgfortran-ng-7.3.0 | 1.3 MB    | : 100% 1.0/1 [00:00<00:00,  2.73it/s]\n",
            "certifi-2020.6.20    | 159 KB    | : 100% 1.0/1 [00:00<00:00, 11.54it/s]\n",
            "conda-4.8.5          | 3.1 MB    | : 100% 1.0/1 [00:01<00:00,  1.10s/it]\n",
            "ca-certificates-2020 | 132 KB    | : 100% 1.0/1 [00:00<00:00, 14.24it/s]\n",
            "openssl-1.1.1h       | 3.8 MB    | : 100% 1.0/1 [00:01<00:00,  1.03s/it]\n",
            "threadpoolctl-2.1.0  | 16 KB     | : 100% 1.0/1 [00:00<00:00, 26.06it/s]\n",
            "joblib-0.16.0        | 210 KB    | : 100% 1.0/1 [00:00<00:00,  8.00it/s]\n",
            "Preparing transaction: | \b\b/ \b\bdone\n",
            "Verifying transaction: \\ \b\b| \b\b/ \b\b- \b\b\\ \b\b| \b\b/ \b\b- \b\b\\ \b\b| \b\b/ \b\b- \b\b\\ \b\b| \b\b/ \b\bdone\n",
            "Executing transaction: \\ \b\b| \b\b/ \b\b- \b\b\\ \b\b| \b\b/ \b\b- \b\b\\ \b\b| \b\b/ \b\b- \b\bdone\n"
          ],
          "name": "stdout"
        }
      ]
    },
    {
      "cell_type": "code",
      "metadata": {
        "id": "epD8AA-mKJ6u",
        "outputId": "2436f9f8-625a-46ef-9246-9a32f24f12a1",
        "colab": {
          "base_uri": "https://localhost:8080/",
          "height": 425
        }
      },
      "source": [
        "from copy import copy\n",
        "\n",
        "from lstm_chem.utils.config import process_config\n",
        "from lstm_chem.utils.dirs import create_dirs\n",
        "from lstm_chem.data_loader import DataLoader\n",
        "from lstm_chem.model import LSTMChem\n",
        "from lstm_chem.trainer import LSTMChemTrainer\n",
        "\n",
        "CONFIG_FILE = '/content/drive/My Drive/DD/experiments/base_experiment/LSTM_Chem/config.json'\n",
        "\n",
        "\n",
        "def main():\n",
        "    config = process_config(CONFIG_FILE)\n",
        "\n",
        "    # create the experiments dirs\n",
        "    create_dirs(\n",
        "        [config.exp_dir, config.tensorboard_log_dir, config.checkpoint_dir])\n",
        "\n",
        "    print('Create the data generator.')\n",
        "    train_dl = DataLoader(config, data_type='train')\n",
        "    valid_dl = copy(train_dl)\n",
        "    valid_dl.data_type = 'valid'\n",
        "\n",
        "    print('Create the model.')\n",
        "    modeler = LSTMChem(config, session='train')\n",
        "\n",
        "    print('Create the trainer')\n",
        "    trainer = LSTMChemTrainer(modeler, train_dl, valid_dl)\n",
        "\n",
        "    print('Start training the model.')\n",
        "    trainer.train()\n",
        "\n",
        " \n",
        "if __name__ == '__main__':\n",
        "    main()"
      ],
      "execution_count": null,
      "outputs": [
        {
          "output_type": "stream",
          "text": [
            "Create the data generator.\n",
            "loading SMILES...\n"
          ],
          "name": "stdout"
        },
        {
          "output_type": "stream",
          "text": [
            "  0%|          | 345/180793 [00:00<00:52, 3447.76it/s]"
          ],
          "name": "stderr"
        },
        {
          "output_type": "stream",
          "text": [
            "done.\n",
            "tokenizing SMILES...\n"
          ],
          "name": "stdout"
        },
        {
          "output_type": "stream",
          "text": [
            "  9%|▉         | 16763/180793 [00:04<00:47, 3443.87it/s]"
          ],
          "name": "stderr"
        },
        {
          "output_type": "error",
          "ename": "KeyboardInterrupt",
          "evalue": "ignored",
          "traceback": [
            "\u001b[0;31m---------------------------------------------------------------------------\u001b[0m",
            "\u001b[0;31mKeyboardInterrupt\u001b[0m                         Traceback (most recent call last)",
            "\u001b[0;32m<ipython-input-32-5701f37adce3>\u001b[0m in \u001b[0;36m<module>\u001b[0;34m()\u001b[0m\n\u001b[1;32m     33\u001b[0m \u001b[0;34m\u001b[0m\u001b[0m\n\u001b[1;32m     34\u001b[0m \u001b[0;32mif\u001b[0m \u001b[0m__name__\u001b[0m \u001b[0;34m==\u001b[0m \u001b[0;34m'__main__'\u001b[0m\u001b[0;34m:\u001b[0m\u001b[0;34m\u001b[0m\u001b[0;34m\u001b[0m\u001b[0m\n\u001b[0;32m---> 35\u001b[0;31m     \u001b[0mmain\u001b[0m\u001b[0;34m(\u001b[0m\u001b[0;34m)\u001b[0m\u001b[0;34m\u001b[0m\u001b[0;34m\u001b[0m\u001b[0m\n\u001b[0m",
            "\u001b[0;32m<ipython-input-32-5701f37adce3>\u001b[0m in \u001b[0;36mmain\u001b[0;34m()\u001b[0m\n\u001b[1;32m     18\u001b[0m \u001b[0;34m\u001b[0m\u001b[0m\n\u001b[1;32m     19\u001b[0m     \u001b[0mprint\u001b[0m\u001b[0;34m(\u001b[0m\u001b[0;34m'Create the data generator.'\u001b[0m\u001b[0;34m)\u001b[0m\u001b[0;34m\u001b[0m\u001b[0;34m\u001b[0m\u001b[0m\n\u001b[0;32m---> 20\u001b[0;31m     \u001b[0mtrain_dl\u001b[0m \u001b[0;34m=\u001b[0m \u001b[0mDataLoader\u001b[0m\u001b[0;34m(\u001b[0m\u001b[0mconfig\u001b[0m\u001b[0;34m,\u001b[0m \u001b[0mdata_type\u001b[0m\u001b[0;34m=\u001b[0m\u001b[0;34m'train'\u001b[0m\u001b[0;34m)\u001b[0m\u001b[0;34m\u001b[0m\u001b[0;34m\u001b[0m\u001b[0m\n\u001b[0m\u001b[1;32m     21\u001b[0m     \u001b[0mvalid_dl\u001b[0m \u001b[0;34m=\u001b[0m \u001b[0mcopy\u001b[0m\u001b[0;34m(\u001b[0m\u001b[0mtrain_dl\u001b[0m\u001b[0;34m)\u001b[0m\u001b[0;34m\u001b[0m\u001b[0;34m\u001b[0m\u001b[0m\n\u001b[1;32m     22\u001b[0m     \u001b[0mvalid_dl\u001b[0m\u001b[0;34m.\u001b[0m\u001b[0mdata_type\u001b[0m \u001b[0;34m=\u001b[0m \u001b[0;34m'valid'\u001b[0m\u001b[0;34m\u001b[0m\u001b[0;34m\u001b[0m\u001b[0m\n",
            "\u001b[0;32m/content/drive/My Drive/DD/lstm_chem/data_loader.py\u001b[0m in \u001b[0;36m__init__\u001b[0;34m(self, config, data_type)\u001b[0m\n\u001b[1;32m     25\u001b[0m         \u001b[0mself\u001b[0m\u001b[0;34m.\u001b[0m\u001b[0mone_hot_dict\u001b[0m \u001b[0;34m=\u001b[0m \u001b[0mself\u001b[0m\u001b[0;34m.\u001b[0m\u001b[0mst\u001b[0m\u001b[0;34m.\u001b[0m\u001b[0mone_hot_dict\u001b[0m\u001b[0;34m\u001b[0m\u001b[0;34m\u001b[0m\u001b[0m\n\u001b[1;32m     26\u001b[0m \u001b[0;34m\u001b[0m\u001b[0m\n\u001b[0;32m---> 27\u001b[0;31m         \u001b[0mself\u001b[0m\u001b[0;34m.\u001b[0m\u001b[0mtokenized_smiles\u001b[0m \u001b[0;34m=\u001b[0m \u001b[0mself\u001b[0m\u001b[0;34m.\u001b[0m\u001b[0m_tokenize\u001b[0m\u001b[0;34m(\u001b[0m\u001b[0mself\u001b[0m\u001b[0;34m.\u001b[0m\u001b[0msmiles\u001b[0m\u001b[0;34m)\u001b[0m\u001b[0;34m\u001b[0m\u001b[0;34m\u001b[0m\u001b[0m\n\u001b[0m\u001b[1;32m     28\u001b[0m \u001b[0;34m\u001b[0m\u001b[0m\n\u001b[1;32m     29\u001b[0m         \u001b[0;32mif\u001b[0m \u001b[0mself\u001b[0m\u001b[0;34m.\u001b[0m\u001b[0mdata_type\u001b[0m \u001b[0;32min\u001b[0m \u001b[0;34m[\u001b[0m\u001b[0;34m'train'\u001b[0m\u001b[0;34m,\u001b[0m \u001b[0;34m'valid'\u001b[0m\u001b[0;34m]\u001b[0m\u001b[0;34m:\u001b[0m\u001b[0;34m\u001b[0m\u001b[0;34m\u001b[0m\u001b[0m\n",
            "\u001b[0;32m/content/drive/My Drive/DD/lstm_chem/data_loader.py\u001b[0m in \u001b[0;36m_tokenize\u001b[0;34m(self, smiles)\u001b[0m\n\u001b[1;32m     63\u001b[0m         \u001b[0;32massert\u001b[0m \u001b[0misinstance\u001b[0m\u001b[0;34m(\u001b[0m\u001b[0msmiles\u001b[0m\u001b[0;34m,\u001b[0m \u001b[0mlist\u001b[0m\u001b[0;34m)\u001b[0m\u001b[0;34m\u001b[0m\u001b[0;34m\u001b[0m\u001b[0m\n\u001b[1;32m     64\u001b[0m         \u001b[0mprint\u001b[0m\u001b[0;34m(\u001b[0m\u001b[0;34m'tokenizing SMILES...'\u001b[0m\u001b[0;34m)\u001b[0m\u001b[0;34m\u001b[0m\u001b[0;34m\u001b[0m\u001b[0m\n\u001b[0;32m---> 65\u001b[0;31m         \u001b[0mtokenized_smiles\u001b[0m \u001b[0;34m=\u001b[0m \u001b[0;34m[\u001b[0m\u001b[0mself\u001b[0m\u001b[0;34m.\u001b[0m\u001b[0mst\u001b[0m\u001b[0;34m.\u001b[0m\u001b[0mtokenize\u001b[0m\u001b[0;34m(\u001b[0m\u001b[0msmi\u001b[0m\u001b[0;34m)\u001b[0m \u001b[0;32mfor\u001b[0m \u001b[0msmi\u001b[0m \u001b[0;32min\u001b[0m \u001b[0mtqdm\u001b[0m\u001b[0;34m(\u001b[0m\u001b[0msmiles\u001b[0m\u001b[0;34m)\u001b[0m\u001b[0;34m]\u001b[0m\u001b[0;34m\u001b[0m\u001b[0;34m\u001b[0m\u001b[0m\n\u001b[0m\u001b[1;32m     66\u001b[0m \u001b[0;34m\u001b[0m\u001b[0m\n\u001b[1;32m     67\u001b[0m         \u001b[0;32mif\u001b[0m \u001b[0mself\u001b[0m\u001b[0;34m.\u001b[0m\u001b[0mdata_type\u001b[0m \u001b[0;34m==\u001b[0m \u001b[0;34m'train'\u001b[0m\u001b[0;34m:\u001b[0m\u001b[0;34m\u001b[0m\u001b[0;34m\u001b[0m\u001b[0m\n",
            "\u001b[0;32m/content/drive/My Drive/DD/lstm_chem/data_loader.py\u001b[0m in \u001b[0;36m<listcomp>\u001b[0;34m(.0)\u001b[0m\n\u001b[1;32m     63\u001b[0m         \u001b[0;32massert\u001b[0m \u001b[0misinstance\u001b[0m\u001b[0;34m(\u001b[0m\u001b[0msmiles\u001b[0m\u001b[0;34m,\u001b[0m \u001b[0mlist\u001b[0m\u001b[0;34m)\u001b[0m\u001b[0;34m\u001b[0m\u001b[0;34m\u001b[0m\u001b[0m\n\u001b[1;32m     64\u001b[0m         \u001b[0mprint\u001b[0m\u001b[0;34m(\u001b[0m\u001b[0;34m'tokenizing SMILES...'\u001b[0m\u001b[0;34m)\u001b[0m\u001b[0;34m\u001b[0m\u001b[0;34m\u001b[0m\u001b[0m\n\u001b[0;32m---> 65\u001b[0;31m         \u001b[0mtokenized_smiles\u001b[0m \u001b[0;34m=\u001b[0m \u001b[0;34m[\u001b[0m\u001b[0mself\u001b[0m\u001b[0;34m.\u001b[0m\u001b[0mst\u001b[0m\u001b[0;34m.\u001b[0m\u001b[0mtokenize\u001b[0m\u001b[0;34m(\u001b[0m\u001b[0msmi\u001b[0m\u001b[0;34m)\u001b[0m \u001b[0;32mfor\u001b[0m \u001b[0msmi\u001b[0m \u001b[0;32min\u001b[0m \u001b[0mtqdm\u001b[0m\u001b[0;34m(\u001b[0m\u001b[0msmiles\u001b[0m\u001b[0;34m)\u001b[0m\u001b[0;34m]\u001b[0m\u001b[0;34m\u001b[0m\u001b[0;34m\u001b[0m\u001b[0m\n\u001b[0m\u001b[1;32m     66\u001b[0m \u001b[0;34m\u001b[0m\u001b[0m\n\u001b[1;32m     67\u001b[0m         \u001b[0;32mif\u001b[0m \u001b[0mself\u001b[0m\u001b[0;34m.\u001b[0m\u001b[0mdata_type\u001b[0m \u001b[0;34m==\u001b[0m \u001b[0;34m'train'\u001b[0m\u001b[0;34m:\u001b[0m\u001b[0;34m\u001b[0m\u001b[0;34m\u001b[0m\u001b[0m\n",
            "\u001b[0;32m/content/drive/My Drive/DD/lstm_chem/utils/smiles_tokenizer.py\u001b[0m in \u001b[0;36mtokenize\u001b[0;34m(self, smiles)\u001b[0m\n\u001b[1;32m     57\u001b[0m             \u001b[0;32mfor\u001b[0m \u001b[0mj\u001b[0m \u001b[0;32min\u001b[0m \u001b[0mrange\u001b[0m\u001b[0;34m(\u001b[0m\u001b[0mself\u001b[0m\u001b[0;34m.\u001b[0m\u001b[0mtable_len\u001b[0m\u001b[0;34m)\u001b[0m\u001b[0;34m:\u001b[0m\u001b[0;34m\u001b[0m\u001b[0;34m\u001b[0m\u001b[0m\n\u001b[1;32m     58\u001b[0m                 \u001b[0msymbol\u001b[0m \u001b[0;34m=\u001b[0m \u001b[0mself\u001b[0m\u001b[0;34m.\u001b[0m\u001b[0mtable\u001b[0m\u001b[0;34m[\u001b[0m\u001b[0mj\u001b[0m\u001b[0;34m]\u001b[0m\u001b[0;34m\u001b[0m\u001b[0;34m\u001b[0m\u001b[0m\n\u001b[0;32m---> 59\u001b[0;31m                 \u001b[0;32mif\u001b[0m \u001b[0msymbol\u001b[0m \u001b[0;34m==\u001b[0m \u001b[0msmiles\u001b[0m\u001b[0;34m[\u001b[0m\u001b[0mi\u001b[0m\u001b[0;34m:\u001b[0m\u001b[0mi\u001b[0m \u001b[0;34m+\u001b[0m \u001b[0mlen\u001b[0m\u001b[0;34m(\u001b[0m\u001b[0msymbol\u001b[0m\u001b[0;34m)\u001b[0m\u001b[0;34m]\u001b[0m\u001b[0;34m:\u001b[0m\u001b[0;34m\u001b[0m\u001b[0;34m\u001b[0m\u001b[0m\n\u001b[0m\u001b[1;32m     60\u001b[0m                     \u001b[0mtoken\u001b[0m\u001b[0;34m.\u001b[0m\u001b[0mappend\u001b[0m\u001b[0;34m(\u001b[0m\u001b[0msymbol\u001b[0m\u001b[0;34m)\u001b[0m\u001b[0;34m\u001b[0m\u001b[0;34m\u001b[0m\u001b[0m\n\u001b[1;32m     61\u001b[0m                     \u001b[0mi\u001b[0m \u001b[0;34m+=\u001b[0m \u001b[0mlen\u001b[0m\u001b[0;34m(\u001b[0m\u001b[0msymbol\u001b[0m\u001b[0;34m)\u001b[0m\u001b[0;34m\u001b[0m\u001b[0;34m\u001b[0m\u001b[0m\n",
            "\u001b[0;31mKeyboardInterrupt\u001b[0m: "
          ]
        }
      ]
    },
    {
      "cell_type": "markdown",
      "metadata": {
        "id": "UTg4MZbpKRLf"
      },
      "source": [
        "Generate new Molecules"
      ]
    },
    {
      "cell_type": "code",
      "metadata": {
        "id": "uOc0Tyl_KT94"
      },
      "source": [
        "import numpy as np\n",
        "import matplotlib.pyplot as plt\n",
        "%matplotlib inline\n",
        "\n",
        "from lstm_chem.utils.config import process_config\n",
        "from lstm_chem.model import LSTMChem\n",
        "from lstm_chem.generator import LSTMChemGenerator"
      ],
      "execution_count": null,
      "outputs": []
    },
    {
      "cell_type": "code",
      "metadata": {
        "id": "pAfqkOB3KX_L"
      },
      "source": [
        "CONFIG_FILE = '/content/drive/My Drive/DD/experiments/base_experiment/LSTM_Chem/config.json'\n",
        "config = process_config(CONFIG_FILE)"
      ],
      "execution_count": null,
      "outputs": []
    },
    {
      "cell_type": "code",
      "metadata": {
        "id": "PtnRvrYtKbT4",
        "outputId": "1d9ecc10-bd09-45ba-8508-92ad39f5c161",
        "colab": {
          "base_uri": "https://localhost:8080/",
          "height": 581
        }
      },
      "source": [
        "\n",
        "modeler = LSTMChem(config, session='generate')\n",
        "generator = LSTMChemGenerator(modeler)\n",
        "print(config)"
      ],
      "execution_count": null,
      "outputs": [
        {
          "output_type": "stream",
          "text": [
            "Loading model architecture from /content/drive/My Drive/DD/experiments/base_experiment/LSTM_Chem/model_arch.json ...\n",
            "Loading model checkpoint from /content/drive/My Drive/DD/experiments/base_experiment/LSTM_Chem/checkpoints/LSTM_Chem-baseline-model-full.hdf5 ...\n",
            "Loaded the Model.\n",
            "batch_size: 512\n",
            "checkpoint_dir: experiments/2020-09-25/LSTM_Chem/checkpoints/\n",
            "checkpoint_mode: min\n",
            "checkpoint_monitor: val_loss\n",
            "checkpoint_save_best_only: false\n",
            "checkpoint_save_weights_only: true\n",
            "checkpoint_verbose: 1\n",
            "config_file: /content/drive/My Drive/DD/experiments/base_experiment/LSTM_Chem/config.json\n",
            "data_filename: /content/drive/My Drive/DD/datasets/all_smiles_clean.txt\n",
            "data_length: 0\n",
            "exp_dir: experiments/2020-09-25/LSTM_Chem\n",
            "exp_name: LSTM_Chem\n",
            "finetune_batch_size: 1\n",
            "finetune_data_filename: /content/drive/My Drive/DD/datasets/protease_inhibitors_for_fine-tune.txt\n",
            "finetune_epochs: 12\n",
            "model_arch_filename: /content/drive/My Drive/DD/experiments/base_experiment/LSTM_Chem/model_arch.json\n",
            "model_weight_filename: /content/drive/My Drive/DD/experiments/base_experiment/LSTM_Chem/checkpoints/LSTM_Chem-baseline-model-full.hdf5\n",
            "num_epochs: 42\n",
            "optimizer: adam\n",
            "sampling_temp: 0.75\n",
            "seed: 71\n",
            "smiles_max_length: 128\n",
            "tensorboard_log_dir: experiments/2020-09-25/LSTM_Chem/logs/\n",
            "tensorboard_write_graph: true\n",
            "train_smi_max_len: 128\n",
            "units: 256\n",
            "validation_split: 0.1\n",
            "verbose_training: true\n",
            "\n"
          ],
          "name": "stdout"
        }
      ]
    },
    {
      "cell_type": "code",
      "metadata": {
        "id": "FTG0cESlKfsE",
        "outputId": "d0db44d6-491e-457c-ca62-2c1743e9583c",
        "colab": {
          "base_uri": "https://localhost:8080/",
          "height": 1000
        }
      },
      "source": [
        "\n",
        "sample_number = 100\n",
        "sampled_smiles = generator.sample(num=sample_number)"
      ],
      "execution_count": null,
      "outputs": [
        {
          "output_type": "stream",
          "text": [
            "\n",
            "  0%|          | 0/100 [00:00<?, ?it/s]\u001b[A\n",
            "  1%|          | 1/100 [00:03<05:40,  3.44s/it]\u001b[A\n",
            "  2%|▏         | 2/100 [00:04<04:25,  2.71s/it]\u001b[A\n",
            "  3%|▎         | 3/100 [00:05<03:38,  2.25s/it]\u001b[A\n",
            "  4%|▍         | 4/100 [00:06<02:58,  1.86s/it]\u001b[A\n",
            "  5%|▌         | 5/100 [00:07<02:29,  1.58s/it]\u001b[A\n",
            "  6%|▌         | 6/100 [00:17<06:36,  4.22s/it]\u001b[A\n",
            "  7%|▋         | 7/100 [00:19<05:15,  3.39s/it]\u001b[A\n",
            "  8%|▊         | 8/100 [00:20<04:19,  2.82s/it]\u001b[A\n",
            "  9%|▉         | 9/100 [00:23<04:00,  2.65s/it]\u001b[A\n",
            " 10%|█         | 10/100 [00:23<03:09,  2.11s/it]\u001b[A\n",
            " 11%|█         | 11/100 [00:25<02:54,  1.96s/it]\u001b[A\n",
            " 12%|█▏        | 12/100 [00:26<02:39,  1.81s/it]\u001b[A\n",
            " 13%|█▎        | 13/100 [00:28<02:21,  1.63s/it]\u001b[A\n",
            " 14%|█▍        | 14/100 [00:29<02:02,  1.43s/it]\u001b[A\n",
            " 15%|█▌        | 15/100 [00:30<01:47,  1.27s/it]\u001b[A\n",
            " 16%|█▌        | 16/100 [00:32<02:06,  1.51s/it]\u001b[A\n",
            " 17%|█▋        | 17/100 [00:33<01:53,  1.37s/it]\u001b[A\n",
            " 18%|█▊        | 18/100 [00:34<01:48,  1.33s/it]\u001b[A\n",
            " 19%|█▉        | 19/100 [00:36<02:09,  1.60s/it]\u001b[A\n",
            " 20%|██        | 20/100 [00:40<03:04,  2.31s/it]\u001b[A\n",
            " 21%|██        | 21/100 [00:41<02:38,  2.01s/it]\u001b[A\n",
            " 22%|██▏       | 22/100 [00:43<02:15,  1.74s/it]\u001b[A\n",
            " 23%|██▎       | 23/100 [00:44<01:56,  1.52s/it]\u001b[A\n",
            " 24%|██▍       | 24/100 [00:44<01:43,  1.36s/it]\u001b[A\n",
            " 25%|██▌       | 25/100 [00:45<01:30,  1.20s/it]\u001b[A\n",
            " 26%|██▌       | 26/100 [00:47<01:30,  1.22s/it]\u001b[A\n",
            " 27%|██▋       | 27/100 [00:48<01:24,  1.16s/it]\u001b[A\n",
            " 28%|██▊       | 28/100 [00:53<02:44,  2.29s/it]\u001b[A\n",
            " 29%|██▉       | 29/100 [00:54<02:19,  1.97s/it]\u001b[A\n",
            " 30%|███       | 30/100 [00:55<01:57,  1.68s/it]\u001b[A\n",
            " 31%|███       | 31/100 [00:58<02:27,  2.13s/it]\u001b[A\n",
            " 32%|███▏      | 32/100 [00:59<02:10,  1.92s/it]\u001b[A\n",
            " 33%|███▎      | 33/100 [01:01<01:58,  1.77s/it]\u001b[A\n",
            " 34%|███▍      | 34/100 [01:02<01:41,  1.54s/it]\u001b[A\n",
            " 35%|███▌      | 35/100 [01:03<01:31,  1.40s/it]\u001b[A\n",
            " 36%|███▌      | 36/100 [01:04<01:33,  1.46s/it]\u001b[A\n",
            " 37%|███▋      | 37/100 [01:08<02:14,  2.14s/it]\u001b[A\n",
            " 38%|███▊      | 38/100 [01:10<02:05,  2.02s/it]\u001b[A\n",
            " 39%|███▉      | 39/100 [01:11<01:51,  1.84s/it]\u001b[A\n",
            " 40%|████      | 40/100 [01:13<01:50,  1.84s/it]\u001b[A\n",
            " 41%|████      | 41/100 [01:15<01:50,  1.87s/it]\u001b[A\n",
            " 42%|████▏     | 42/100 [01:19<02:25,  2.51s/it]\u001b[A\n",
            " 43%|████▎     | 43/100 [01:20<02:03,  2.16s/it]\u001b[A\n",
            " 44%|████▍     | 44/100 [01:22<01:45,  1.88s/it]\u001b[A\n",
            " 45%|████▌     | 45/100 [01:27<02:42,  2.95s/it]\u001b[A\n",
            " 46%|████▌     | 46/100 [01:30<02:36,  2.90s/it]\u001b[A\n",
            " 47%|████▋     | 47/100 [01:31<02:06,  2.40s/it]\u001b[A\n",
            " 48%|████▊     | 48/100 [01:32<01:41,  1.96s/it]\u001b[A\n",
            " 49%|████▉     | 49/100 [01:33<01:24,  1.66s/it]\u001b[A\n",
            " 50%|█████     | 50/100 [01:34<01:12,  1.46s/it]\u001b[A\n",
            " 51%|█████     | 51/100 [01:35<01:05,  1.35s/it]\u001b[A\n",
            " 52%|█████▏    | 52/100 [01:36<01:01,  1.29s/it]\u001b[A\n",
            " 53%|█████▎    | 53/100 [01:38<01:00,  1.28s/it]\u001b[A\n",
            " 54%|█████▍    | 54/100 [01:47<02:54,  3.79s/it]\u001b[A\n",
            " 55%|█████▌    | 55/100 [01:48<02:14,  2.99s/it]\u001b[A\n",
            " 56%|█████▌    | 56/100 [01:49<01:47,  2.44s/it]\u001b[A\n",
            " 57%|█████▋    | 57/100 [01:51<01:27,  2.04s/it]\u001b[A\n",
            " 58%|█████▊    | 58/100 [01:52<01:12,  1.74s/it]\u001b[A\n",
            " 59%|█████▉    | 59/100 [01:53<01:10,  1.71s/it]\u001b[A\n",
            " 60%|██████    | 60/100 [01:55<01:04,  1.60s/it]\u001b[A\n",
            " 61%|██████    | 61/100 [01:56<00:54,  1.41s/it]\u001b[A\n",
            " 62%|██████▏   | 62/100 [01:57<00:48,  1.28s/it]\u001b[A\n",
            " 63%|██████▎   | 63/100 [01:57<00:43,  1.19s/it]\u001b[A\n",
            " 64%|██████▍   | 64/100 [02:06<02:06,  3.51s/it]\u001b[A\n",
            " 65%|██████▌   | 65/100 [02:08<01:46,  3.04s/it]\u001b[A\n",
            " 66%|██████▌   | 66/100 [02:09<01:23,  2.45s/it]\u001b[A\n",
            " 67%|██████▋   | 67/100 [02:11<01:12,  2.21s/it]\u001b[A\n",
            " 68%|██████▊   | 68/100 [02:13<01:03,  1.98s/it]\u001b[A\n",
            " 69%|██████▉   | 69/100 [02:13<00:50,  1.64s/it]\u001b[A\n",
            " 70%|███████   | 70/100 [02:14<00:42,  1.43s/it]\u001b[A\n",
            " 71%|███████   | 71/100 [02:16<00:39,  1.37s/it]\u001b[A\n",
            " 72%|███████▏  | 72/100 [02:17<00:35,  1.27s/it]\u001b[A\n",
            " 73%|███████▎  | 73/100 [02:18<00:38,  1.42s/it]\u001b[A\n",
            " 74%|███████▍  | 74/100 [02:21<00:43,  1.66s/it]\u001b[A\n",
            " 75%|███████▌  | 75/100 [02:23<00:44,  1.80s/it]\u001b[A\n",
            " 76%|███████▌  | 76/100 [02:24<00:40,  1.70s/it]\u001b[A\n",
            " 77%|███████▋  | 77/100 [02:27<00:45,  1.97s/it]\u001b[A\n",
            " 78%|███████▊  | 78/100 [02:28<00:40,  1.85s/it]\u001b[A\n",
            " 79%|███████▉  | 79/100 [02:29<00:34,  1.62s/it]\u001b[A\n",
            " 80%|████████  | 80/100 [02:31<00:29,  1.49s/it]\u001b[A\n",
            " 81%|████████  | 81/100 [02:32<00:25,  1.32s/it]\u001b[A\n",
            " 82%|████████▏ | 82/100 [02:33<00:23,  1.32s/it]\u001b[A\n",
            " 83%|████████▎ | 83/100 [02:34<00:20,  1.23s/it]\u001b[A\n",
            " 84%|████████▍ | 84/100 [02:35<00:18,  1.17s/it]\u001b[A\n",
            " 85%|████████▌ | 85/100 [02:36<00:17,  1.15s/it]\u001b[A\n",
            " 86%|████████▌ | 86/100 [02:45<00:49,  3.53s/it]\u001b[A\n",
            " 87%|████████▋ | 87/100 [02:48<00:43,  3.36s/it]\u001b[A\n",
            " 88%|████████▊ | 88/100 [02:49<00:32,  2.73s/it]\u001b[A\n",
            " 89%|████████▉ | 89/100 [02:50<00:24,  2.19s/it]\u001b[A\n",
            " 90%|█████████ | 90/100 [02:51<00:18,  1.83s/it]\u001b[A\n",
            " 91%|█████████ | 91/100 [02:52<00:14,  1.62s/it]\u001b[A\n",
            " 92%|█████████▏| 92/100 [02:53<00:11,  1.45s/it]\u001b[A\n",
            " 93%|█████████▎| 93/100 [02:59<00:17,  2.55s/it]\u001b[A\n",
            " 94%|█████████▍| 94/100 [03:00<00:13,  2.24s/it]\u001b[A\n",
            " 95%|█████████▌| 95/100 [03:02<00:11,  2.29s/it]\u001b[A\n",
            " 96%|█████████▌| 96/100 [03:04<00:07,  1.96s/it]\u001b[A\n",
            " 97%|█████████▋| 97/100 [03:07<00:07,  2.36s/it]\u001b[A\n",
            " 98%|█████████▊| 98/100 [03:09<00:04,  2.18s/it]\u001b[A\n",
            " 99%|█████████▉| 99/100 [03:13<00:02,  2.84s/it]\u001b[A\n",
            "100%|██████████| 100/100 [03:14<00:00,  1.95s/it]\n"
          ],
          "name": "stderr"
        }
      ]
    },
    {
      "cell_type": "code",
      "metadata": {
        "id": "rwEtvreuEnPS",
        "outputId": "b4af989e-36d6-459c-fd38-f5e56f8be1cd",
        "colab": {
          "base_uri": "https://localhost:8080/",
          "height": 167
        }
      },
      "source": [
        "from rdkit.Chem.Draw import IPythonConsole\n",
        "def mol_with_atom_index(mol):\n",
        "    for atom in mol.GetAtoms():\n",
        "        atom.SetAtomMapNum(atom.GetIdx())\n",
        "    return mol\n",
        "mol_with_atom_index(mol)\n",
        "\n"
      ],
      "execution_count": 62,
      "outputs": [
        {
          "output_type": "execute_result",
          "data": {
            "image/png": "[encoded data removed]",
            "text/plain": [
              "<rdkit.Chem.rdchem.Mol at 0x7f09d1430f30>"
            ]
          },
          "metadata": {
            "tags": []
          },
          "execution_count": 62
        }
      ]
    },
    {
      "cell_type": "code",
      "metadata": {
        "id": "1VeFk_56Ktrn"
      },
      "source": [
        "\n",
        "for atom in sampled_smiles:\n",
        "  \n",
        "   atom.SetAtomMapNum(atom.GetIdx())\n",
        "  "
      ],
      "execution_count": null,
      "outputs": []
    },
    {
      "cell_type": "code",
      "metadata": {
        "id": "zOK4CVlfKljT"
      },
      "source": [
        "from rdkit import RDLogger, Chem, DataStructs\n",
        "from rdkit.Chem import AllChem, Draw, Descriptors\n",
        "from rdkit.Chem.Draw import IPythonConsole\n",
        "RDLogger.DisableLog('rdApp.*')"
      ],
      "execution_count": 71,
      "outputs": []
    },
    {
      "cell_type": "code",
      "metadata": {
        "id": "518P6G8cKpWg",
        "outputId": "4cf1136b-594e-407f-c5e2-57e59e1f7ea7",
        "colab": {
          "base_uri": "https://localhost:8080/",
          "height": 68
        }
      },
      "source": [
        "\n",
        "valid_mols = []\n",
        "for smi in sampled_smiles:\n",
        "    mol = Chem.MolFromSmiles(smi)\n",
        "    if mol is not None:\n",
        "        valid_mols.append(mol)\n",
        "# High validity\n",
        "print('Validity: ', f'{len(valid_mols) / sample_number:.2%}')\n",
        "\n",
        "valid_smiles = [Chem.MolToSmiles(mol) for mol in valid_mols]\n",
        "# high uniqueness\n",
        "print('Uniqueness: ', f'{len(set(valid_smiles)) / len(valid_smiles):.2%}')\n",
        "\n",
        "# Of valid smiles generated, how many are truly original vs ocurring in the training data\n",
        "import pandas as pd\n",
        "training_data = pd.read_csv('/content/drive/My Drive/DD/datasets/all_smiles_clean.txt', header=None)\n",
        "training_set = set(list(training_data[0]))\n",
        "original = []\n",
        "for smile in valid_smiles:\n",
        "    if not smile in training_set:\n",
        "        original.append(smile)\n",
        "print('Originality: ', f'{len(set(original)) / len(set(valid_smiles)):.2%}')"
      ],
      "execution_count": null,
      "outputs": [
        {
          "output_type": "stream",
          "text": [
            "Validity:  95.00%\n",
            "Uniqueness:  100.00%\n",
            "Originality:  97.89%\n"
          ],
          "name": "stdout"
        }
      ]
    },
    {
      "cell_type": "code",
      "metadata": {
        "id": "EwUYIjtKMvuz",
        "outputId": "2a7019b9-67de-4c64-d79d-8d70bd25789d",
        "colab": {
          "base_uri": "https://localhost:8080/",
          "height": 51
        }
      },
      "source": [
        "!ls\n"
      ],
      "execution_count": 79,
      "outputs": [
        {
          "output_type": "stream",
          "text": [
            "drive\t     Miniconda3-py37_4.8.2-Linux-x86_64.sh    sample_data\n",
            "experiments  Miniconda3-py37_4.8.2-Linux-x86_64.sh.1\n"
          ],
          "name": "stdout"
        }
      ]
    },
    {
      "cell_type": "code",
      "metadata": {
        "id": "qfqG4kthKtKt"
      },
      "source": [
        "\n",
        "with open('datasets/all_smiles_clean.txt') as f:\n",
        "    org_smiles = [l.rstrip() for l in f]\n",
        "\n",
        "org_mols = [mol for mol in [Chem.MolFromSmiles(smi) for smi in org_smiles] if mol is not None]"
      ],
      "execution_count": 82,
      "outputs": []
    },
    {
      "cell_type": "code",
      "metadata": {
        "id": "sRjlQhttKvtW"
      },
      "source": [
        "Vfps = []\n",
        "for mol in valid_mols:\n",
        "    bv = AllChem.GetMACCSKeysFingerprint(mol)\n",
        "    fp = np.zeros(len(bv))\n",
        "    DataStructs.ConvertToNumpyArray(bv, fp)\n",
        "    Vfps.append(fp)\n",
        "\n",
        "Ofps = []\n",
        "for mol in org_mols:\n",
        "    bv = AllChem.GetMACCSKeysFingerprint(mol)\n",
        "    fp = np.zeros(len(bv))\n",
        "    DataStructs.ConvertToNumpyArray(bv, fp)\n",
        "    Ofps.append(fp)"
      ],
      "execution_count": 83,
      "outputs": []
    },
    {
      "cell_type": "code",
      "metadata": {
        "id": "kq2AQ0YrKyDx"
      },
      "source": [
        "from sklearn.decomposition import PCA\n",
        "Vlen = len(Vfps)\n",
        "x = Vfps + Ofps\n",
        "pca = PCA(n_components=2, random_state=7)\n",
        "X = pca.fit_transform(x)"
      ],
      "execution_count": 85,
      "outputs": []
    },
    {
      "cell_type": "code",
      "metadata": {
        "id": "1EWS0gS1K0_U",
        "outputId": "255fac12-6fdb-4bc1-ce15-75cc8533c9da",
        "colab": {
          "base_uri": "https://localhost:8080/",
          "height": 551
        }
      },
      "source": [
        "plt.figure(figsize=(12, 9))\n",
        "plt.scatter(X[Vlen:, 0], X[Vlen:, 1], c='w', edgecolors='k', label='original')\n",
        "plt.scatter(X[:Vlen, 0], X[:Vlen, 1], marker='x',c='r', label='generated')\n",
        "plt.xlabel('PC 1')\n",
        "plt.ylabel('PC 2')\n",
        "plt.legend();"
      ],
      "execution_count": 86,
      "outputs": [
        {
          "output_type": "display_data",
          "data": {
            "image/png": "[encoded data removed]",
            "text/plain": [
              "<Figure size 864x648 with 1 Axes>"
            ]
          },
          "metadata": {
            "tags": [],
            "needs_background": "light"
          }
        }
      ]
    },
    {
      "cell_type": "code",
      "metadata": {
        "id": "P-nOEGzhK4aM"
      },
      "source": [
        "props = {\n",
        "    'MW': {\n",
        "        'generated': [Descriptors.ExactMolWt(mol) for mol in valid_mols],\n",
        "        'original': [Descriptors.ExactMolWt(mol) for mol in org_mols]        \n",
        "    }\n",
        "}"
      ],
      "execution_count": 87,
      "outputs": []
    },
    {
      "cell_type": "code",
      "metadata": {
        "id": "7hXu3TtHK7L_",
        "outputId": "c999a82f-313f-4654-85c2-4ed893f75e0b",
        "colab": {
          "base_uri": "https://localhost:8080/",
          "height": 297
        }
      },
      "source": [
        "fig = plt.figure(figsize=(9, 4))\n",
        "\n",
        "ax1 = fig.add_subplot(1, 1, 1)\n",
        "ax1.violinplot([props['MW']['original'], props['MW']['generated']])\n",
        "ax1.set_xticks(ticks=[1, 2])\n",
        "ax1.set_xticklabels(labels=['original', 'generated'])\n",
        "ax1.set_title('MW')\n",
        "\n",
        "\n",
        "plt.tight_layout()"
      ],
      "execution_count": 88,
      "outputs": [
        {
          "output_type": "display_data",
          "data": {
            "image/png": "[encoded data removed]",
            "text/plain": [
              "<Figure size 648x288 with 1 Axes>"
            ]
          },
          "metadata": {
            "tags": [],
            "needs_background": "light"
          }
        }
      ]
    },
    {
      "cell_type": "code",
      "metadata": {
        "id": "-Hs_Ed8xLACL"
      },
      "source": [
        "import numpy as np\n",
        "from sklearn.decomposition import PCA\n",
        "import matplotlib.pyplot as plt\n",
        "%matplotlib inline\n",
        "\n",
        "from rdkit import Chem, DataStructs\n",
        "from rdkit.Chem import AllChem, Draw\n",
        "from rdkit.Chem.Draw import IPythonConsole\n",
        "\n",
        "from lstm_chem.utils.config import process_config\n",
        "from lstm_chem.model import LSTMChem\n",
        "from lstm_chem.finetuner import LSTMChemFinetuner\n",
        "from lstm_chem.data_loader import DataLoader"
      ],
      "execution_count": 89,
      "outputs": []
    },
    {
      "cell_type": "code",
      "metadata": {
        "id": "LloZst7DLDJB",
        "outputId": "e5eed5b3-4c99-4ece-bd42-24605f01b6aa",
        "colab": {
          "base_uri": "https://localhost:8080/",
          "height": 1000
        }
      },
      "source": [
        "config = process_config('/content/drive/My Drive/DD/experiments/base_experiment/LSTM_Chem/config.json')\n",
        "\n",
        "modeler = LSTMChem(config, session='finetune')\n",
        "finetune_dl = DataLoader(config, data_type='finetune')\n",
        "\n",
        "finetuner = LSTMChemFinetuner(modeler, finetune_dl)\n",
        "finetuner.finetune()"
      ],
      "execution_count": 90,
      "outputs": [
        {
          "output_type": "stream",
          "text": [
            "Loading model architecture from /content/drive/My Drive/DD/experiments/base_experiment/LSTM_Chem/model_arch.json ...\n",
            "Loading model checkpoint from /content/drive/My Drive/DD/experiments/base_experiment/LSTM_Chem/checkpoints/LSTM_Chem-baseline-model-full.hdf5 ...\n",
            "Loaded the Model.\n",
            "loading SMILES...\n"
          ],
          "name": "stdout"
        },
        {
          "output_type": "stream",
          "text": [
            "\n",
            "100%|██████████| 6/6 [00:00<00:00, 1015.49it/s]"
          ],
          "name": "stderr"
        },
        {
          "output_type": "stream",
          "text": [
            "done.\n",
            "tokenizing SMILES...\n",
            "done.\n",
            "WARNING:tensorflow:From /content/drive/My Drive/DD/lstm_chem/finetuner.py:23: Model.fit_generator (from tensorflow.python.keras.engine.training) is deprecated and will be removed in a future version.\n",
            "Instructions for updating:\n",
            "Please use Model.fit, which supports generators.\n",
            "Epoch 1/12\n"
          ],
          "name": "stdout"
        },
        {
          "output_type": "stream",
          "text": [
            "\n"
          ],
          "name": "stderr"
        },
        {
          "output_type": "stream",
          "text": [
            "WARNING:tensorflow:multiprocessing can interact badly with TensorFlow, causing nondeterministic deadlocks. For high performance data pipelines tf.data is recommended.\n",
            "5/6 [========================>.....] - ETA: 0s - loss: 1.7075WARNING:tensorflow:multiprocessing can interact badly with TensorFlow, causing nondeterministic deadlocks. For high performance data pipelines tf.data is recommended.\n",
            "6/6 [==============================] - 5s 752ms/step - loss: 1.6561\n",
            "Epoch 2/12\n",
            "WARNING:tensorflow:multiprocessing can interact badly with TensorFlow, causing nondeterministic deadlocks. For high performance data pipelines tf.data is recommended.\n",
            "5/6 [========================>.....] - ETA: 0s - loss: 1.2848WARNING:tensorflow:multiprocessing can interact badly with TensorFlow, causing nondeterministic deadlocks. For high performance data pipelines tf.data is recommended.\n",
            "6/6 [==============================] - 5s 840ms/step - loss: 1.2351\n",
            "Epoch 3/12\n",
            "WARNING:tensorflow:multiprocessing can interact badly with TensorFlow, causing nondeterministic deadlocks. For high performance data pipelines tf.data is recommended.\n",
            "5/6 [========================>.....] - ETA: 0s - loss: 0.9327WARNING:tensorflow:multiprocessing can interact badly with TensorFlow, causing nondeterministic deadlocks. For high performance data pipelines tf.data is recommended.\n",
            "6/6 [==============================] - 5s 821ms/step - loss: 0.9948\n",
            "Epoch 4/12\n",
            "WARNING:tensorflow:multiprocessing can interact badly with TensorFlow, causing nondeterministic deadlocks. For high performance data pipelines tf.data is recommended.\n",
            "5/6 [========================>.....] - ETA: 0s - loss: 0.8906WARNING:tensorflow:multiprocessing can interact badly with TensorFlow, causing nondeterministic deadlocks. For high performance data pipelines tf.data is recommended.\n",
            "6/6 [==============================] - 5s 815ms/step - loss: 0.8396\n",
            "Epoch 5/12\n",
            "WARNING:tensorflow:multiprocessing can interact badly with TensorFlow, causing nondeterministic deadlocks. For high performance data pipelines tf.data is recommended.\n",
            "5/6 [========================>.....] - ETA: 0s - loss: 0.8418WARNING:tensorflow:multiprocessing can interact badly with TensorFlow, causing nondeterministic deadlocks. For high performance data pipelines tf.data is recommended.\n",
            "6/6 [==============================] - 5s 848ms/step - loss: 0.8168\n",
            "Epoch 6/12\n",
            "WARNING:tensorflow:multiprocessing can interact badly with TensorFlow, causing nondeterministic deadlocks. For high performance data pipelines tf.data is recommended.\n",
            "5/6 [========================>.....] - ETA: 0s - loss: 0.6833WARNING:tensorflow:multiprocessing can interact badly with TensorFlow, causing nondeterministic deadlocks. For high performance data pipelines tf.data is recommended.\n",
            "6/6 [==============================] - 5s 829ms/step - loss: 0.7002\n",
            "Epoch 7/12\n",
            "WARNING:tensorflow:multiprocessing can interact badly with TensorFlow, causing nondeterministic deadlocks. For high performance data pipelines tf.data is recommended.\n",
            "5/6 [========================>.....] - ETA: 0s - loss: 0.6107WARNING:tensorflow:multiprocessing can interact badly with TensorFlow, causing nondeterministic deadlocks. For high performance data pipelines tf.data is recommended.\n",
            "6/6 [==============================] - 5s 752ms/step - loss: 0.5954\n",
            "Epoch 8/12\n",
            "WARNING:tensorflow:multiprocessing can interact badly with TensorFlow, causing nondeterministic deadlocks. For high performance data pipelines tf.data is recommended.\n",
            "5/6 [========================>.....] - ETA: 0s - loss: 0.5301WARNING:tensorflow:multiprocessing can interact badly with TensorFlow, causing nondeterministic deadlocks. For high performance data pipelines tf.data is recommended.\n",
            "6/6 [==============================] - 5s 872ms/step - loss: 0.5244\n",
            "Epoch 9/12\n",
            "WARNING:tensorflow:multiprocessing can interact badly with TensorFlow, causing nondeterministic deadlocks. For high performance data pipelines tf.data is recommended.\n",
            "5/6 [========================>.....] - ETA: 0s - loss: 0.4429WARNING:tensorflow:multiprocessing can interact badly with TensorFlow, causing nondeterministic deadlocks. For high performance data pipelines tf.data is recommended.\n",
            "6/6 [==============================] - 5s 837ms/step - loss: 0.4659\n",
            "Epoch 10/12\n",
            "WARNING:tensorflow:multiprocessing can interact badly with TensorFlow, causing nondeterministic deadlocks. For high performance data pipelines tf.data is recommended.\n",
            "5/6 [========================>.....] - ETA: 0s - loss: 0.3880WARNING:tensorflow:multiprocessing can interact badly with TensorFlow, causing nondeterministic deadlocks. For high performance data pipelines tf.data is recommended.\n",
            "6/6 [==============================] - 5s 804ms/step - loss: 0.4276\n",
            "Epoch 11/12\n",
            "WARNING:tensorflow:multiprocessing can interact badly with TensorFlow, causing nondeterministic deadlocks. For high performance data pipelines tf.data is recommended.\n",
            "5/6 [========================>.....] - ETA: 0s - loss: 0.4203WARNING:tensorflow:multiprocessing can interact badly with TensorFlow, causing nondeterministic deadlocks. For high performance data pipelines tf.data is recommended.\n",
            "6/6 [==============================] - 5s 795ms/step - loss: 0.4064\n",
            "Epoch 12/12\n",
            "WARNING:tensorflow:multiprocessing can interact badly with TensorFlow, causing nondeterministic deadlocks. For high performance data pipelines tf.data is recommended.\n",
            "5/6 [========================>.....] - ETA: 0s - loss: 0.4011WARNING:tensorflow:multiprocessing can interact badly with TensorFlow, causing nondeterministic deadlocks. For high performance data pipelines tf.data is recommended.\n",
            "6/6 [==============================] - 5s 819ms/step - loss: 0.4039\n"
          ],
          "name": "stdout"
        },
        {
          "output_type": "execute_result",
          "data": {
            "text/plain": [
              "<tensorflow.python.keras.callbacks.History at 0x7f09bb47f7f0>"
            ]
          },
          "metadata": {
            "tags": []
          },
          "execution_count": 90
        }
      ]
    },
    {
      "cell_type": "code",
      "metadata": {
        "id": "qHUB56a4LHPw"
      },
      "source": [
        "\n",
        "# Generate 100 fine-tuned molecules\n",
        "finetuned_smiles = finetuner.sample(num=20)"
      ],
      "execution_count": 91,
      "outputs": []
    },
    {
      "cell_type": "code",
      "metadata": {
        "id": "e1JQ-guRLINd",
        "outputId": "3f45d933-9c03-4302-afb3-eccdd01950c3",
        "colab": {
          "base_uri": "https://localhost:8080/",
          "height": 357
        }
      },
      "source": [
        "finetuned_smiles"
      ],
      "execution_count": 92,
      "outputs": [
        {
          "output_type": "execute_result",
          "data": {
            "text/plain": [
              "['CC(C)CN(CO)CC(C(=O)C(NS(C)(=O)=O)C(C)C)C(Cc1ccccc1)NC(=O)NC(C)(C)C',\n",
              " 'CC(C)CN(CC1OC(=O)C2OCC(OC(=O)NC1Cc1ccccc1)C2O)S(=O)(=O)c1ccccc1',\n",
              " 'CC(C)CNC(=O)C(NC(Cc1ccccc1)C(CN(CC(C)C)C(=O)NC(C)C)C(=O)NC(C)C)C(=O)O',\n",
              " 'COC(=O)NC(Cc1ccccc1)C(O)C(=O)NCC(CC(C)C)C(C)(C)C',\n",
              " 'CC(C)CN(C)CC(C(Cc1ccccc1)NC(=O)OC1COC2C(O)OC12)S(=O)(=O)c1ccccc1',\n",
              " 'CC(C)CN1CC=CN(C)S(=O)(=O)C(C(O)Cc2cccc(NC(=O)OC3COC4OCCC34)c2)C1',\n",
              " 'COC(=O)NC(C(=O)NC(Cc1ccccc1)C(CC(=O)NC(C)O)CN(Cc1ccccc1)c1ccccc1)C(C)(C)C',\n",
              " 'Cc1cccc(C)c1OC(=O)C(NC(=O)OC1COC2C(O)OC12)C(C)C',\n",
              " 'CC(C)CN(C)CC(C(Cc1ccccc1)NC(=O)OC1COC2OCOC12)S(=O)(=O)c1ccccc1',\n",
              " 'COC(=O)NC(Cc1ccccc1)C(=O)NC(C(=O)N(C)C(C(=O)NC(C)(C)C)C(C)C)C(C)C',\n",
              " 'CC(C)CN(CC(NC(=O)OC1CCN2CC(NC2=O)O1)C(Cc1ccccc1)NC(=O)OC1COC2C(=O)CCC12)C(O)CN(C)C',\n",
              " 'Cc1c(O)cccc1C(=O)NC(Cc1ccccc1)C(O)CN1CC2CCCCC2CC1C(=O)NC(C)(C)C',\n",
              " 'Cc1cccc(C)c1OCC(=O)NC(Cc1ccccc1)C(=O)NC(Cc1ccccc1)C(O)CN1CC2CCCCC2C(C(C)C)CN1Cc1ccccc1',\n",
              " 'CCC(C(=O)NC(C)C(=O)NC(C)C(=O)NC(C)C)C(CC)C(=O)NC(Cc1ccccc1)C(C)C(=O)NC(C)C',\n",
              " 'CC(C)COC(=O)NC(C)(C)C(CS(=O)(=O)NC(Cc1ccccc1)C(C)O)C(=O)NC(C)(C)C',\n",
              " 'CC(C)CN(CC1CCCCC1)C(=O)C(C(=O)NC(C)C(=O)NC(Cc1ccccc1)C(C)C)C(C)C',\n",
              " 'CC(C)CN(O)CC1C(=O)OC2OC3OC4(COC4C2OC3=O)C23CC4CC4OC2OCC3OC(=O)NC1Cc1ccccc1',\n",
              " 'CC(C)CN(CC(C)C)C(=O)C(NC(=O)C(C(C)C)C(C)C)C(C)(C)C',\n",
              " 'CCC(CC)COC(=O)NC(C(=O)NC(CCCNC(=O)OC(C)(C)C)C(=O)NC(C)C)C(C)C',\n",
              " 'CC(C)CN(CC(O)C(Cc1ccccc1)NC(=O)OC1COC2OCCC12)S(=O)(=O)c1ccccc1']"
            ]
          },
          "metadata": {
            "tags": []
          },
          "execution_count": 92
        }
      ]
    },
    {
      "cell_type": "code",
      "metadata": {
        "id": "YwpN9aLwLLES"
      },
      "source": [
        "# Save fine-tuned smiles\n",
        "with open('/content/drive/My Drive/DD/generations/finetuned_smiless22.txt', 'w') as f:\n",
        "    for item in finetuned_smiles:\n",
        "        f.write(\"%s\\n\" % item)"
      ],
      "execution_count": 93,
      "outputs": []
    },
    {
      "cell_type": "markdown",
      "metadata": {
        "id": "20T0X8LWLRLj"
      },
      "source": [
        "Tanimoto similarity"
      ]
    },
    {
      "cell_type": "code",
      "metadata": {
        "id": "jZEwwIUtLUhv"
      },
      "source": [
        "\n",
        "# Selected training molecules\n",
        "\n",
        "with open('/content/drive/My Drive/DD/datasets/protease_inhibitors_for_fine-tune.txt') as f:\n",
        "    fsmiles = [l.rstrip() for l in f]\n",
        "fmols = [Chem.MolFromSmiles(smi) for smi in fsmiles]\n",
        "\n",
        "Fbvs = []\n",
        "for mol in fmols:\n",
        "    bv = AllChem.GetMACCSKeysFingerprint(mol)\n",
        "    Fbvs.append(bv)"
      ],
      "execution_count": 94,
      "outputs": []
    },
    {
      "cell_type": "code",
      "metadata": {
        "id": "gY9x9laSLeW2"
      },
      "source": [
        "# Fine-tuned SMILES\n",
        "\n",
        "Sbvs, smols = [], []\n",
        "for smi in finetuned_smiles:\n",
        "    mol = Chem.MolFromSmiles(smi)\n",
        "    smols.append(mol)\n",
        "    \n",
        "    bv = AllChem.GetMACCSKeysFingerprint(mol)\n",
        "    Sbvs.append(bv)"
      ],
      "execution_count": 95,
      "outputs": []
    },
    {
      "cell_type": "code",
      "metadata": {
        "id": "G1G3rZ2RLhL7"
      },
      "source": [
        "idxs = []\n",
        "for Fbv in Fbvs:\n",
        "    idx = np.argmax(DataStructs.BulkTanimotoSimilarity(Fbv, Sbvs))\n",
        "    idxs.append(idx)\n",
        "nsmols = [smols[idx] for idx in idxs]"
      ],
      "execution_count": 96,
      "outputs": []
    },
    {
      "cell_type": "code",
      "metadata": {
        "id": "10ffJiy5LjUP",
        "outputId": "6287d8e2-1062-443f-ff23-8d7c90e32c67",
        "colab": {
          "base_uri": "https://localhost:8080/",
          "height": 34
        }
      },
      "source": [
        "idxs"
      ],
      "execution_count": 97,
      "outputs": [
        {
          "output_type": "execute_result",
          "data": {
            "text/plain": [
              "[16, 11, 12, 10, 19, 6]"
            ]
          },
          "metadata": {
            "tags": []
          },
          "execution_count": 97
        }
      ]
    },
    {
      "cell_type": "code",
      "metadata": {
        "id": "0h9DYjfYLkl8",
        "outputId": "542984a5-b326-4377-e0e7-9fb38ad5efd3",
        "colab": {
          "base_uri": "https://localhost:8080/",
          "height": 119
        }
      },
      "source": [
        "\n",
        "generated_finetuned_smiles = [finetuned_smiles[i] for i in idxs]\n",
        "generated_finetuned_smiles"
      ],
      "execution_count": 98,
      "outputs": [
        {
          "output_type": "execute_result",
          "data": {
            "text/plain": [
              "['CC(C)CN(O)CC1C(=O)OC2OC3OC4(COC4C2OC3=O)C23CC4CC4OC2OCC3OC(=O)NC1Cc1ccccc1',\n",
              " 'Cc1c(O)cccc1C(=O)NC(Cc1ccccc1)C(O)CN1CC2CCCCC2CC1C(=O)NC(C)(C)C',\n",
              " 'Cc1cccc(C)c1OCC(=O)NC(Cc1ccccc1)C(=O)NC(Cc1ccccc1)C(O)CN1CC2CCCCC2C(C(C)C)CN1Cc1ccccc1',\n",
              " 'CC(C)CN(CC(NC(=O)OC1CCN2CC(NC2=O)O1)C(Cc1ccccc1)NC(=O)OC1COC2C(=O)CCC12)C(O)CN(C)C',\n",
              " 'CC(C)CN(CC(O)C(Cc1ccccc1)NC(=O)OC1COC2OCCC12)S(=O)(=O)c1ccccc1',\n",
              " 'COC(=O)NC(C(=O)NC(Cc1ccccc1)C(CC(=O)NC(C)O)CN(Cc1ccccc1)c1ccccc1)C(C)(C)C']"
            ]
          },
          "metadata": {
            "tags": []
          },
          "execution_count": 98
        }
      ]
    },
    {
      "cell_type": "code",
      "metadata": {
        "id": "atM7Szl7LnOu"
      },
      "source": [
        "# save generated SMILES\n",
        "\n",
        "with open('/content/drive/My Drive/DD/generations2/gen0_smiles22.txt', 'w') as f:\n",
        "    for item in generated_finetuned_smiles:\n",
        "        f.write(\"%s\\n\" % item)"
      ],
      "execution_count": 99,
      "outputs": []
    },
    {
      "cell_type": "code",
      "metadata": {
        "id": "UxPi55huLwnL"
      },
      "source": [
        "\n",
        "showmols = []\n",
        "for i, j in zip(fmols, nsmols):\n",
        "    showmols.append(i)\n",
        "    showmols.append(j)"
      ],
      "execution_count": 100,
      "outputs": []
    },
    {
      "cell_type": "code",
      "metadata": {
        "id": "TW2c_WH0Lz6W",
        "outputId": "abff1d40-3ba1-40d6-e090-b3a7728242dc",
        "colab": {
          "base_uri": "https://localhost:8080/",
          "height": 1000
        }
      },
      "source": [
        "labelList = ['Remdesivir', 'Generated 1',\n",
        "             'Nelfinavir','Generated 2', \n",
        "             'Lopinavir','Generated 3',\n",
        "             'Ritonavir','Generated 4',\n",
        "             'Darunavir','Generated 5',\n",
        "             'Atazanavir', 'Generated 6']\n",
        "\n",
        "# Display molecules with labels\n",
        "Draw.MolsToGridImage(showmols, molsPerRow=2, legends=[label for label in labelList])"
      ],
      "execution_count": 101,
      "outputs": [
        {
          "output_type": "execute_result",
          "data": {
            "image/png": "[encoded data removed]",
            "text/plain": [
              "<PIL.PngImagePlugin.PngImageFile image mode=RGB size=400x1200 at 0x7F09D7335898>"
            ]
          },
          "metadata": {
            "tags": []
          },
          "execution_count": 101
        }
      ]
    },
    {
      "cell_type": "markdown",
      "metadata": {
        "id": "P8VeDyZWL3aZ"
      },
      "source": [
        "Docking  PyRx Analysis"
      ]
    },
    {
      "cell_type": "code",
      "metadata": {
        "id": "hxgyiWcRL5bI"
      },
      "source": [
        "\n",
        "import pandas as pd\n",
        "from rdkit import Chem, DataStructs\n",
        "import random\n",
        "import numpy as np\n",
        "import rdkit.Chem.PropertyMol"
      ],
      "execution_count": 102,
      "outputs": []
    },
    {
      "cell_type": "code",
      "metadata": {
        "id": "c9Tpv4upL788",
        "outputId": "22b633b0-36b8-413d-f9cd-eedd539ae4ec",
        "colab": {
          "base_uri": "https://localhost:8080/",
          "height": 34
        }
      },
      "source": [
        "gen0_table = pd.read_csv('/content/drive/My Drive/DD/generations2/gen0_smiles22.txt',sep=',', header=None)\n",
        "gen0 = list(gen0_table[0])\n",
        "len(gen0)"
      ],
      "execution_count": 103,
      "outputs": [
        {
          "output_type": "execute_result",
          "data": {
            "text/plain": [
              "6"
            ]
          },
          "metadata": {
            "tags": []
          },
          "execution_count": 103
        }
      ]
    },
    {
      "cell_type": "code",
      "metadata": {
        "id": "HmrXb2GJMAmU"
      },
      "source": [
        "\n",
        "def validate_mols(list_of_smiles):\n",
        "    valid_mols = []\n",
        "    for smi in list_of_smiles:\n",
        "        mol = Chem.MolFromSmiles(smi)\n",
        "        if mol is not None:\n",
        "            valid_mols.append(mol)\n",
        "    return valid_mols\n",
        "\n",
        "def convert_mols_to_smiles(list_of_mols):\n",
        "    valid_smiles = [Chem.MolToSmiles(mol) for mol in list_of_mols]\n",
        "    return valid_smiles"
      ],
      "execution_count": 104,
      "outputs": []
    },
    {
      "cell_type": "code",
      "metadata": {
        "id": "8_uTThU0MCz8",
        "outputId": "47fced76-fc32-4f2b-c750-711500318756",
        "colab": {
          "base_uri": "https://localhost:8080/",
          "height": 34
        }
      },
      "source": [
        "gen0_mols = validate_mols(gen0)\n",
        "len(gen0_mols)"
      ],
      "execution_count": 105,
      "outputs": [
        {
          "output_type": "execute_result",
          "data": {
            "text/plain": [
              "6"
            ]
          },
          "metadata": {
            "tags": []
          },
          "execution_count": 105
        }
      ]
    },
    {
      "cell_type": "markdown",
      "metadata": {
        "id": "UCaMMWKNRrgq"
      },
      "source": [
        "here"
      ]
    },
    {
      "cell_type": "code",
      "metadata": {
        "id": "3R3Xt114Rtrx"
      },
      "source": [
        ""
      ],
      "execution_count": null,
      "outputs": []
    },
    {
      "cell_type": "code",
      "metadata": {
        "id": "EeCMsQLyME08",
        "outputId": "e1d4d517-c240-478b-992b-36a3c0bf974b",
        "colab": {
          "base_uri": "https://localhost:8080/",
          "height": 421
        }
      },
      "source": [
        "\n",
        "master_table = pd.read_csv('/content/drive/My Drive/DD/generations/master_results_table.csv',sep=',')\n",
        "master_table"
      ],
      "execution_count": 106,
      "outputs": [
        {
          "output_type": "execute_result",
          "data": {
            "text/html": [
              "<div>\n",
              "<style scoped>\n",
              "    .dataframe tbody tr th:only-of-type {\n",
              "        vertical-align: middle;\n",
              "    }\n",
              "\n",
              "    .dataframe tbody tr th {\n",
              "        vertical-align: top;\n",
              "    }\n",
              "\n",
              "    .dataframe thead th {\n",
              "        text-align: right;\n",
              "    }\n",
              "</style>\n",
              "<table border=\"1\" class=\"dataframe\">\n",
              "  <thead>\n",
              "    <tr style=\"text-align: right;\">\n",
              "      <th></th>\n",
              "      <th>id</th>\n",
              "      <th>gen</th>\n",
              "      <th>smile</th>\n",
              "      <th>source</th>\n",
              "      <th>score</th>\n",
              "    </tr>\n",
              "  </thead>\n",
              "  <tbody>\n",
              "    <tr>\n",
              "      <th>0</th>\n",
              "      <td>AAAA</td>\n",
              "      <td>0</td>\n",
              "      <td>CC(C)CN(CC1ON=CC(C)(Cc2ccccc2)C(=O)NC1Cc1ccccc...</td>\n",
              "      <td>NaN</td>\n",
              "      <td>NaN</td>\n",
              "    </tr>\n",
              "    <tr>\n",
              "      <th>1</th>\n",
              "      <td>AAAB</td>\n",
              "      <td>0</td>\n",
              "      <td>CC(C)(C)NC(=O)C1CC2CCCCC2CN1CC(O)C(Cc1ccccc1)N...</td>\n",
              "      <td>NaN</td>\n",
              "      <td>NaN</td>\n",
              "    </tr>\n",
              "    <tr>\n",
              "      <th>2</th>\n",
              "      <td>AAAC</td>\n",
              "      <td>0</td>\n",
              "      <td>Cc1cccc(C)c1OCC(=O)NC(CCc1ccc(O)nc1)NCC(=O)NC(...</td>\n",
              "      <td>NaN</td>\n",
              "      <td>NaN</td>\n",
              "    </tr>\n",
              "    <tr>\n",
              "      <th>3</th>\n",
              "      <td>AAAD</td>\n",
              "      <td>0</td>\n",
              "      <td>CC(C)c1nc(C(C#N)CC(=O)NC(CCc2ccccc2)C(O)CC(CN(...</td>\n",
              "      <td>NaN</td>\n",
              "      <td>NaN</td>\n",
              "    </tr>\n",
              "    <tr>\n",
              "      <th>4</th>\n",
              "      <td>AAAE</td>\n",
              "      <td>0</td>\n",
              "      <td>CC(C)CN(CC(O)C(Cc1ccccc1)NC(=O)OC1COC2OCCC12)S...</td>\n",
              "      <td>NaN</td>\n",
              "      <td>NaN</td>\n",
              "    </tr>\n",
              "    <tr>\n",
              "      <th>5</th>\n",
              "      <td>AAAF</td>\n",
              "      <td>0</td>\n",
              "      <td>COC(=O)NC(CN1CCCCC1C(=O)NC(C(=O)OCc1ccccc1)C(C...</td>\n",
              "      <td>NaN</td>\n",
              "      <td>NaN</td>\n",
              "    </tr>\n",
              "    <tr>\n",
              "      <th>6</th>\n",
              "      <td>AAAG</td>\n",
              "      <td>0</td>\n",
              "      <td>CCC(CC)COC(=O)C(C)NP(=O)(OCC1OC(C#N)(c2ccc3c(N...</td>\n",
              "      <td>NaN</td>\n",
              "      <td>NaN</td>\n",
              "    </tr>\n",
              "    <tr>\n",
              "      <th>7</th>\n",
              "      <td>AAAH</td>\n",
              "      <td>0</td>\n",
              "      <td>Cc1c(O)cccc1C(=O)NC(CSc1ccccc1)C(O)CN1CC2CCCCC...</td>\n",
              "      <td>NaN</td>\n",
              "      <td>NaN</td>\n",
              "    </tr>\n",
              "    <tr>\n",
              "      <th>8</th>\n",
              "      <td>AAAI</td>\n",
              "      <td>0</td>\n",
              "      <td>Cc1cccc(C)c1OCC(=O)NC(Cc1ccccc1)C(O)CC(Cc1cccc...</td>\n",
              "      <td>NaN</td>\n",
              "      <td>NaN</td>\n",
              "    </tr>\n",
              "    <tr>\n",
              "      <th>9</th>\n",
              "      <td>AAAJ</td>\n",
              "      <td>0</td>\n",
              "      <td>CC(C)c1nc(CN(C)C(=O)NC(C(=O)NC(Cc2ccccc2)CC(O)...</td>\n",
              "      <td>NaN</td>\n",
              "      <td>NaN</td>\n",
              "    </tr>\n",
              "    <tr>\n",
              "      <th>10</th>\n",
              "      <td>AAAK</td>\n",
              "      <td>0</td>\n",
              "      <td>CC(C)CN(CC(O)C(Cc1ccccc1)NC(=O)OC1COC2OCCC12)S...</td>\n",
              "      <td>NaN</td>\n",
              "      <td>NaN</td>\n",
              "    </tr>\n",
              "    <tr>\n",
              "      <th>11</th>\n",
              "      <td>AAAL</td>\n",
              "      <td>0</td>\n",
              "      <td>COC(=O)NC(C(=O)NC(Cc1ccccc1)C(O)CN(Cc1ccc(-c2c...</td>\n",
              "      <td>NaN</td>\n",
              "      <td>NaN</td>\n",
              "    </tr>\n",
              "  </tbody>\n",
              "</table>\n",
              "</div>"
            ],
            "text/plain": [
              "      id  gen                                              smile  source  score\n",
              "0   AAAA    0  CC(C)CN(CC1ON=CC(C)(Cc2ccccc2)C(=O)NC1Cc1ccccc...     NaN    NaN\n",
              "1   AAAB    0  CC(C)(C)NC(=O)C1CC2CCCCC2CN1CC(O)C(Cc1ccccc1)N...     NaN    NaN\n",
              "2   AAAC    0  Cc1cccc(C)c1OCC(=O)NC(CCc1ccc(O)nc1)NCC(=O)NC(...     NaN    NaN\n",
              "3   AAAD    0  CC(C)c1nc(C(C#N)CC(=O)NC(CCc2ccccc2)C(O)CC(CN(...     NaN    NaN\n",
              "4   AAAE    0  CC(C)CN(CC(O)C(Cc1ccccc1)NC(=O)OC1COC2OCCC12)S...     NaN    NaN\n",
              "5   AAAF    0  COC(=O)NC(CN1CCCCC1C(=O)NC(C(=O)OCc1ccccc1)C(C...     NaN    NaN\n",
              "6   AAAG    0  CCC(CC)COC(=O)C(C)NP(=O)(OCC1OC(C#N)(c2ccc3c(N...     NaN    NaN\n",
              "7   AAAH    0  Cc1c(O)cccc1C(=O)NC(CSc1ccccc1)C(O)CN1CC2CCCCC...     NaN    NaN\n",
              "8   AAAI    0  Cc1cccc(C)c1OCC(=O)NC(Cc1ccccc1)C(O)CC(Cc1cccc...     NaN    NaN\n",
              "9   AAAJ    0  CC(C)c1nc(CN(C)C(=O)NC(C(=O)NC(Cc2ccccc2)CC(O)...     NaN    NaN\n",
              "10  AAAK    0  CC(C)CN(CC(O)C(Cc1ccccc1)NC(=O)OC1COC2OCCC12)S...     NaN    NaN\n",
              "11  AAAL    0  COC(=O)NC(C(=O)NC(Cc1ccccc1)C(O)CN(Cc1ccc(-c2c...     NaN    NaN"
            ]
          },
          "metadata": {
            "tags": []
          },
          "execution_count": 106
        }
      ]
    },
    {
      "cell_type": "code",
      "metadata": {
        "id": "n_d1uRZrMH_I",
        "outputId": "aa39490f-5038-4992-d47f-352e83a409bd",
        "colab": {
          "base_uri": "https://localhost:8080/",
          "height": 35
        }
      },
      "source": [
        "'''Certainly not opimized and not strictly necessary, but in the PyRx GUI\n",
        "molecule names would sort oddly when in any numeric order, so ordering\n",
        "molcules by a four letter code. This function iterates the four letter code.'''\n",
        "def iterate_alpha(alpha_code):\n",
        "    numbers = []\n",
        "    for letter in alpha_code:\n",
        "        number = ord(letter)\n",
        "        numbers.append(number)\n",
        "    \n",
        "    if numbers[3]+1 > 90:\n",
        "        if numbers[2]+1 > 90:\n",
        "            if numbers[1]+1 > 90:\n",
        "                if numbers[0]+1 > 90:\n",
        "                    raise ValueError('Too long for alpha code')\n",
        "                else:\n",
        "                    numbers[3] = 65\n",
        "                    numbers[2] = 65\n",
        "                    numbers[1] = 65\n",
        "                    numbers[0] = numbers[0] + 1\n",
        "            else:\n",
        "                numbers[3] = 65\n",
        "                numbers[2] = 65\n",
        "                numbers[1] = numbers[1] + 1\n",
        "        else:\n",
        "            numbers[3] = 65\n",
        "            numbers[2] = numbers[2] + 1\n",
        "    else:\n",
        "        numbers[3] = numbers[3] + 1\n",
        "    \n",
        "\n",
        "    new_code = \"\"\n",
        "    for number in numbers:\n",
        "        new_code += chr(number)\n",
        "    return new_code\n",
        "iterate_alpha('AAAA')"
      ],
      "execution_count": 107,
      "outputs": [
        {
          "output_type": "execute_result",
          "data": {
            "application/vnd.google.colaboratory.intrinsic+json": {
              "type": "string"
            },
            "text/plain": [
              "'AAAB'"
            ]
          },
          "metadata": {
            "tags": []
          },
          "execution_count": 107
        }
      ]
    },
    {
      "cell_type": "code",
      "metadata": {
        "id": "Mf6Ss3onMMab"
      },
      "source": [
        "def append_to_tracking_table(master_table,mols_to_append, source, generation):\n",
        "    # Assign IDs for tracking to each mol, and assign a pandas table entry for each\n",
        "    mols_to_export = []\n",
        "    rows_list = []\n",
        "    \n",
        "    master_table_gen = master_table[master_table['gen'] == generation]\n",
        "    if master_table_gen.shape[0] == 0:\n",
        "        id_code = 'AAAA'\n",
        "    else:\n",
        "        master_table_gen_ids = master_table_gen.sort_values('id', ascending=True)\n",
        "        master_table_gen_max_id = master_table_gen_ids.tail(1)\n",
        "        key = master_table_gen_max_id['id'].keys()[0]\n",
        "        id_code = iterate_alpha(str(master_table_gen_max_id['id'][key]))\n",
        "        \n",
        "    \n",
        "    for mol in mols_to_append:\n",
        "        pm = Chem.PropertyMol.PropertyMol(mol)\n",
        "        title = 'id' + str(id_code) + 'gen'+ str(generation)\n",
        "        print(title)\n",
        "        # Enables for tracking which molecule is which in PyRx GUI and PyRx results export\n",
        "        pm.SetProp('Title', title)\n",
        "        mols_to_export.append(pm)\n",
        "\n",
        "        #And track in pandas\n",
        "        mol_dict = {}\n",
        "        mol_dict['id'] = id_code\n",
        "        mol_dict['gen'] = generation\n",
        "        smile = Chem.MolToSmiles(mol)\n",
        "        assert type(smile) == type('string')\n",
        "        mol_dict['smile'] = smile\n",
        "\n",
        "        rows_list.append(mol_dict)\n",
        "        id_code = iterate_alpha(id_code)\n",
        "        \n",
        "    df = pd.DataFrame(rows_list)\n",
        "    return df, mols_to_export"
      ],
      "execution_count": 108,
      "outputs": []
    },
    {
      "cell_type": "code",
      "metadata": {
        "id": "sXwtAjuKMPai",
        "outputId": "1b17d67c-bf59-45f0-d9db-dcfd3857bc85",
        "colab": {
          "base_uri": "https://localhost:8080/",
          "height": 136
        }
      },
      "source": [
        "new_mols_to_test = append_to_tracking_table(master_table,gen0_mols, 'generated', 0)\n",
        "mols_for_pd = new_mols_to_test[0]\n",
        "mols_for_export = new_mols_to_test[1]\n",
        "master_table = master_table.append(mols_for_pd)\n",
        "len(mols_for_export)"
      ],
      "execution_count": 109,
      "outputs": [
        {
          "output_type": "stream",
          "text": [
            "idAAAMgen0\n",
            "idAAANgen0\n",
            "idAAAOgen0\n",
            "idAAAPgen0\n",
            "idAAAQgen0\n",
            "idAAARgen0\n"
          ],
          "name": "stdout"
        },
        {
          "output_type": "execute_result",
          "data": {
            "text/plain": [
              "6"
            ]
          },
          "metadata": {
            "tags": []
          },
          "execution_count": 109
        }
      ]
    },
    {
      "cell_type": "code",
      "metadata": {
        "id": "pnLrihELMSHD"
      },
      "source": [
        "master_table = master_table.reset_index(drop=True)\n",
        "master_table.to_csv(r'/content/drive/My Drive/DD/generations/mrt2.csv', index=False)"
      ],
      "execution_count": 112,
      "outputs": []
    },
    {
      "cell_type": "code",
      "metadata": {
        "id": "aaFiEazOMVWz",
        "outputId": "e65efd6a-9b77-4f9c-924c-950026ac7017",
        "colab": {
          "base_uri": "https://localhost:8080/",
          "height": 119
        }
      },
      "source": [
        "# Add protease inhibitors into the table\n",
        "hiv_smiles = pd.read_csv('./datasets/protease_inhibitors_for_fine-tune.txt',sep=',', header=None)\n",
        "hiv_smiles = list(hiv_smiles[0])\n",
        "hiv_mols = validate_mols(hiv_smiles)\n",
        "\n",
        "master_table = pd.read_csv('/content/drive/My Drive/DD/generations/mrt2.csv',sep=',')\n",
        "new_mols_to_test = append_to_tracking_table(master_table,hiv_mols, 'hiv', 0)\n",
        "mols_for_pd = new_mols_to_test[0]\n",
        "mols_for_export = mols_for_export + new_mols_to_test[1]\n",
        "\n",
        "master_table = master_table.append(mols_for_pd)\n",
        "master_table = master_table.reset_index(drop=True)\n",
        "master_table.to_csv(r'/content/drive/My Drive/DD/generations/mrt22.csv', index=False)"
      ],
      "execution_count": 113,
      "outputs": [
        {
          "output_type": "stream",
          "text": [
            "idAAASgen0\n",
            "idAAATgen0\n",
            "idAAAUgen0\n",
            "idAAAVgen0\n",
            "idAAAWgen0\n",
            "idAAAXgen0\n"
          ],
          "name": "stdout"
        }
      ]
    },
    {
      "cell_type": "code",
      "metadata": {
        "id": "RPvcAiKmMWzo"
      },
      "source": [
        "def write_gen_to_sdf(mols_for_export, generation, batch_size):\n",
        "    if len(mols_for_export) > batch_size:\n",
        "        batches = (len(mols_for_export) // 1000)+1\n",
        "        for i in range(0,batches):\n",
        "            batch_to_export = mols_for_export[i*batch_size:(i+1)*batch_size]\n",
        "            w = Chem.SDWriter('/content/drive/My Drive/DD/generations2/gen' +str(generation) + '_batch_' + str(i+1) + '.sdf')\n",
        "            for m in batch_to_export: w.write(m)\n",
        "    else:\n",
        "        w = Chem.SDWriter('/content/drive/My Drive/DD/generations2/gen' +str(generation) + '.sdf')\n",
        "        for m in mols_for_export:\n",
        "            w.write(m)\n",
        "    \n",
        "    return mols_for_export"
      ],
      "execution_count": 130,
      "outputs": []
    },
    {
      "cell_type": "code",
      "metadata": {
        "id": "_e3WAUm9Mctk",
        "outputId": "c969122f-1072-46e0-a311-5f0313a72144",
        "colab": {
          "base_uri": "https://localhost:8080/",
          "height": 34
        }
      },
      "source": [
        "\n",
        "write_gen_to_sdf(mols_for_export, 0, 2000)\n",
        "print('ok')"
      ],
      "execution_count": 131,
      "outputs": [
        {
          "output_type": "stream",
          "text": [
            "ok\n"
          ],
          "name": "stdout"
        }
      ]
    },
    {
      "cell_type": "code",
      "metadata": {
        "id": "8QHO4WfjMfjR",
        "outputId": "e1137b79-43e9-4050-e292-915af05482be",
        "colab": {
          "base_uri": "https://localhost:8080/",
          "height": 421
        }
      },
      "source": [
        "# Load Binding Scores Result \n",
        "\n",
        "score = pd.read_csv('/content/drive/My Drive/DD/pyrx/binding-scores-final.csv')\n",
        "score = score.iloc[:, [0,2]]\n",
        "score = score.sort_values(by='Binding Affinity')\n",
        "score = score.reset_index(drop=True)\n",
        "score"
      ],
      "execution_count": 133,
      "outputs": [
        {
          "output_type": "execute_result",
          "data": {
            "text/html": [
              "<div>\n",
              "<style scoped>\n",
              "    .dataframe tbody tr th:only-of-type {\n",
              "        vertical-align: middle;\n",
              "    }\n",
              "\n",
              "    .dataframe tbody tr th {\n",
              "        vertical-align: top;\n",
              "    }\n",
              "\n",
              "    .dataframe thead th {\n",
              "        text-align: right;\n",
              "    }\n",
              "</style>\n",
              "<table border=\"1\" class=\"dataframe\">\n",
              "  <thead>\n",
              "    <tr style=\"text-align: right;\">\n",
              "      <th></th>\n",
              "      <th>Ligand</th>\n",
              "      <th>Binding Affinity</th>\n",
              "    </tr>\n",
              "  </thead>\n",
              "  <tbody>\n",
              "    <tr>\n",
              "      <th>0</th>\n",
              "      <td>Lopinavir</td>\n",
              "      <td>-6.9</td>\n",
              "    </tr>\n",
              "    <tr>\n",
              "      <th>1</th>\n",
              "      <td>Generated_3</td>\n",
              "      <td>-6.8</td>\n",
              "    </tr>\n",
              "    <tr>\n",
              "      <th>2</th>\n",
              "      <td>Generated_5</td>\n",
              "      <td>-6.3</td>\n",
              "    </tr>\n",
              "    <tr>\n",
              "      <th>3</th>\n",
              "      <td>Darunavir</td>\n",
              "      <td>-6.1</td>\n",
              "    </tr>\n",
              "    <tr>\n",
              "      <th>4</th>\n",
              "      <td>Generated_1</td>\n",
              "      <td>-6.0</td>\n",
              "    </tr>\n",
              "    <tr>\n",
              "      <th>5</th>\n",
              "      <td>Generated_6</td>\n",
              "      <td>-5.7</td>\n",
              "    </tr>\n",
              "    <tr>\n",
              "      <th>6</th>\n",
              "      <td>Generated_2</td>\n",
              "      <td>-5.5</td>\n",
              "    </tr>\n",
              "    <tr>\n",
              "      <th>7</th>\n",
              "      <td>Nelfinavir</td>\n",
              "      <td>-5.5</td>\n",
              "    </tr>\n",
              "    <tr>\n",
              "      <th>8</th>\n",
              "      <td>Atazanavir</td>\n",
              "      <td>-5.4</td>\n",
              "    </tr>\n",
              "    <tr>\n",
              "      <th>9</th>\n",
              "      <td>Remdesivir</td>\n",
              "      <td>-5.3</td>\n",
              "    </tr>\n",
              "    <tr>\n",
              "      <th>10</th>\n",
              "      <td>Ritonavir</td>\n",
              "      <td>-5.3</td>\n",
              "    </tr>\n",
              "    <tr>\n",
              "      <th>11</th>\n",
              "      <td>Generated_4</td>\n",
              "      <td>-5.2</td>\n",
              "    </tr>\n",
              "  </tbody>\n",
              "</table>\n",
              "</div>"
            ],
            "text/plain": [
              "         Ligand  Binding Affinity\n",
              "0     Lopinavir              -6.9\n",
              "1   Generated_3              -6.8\n",
              "2   Generated_5              -6.3\n",
              "3     Darunavir              -6.1\n",
              "4   Generated_1              -6.0\n",
              "5   Generated_6              -5.7\n",
              "6   Generated_2              -5.5\n",
              "7    Nelfinavir              -5.5\n",
              "8    Atazanavir              -5.4\n",
              "9    Remdesivir              -5.3\n",
              "10    Ritonavir              -5.3\n",
              "11  Generated_4              -5.2"
            ]
          },
          "metadata": {
            "tags": []
          },
          "execution_count": 133
        }
      ]
    }
  ]
}