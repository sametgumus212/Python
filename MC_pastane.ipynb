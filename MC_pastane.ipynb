{
  "nbformat": 4,
  "nbformat_minor": 0,
  "metadata": {
    "colab": {
      "name": "MC_pastane.ipynb",
      "provenance": [],
      "collapsed_sections": [],
      "authorship_tag": "ABX9TyMwn0NF9Vbmzi9pfn1oDKu1",
      "include_colab_link": true
    },
    "kernelspec": {
      "name": "python3",
      "display_name": "Python 3"
    },
    "language_info": {
      "name": "python"
    }
  },
  "cells": [
    {
      "cell_type": "markdown",
      "metadata": {
        "id": "view-in-github",
        "colab_type": "text"
      },
      "source": [
        "<a href=\"https://colab.research.google.com/github/sametgumus212/Python/blob/master/MC_pastane.ipynb\" target=\"_parent\"><img src=\"https://colab.research.google.com/assets/colab-badge.svg\" alt=\"Open In Colab\"/></a>"
      ]
    },
    {
      "cell_type": "code",
      "metadata": {
        "id": "nTQUDAt4DkFs"
      },
      "source": [
        "import numpy as np\n",
        "import random\n"
      ],
      "execution_count": 1,
      "outputs": []
    },
    {
      "cell_type": "code",
      "metadata": {
        "id": "uj1YcU2FDrRM"
      },
      "source": [
        "def musterisayisi(p):\n",
        "  cp=[p[0]]\n",
        "  #print(cp)\n",
        "  m=0\n",
        "  for i in range(1,4):\n",
        "    cp.append(round(p[i]+cp[i-1],ndigits=2))\n",
        " # print(cp)\n",
        "  s=random.random()\n",
        "  #print(s)\n",
        "  if (s<cp[0]):\n",
        "    m=8\n",
        "  elif (s<cp[1]):\n",
        "    m=10\n",
        "  elif (s<cp[2]):\n",
        "    m=12\n",
        "  else:\n",
        "    m=14\n",
        " # print(m)\n",
        "  return m\n"
      ],
      "execution_count": 179,
      "outputs": []
    },
    {
      "cell_type": "code",
      "metadata": {
        "id": "fewCkimPRNyT"
      },
      "source": [
        "def pastasayisi(p):\n",
        "  cp=[p[0]]\n",
        "  #print(cp)\n",
        "  m=0\n",
        "  for i in range(1,4):\n",
        "    cp.append(round(p[i]+cp[i-1],ndigits=2))\n",
        "  #print(cp)\n",
        "  s=random.random()\n",
        "  #print(s)\n",
        "  if (s<cp[0]):\n",
        "    m=1\n",
        "  elif (s<cp[1]):\n",
        "    m=2\n",
        "  elif (s<cp[2]):\n",
        "    m=3\n",
        "  else:\n",
        "    m=4\n",
        "  #print(m)\n",
        "  return m"
      ],
      "execution_count": 180,
      "outputs": []
    },
    {
      "cell_type": "code",
      "metadata": {
        "colab": {
          "base_uri": "https://localhost:8080/"
        },
        "id": "LkUz_d4LReZ2",
        "outputId": "66e6a668-1a7e-45c8-f0f1-6ca8880b4a98"
      },
      "source": [
        "pp=[0.4,0.3,0.2,0.1]  #pasta olasılığı\n",
        "pastasayisi(pp)"
      ],
      "execution_count": 181,
      "outputs": [
        {
          "output_type": "execute_result",
          "data": {
            "text/plain": [
              "3"
            ]
          },
          "metadata": {
            "tags": []
          },
          "execution_count": 181
        }
      ]
    },
    {
      "cell_type": "code",
      "metadata": {
        "colab": {
          "base_uri": "https://localhost:8080/"
        },
        "id": "YM3LHtIKEfoT",
        "outputId": "96e13cd4-5a83-41d8-851a-c40e9b5c69a7"
      },
      "source": [
        "mp=[0.35,0.3,0.25,0.10] #müsteri olasılığı\n",
        "musterisayisi(mp)"
      ],
      "execution_count": 182,
      "outputs": [
        {
          "output_type": "execute_result",
          "data": {
            "text/plain": [
              "14"
            ]
          },
          "metadata": {
            "tags": []
          },
          "execution_count": 182
        }
      ]
    },
    {
      "cell_type": "code",
      "metadata": {
        "colab": {
          "base_uri": "https://localhost:8080/"
        },
        "id": "W3vHoHnlUjzQ",
        "outputId": "9aadc94a-173e-435c-f46a-6f3c488a879b"
      },
      "source": [
        "anaprogram(mp,pp,365,25)"
      ],
      "execution_count": 188,
      "outputs": [
        {
          "output_type": "execute_result",
          "data": {
            "text/plain": [
              "95348"
            ]
          },
          "metadata": {
            "tags": []
          },
          "execution_count": 188
        }
      ]
    },
    {
      "cell_type": "code",
      "metadata": {
        "id": "0Wpp5OyASP5w"
      },
      "source": [
        "def anaprogram(mp,pp,n,ua): #ua=üretilecek adet\n",
        "  toplamkazanc=0\n",
        "  for i in range(n):\n",
        "    m=musterisayisi(mp)\n",
        "    gp=0\n",
        "    for j in range(m):\n",
        "      p=pastasayisi(pp)\n",
        "      gp=gp+p\n",
        "    if (gp>ua):\n",
        "      gp=ua\n",
        "    kp=ua-gp\n",
        "    kazanc=(54-38)*gp\n",
        "    zarar=kp*(27-38)\n",
        "    toplamkazanc+=kazanc+zarar\n",
        "  #print(toplamkazanc)\n",
        "  return toplamkazanc\n"
      ],
      "execution_count": 184,
      "outputs": []
    },
    {
      "cell_type": "code",
      "metadata": {
        "id": "y64-2PHAWpWl"
      },
      "source": [
        "#sadece anaprogram kullanılarak yapılan 5 denemede az durumu (91514 - 97994)  çok durumu ise (78513 -81266) aralıklarında random sayılar üretti.\n",
        "#ana programda yapılan her bir denemede farklı sonuçlar elde edilince bu aralığı dahada netleştirmek adına monte carlo yöntemi uygulayıp Net kar-zarar durumunun ortaya çıkarılmaya çalışıldı.\n",
        "#monte carlo uygulanarak yapılan denemelerde ise  az durumunda 94761  ve çk durumunda 79799  gibi bir değere yaklaştığı bu durumda net kar zarar durumun yaklaşık 15000 olacağı görüldü.\n",
        "def MC_anaprogram(n,az,cok):  # n = durum sayısı    ....az = üretilmek istenen minimum (25) ..... cok =üretilmek istenen maximum durum(30) \n",
        "  mc1=[]  # random üretilecek olan az durumlarının sayısını bir diziye yerleştirme\n",
        "  mc2=[]  # random üretilecek olan cok durumlarının sayısını bir diziye yerleştirme\n",
        "  Tmc1=0\n",
        "  Tmc2=0\n",
        "  for i in range(n):   \n",
        "    mc1.append(anaprogram(mp,pp,365,az))\n",
        "    mc2.append(anaprogram(mp,pp,365,cok))\n",
        "  for i in range(n):\n",
        "    Tmc1+=mc1[i]\n",
        "    Tmc2+=mc2[i]\n",
        "  c1=Tmc1/n\n",
        "  c2=Tmc2/n\n",
        "  print(\"az durumu için=\",c1,\"    cok durumu icin= \",c2, \"   Net :\",c1-c2)\n"
      ],
      "execution_count": 194,
      "outputs": []
    },
    {
      "cell_type": "code",
      "metadata": {
        "colab": {
          "base_uri": "https://localhost:8080/"
        },
        "id": "cytcgjSFafgp",
        "outputId": "19d61ce3-601d-4223-b5f5-0307ec3d1f4a"
      },
      "source": [
        "MC_anaprogram(1000,25,30)"
      ],
      "execution_count": 196,
      "outputs": [
        {
          "output_type": "stream",
          "text": [
            "az durumu için= 94761.965     cok durumu icin=  79799.172    Net : 14962.79299999999\n"
          ],
          "name": "stdout"
        }
      ]
    }
  ]
}