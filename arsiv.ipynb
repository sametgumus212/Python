{
  "nbformat": 4,
  "nbformat_minor": 0,
  "metadata": {
    "colab": {
      "name": "arsiv.ipynb",
      "provenance": [],
      "collapsed_sections": [],
      "authorship_tag": "ABX9TyMyjtvP7Rat2ALGx95b1TsB",
      "include_colab_link": true
    },
    "kernelspec": {
      "name": "python3",
      "display_name": "Python 3"
    },
    "language_info": {
      "name": "python"
    }
  },
  "cells": [
    {
      "cell_type": "markdown",
      "metadata": {
        "id": "view-in-github",
        "colab_type": "text"
      },
      "source": [
        "<a href=\"https://colab.research.google.com/github/sametgumus212/Python/blob/master/arsiv.ipynb\" target=\"_parent\"><img src=\"https://colab.research.google.com/assets/colab-badge.svg\" alt=\"Open In Colab\"/></a>"
      ]
    },
    {
      "cell_type": "code",
      "metadata": {
        "id": "2GthrGpKjSQJ"
      },
      "source": [
        "import bs4\n",
        "import requests\n",
        "from bs4 import BeautifulSoup\n",
        "import pandas as pd\n",
        "import numpy as np\n",
        "import os\n",
        "import urllib.request\n",
        "import re"
      ],
      "execution_count": 35,
      "outputs": []
    },
    {
      "cell_type": "code",
      "metadata": {
        "id": "KEqtBkpFjibP"
      },
      "source": [
        "def aylikaramalinkiolusturucu(str,ay):\n",
        "  gunl=\"\"\n",
        "  if (ay<10):\n",
        "    gunl=(\"{}{}{}\".format(str,0,ay))\n",
        "  else:\n",
        "    gunl=(\"{}{}\".format(str,ay))\n",
        "  gun=[]\n",
        "  for j in range(1,31):\n",
        "    if ( j<10):\n",
        "      gun.append(\"{}{}{}{}\".format(gunl,0,j,\"&p=1\") )        \n",
        "    else:\n",
        "      gun.append(\"{}{}{}\".format(gunl,j,\"&p=1\") )\n",
        "  return gun"
      ],
      "execution_count": 111,
      "outputs": []
    },
    {
      "cell_type": "code",
      "metadata": {
        "id": "zeb5MOzto_vl"
      },
      "source": [
        "def yillikaramalinkiolusturucu(str):\n",
        "  ay=[]\n",
        "  gun=[]\n",
        "  for i in range(1,13):\n",
        "    if ( i<10):\n",
        "      ay.append(\"{}{}{}\".format(str,0,i) )    \n",
        "    else:\n",
        "      ay.append(\"{}{}\".format(str,i) )\n",
        "\n",
        "    for j in range(1,31):\n",
        "      if ( j<10):\n",
        "        gun.append(\"{}{}{}{}\".format(ay[i-1],0,j,\"&p=1\") )    \n",
        "      else:\n",
        "        gun.append(\"{}{}{}\".format(ay[i-1],j,\"&p=1\") )\n",
        "  return gun"
      ],
      "execution_count": 92,
      "outputs": []
    },
    {
      "cell_type": "code",
      "metadata": {
        "id": "sF80bGX4k6iJ"
      },
      "source": [
        "def haberlinkiolusturucu(gun):\n",
        "  linkler2=[]\n",
        "  linkler=[]\n",
        "  ss=0\n",
        "  for i in gun:\n",
        "    url =i\n",
        "    #print(\"url= \",url)\n",
        "    req = requests.get(url)\n",
        "    soup = BeautifulSoup(req.text, \"html.parser\")\n",
        "    #print(\"The href links are :\")\n",
        "    for link in soup.find_all('a'):\n",
        "      #print(link.get('href'))\n",
        "      linkler.append(link.get('href')) \n",
        "    #print(linkler)     \n",
        "  linkler=linksuzme(linkler)\n",
        "  for i in linkler:\n",
        "    if(ss%2==0):\n",
        "      linkler2.append(i)\n",
        "    ss+=1  \n",
        "  return linkler2"
      ],
      "execution_count": 205,
      "outputs": []
    },
    {
      "cell_type": "code",
      "metadata": {
        "id": "j4ESB4Wcvgga"
      },
      "source": [
        "def linksuzme(linkler):\n",
        "  suzulen=[]  \n",
        "  for i in linkler:\n",
        "    if (i.startswith(\"/\") and len(i)>50):      \n",
        "      suzulen.append(\"{}{}\".format(\"https://www.hurriyet.com.tr\",i) )  \n",
        "  return suzulen"
      ],
      "execution_count": 204,
      "outputs": []
    },
    {
      "cell_type": "code",
      "metadata": {
        "id": "ZyW4tNsjkXr0"
      },
      "source": [
        "alink=aylikaramalinkiolusturucu(\"https://www.hurriyet.com.tr/haberleri/2020?d=2020\",1)\n",
        "alink"
      ],
      "execution_count": null,
      "outputs": []
    },
    {
      "cell_type": "code",
      "metadata": {
        "id": "RPqO62aL3XTf"
      },
      "source": [
        "ylink=yillikaramalinkiolusturucu(\"https://www.hurriyet.com.tr/haberleri/2020?d=2020\")"
      ],
      "execution_count": 172,
      "outputs": []
    },
    {
      "cell_type": "code",
      "metadata": {
        "id": "Ap31QDiF3zHn"
      },
      "source": [
        "yilhaber=haberlinkiolusturucu(ylink[:100])\n",
        "yilhaber"
      ],
      "execution_count": 206,
      "outputs": []
    },
    {
      "cell_type": "code",
      "metadata": {
        "id": "sLQgfDLNnGRZ"
      },
      "source": [
        "\n",
        "ayhaber=haberlinkiolusturucu(alink[:15])\n",
        "ayhaber"
      ],
      "execution_count": null,
      "outputs": []
    },
    {
      "cell_type": "code",
      "metadata": {
        "id": "1KZ1qEM1nAri"
      },
      "source": [
        "with open(\"aylikfile.txt\", 'w') as file:\n",
        "        for row in yilhaber:\n",
        "            s = \"\".join(map(str, row))\n",
        "            file.write(s+'\\n')"
      ],
      "execution_count": 198,
      "outputs": []
    },
    {
      "cell_type": "code",
      "metadata": {
        "id": "sd1t7_Ma4p2n"
      },
      "source": [
        "with open(\"yillikfile.txt\", 'w') as file:\n",
        "        for row in yilhaber:\n",
        "            s = \"\".join(map(str, row))\n",
        "            file.write(s+'\\n')"
      ],
      "execution_count": 174,
      "outputs": []
    }
  ]
}