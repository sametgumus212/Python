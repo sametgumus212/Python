{
  "nbformat": 4,
  "nbformat_minor": 0,
  "metadata": {
    "colab": {
      "name": "arsiv2.ipynb",
      "provenance": [],
      "collapsed_sections": [],
      "authorship_tag": "ABX9TyMksQN5cN4PfxKM8m4O14se",
      "include_colab_link": true
    },
    "kernelspec": {
      "name": "python3",
      "display_name": "Python 3"
    },
    "language_info": {
      "name": "python"
    }
  },
  "cells": [
    {
      "cell_type": "markdown",
      "metadata": {
        "id": "view-in-github",
        "colab_type": "text"
      },
      "source": [
        "<a href=\"https://colab.research.google.com/github/sametgumus212/Python/blob/master/arsiv2.ipynb\" target=\"_parent\"><img src=\"https://colab.research.google.com/assets/colab-badge.svg\" alt=\"Open In Colab\"/></a>"
      ]
    },
    {
      "cell_type": "code",
      "metadata": {
        "id": "2GthrGpKjSQJ"
      },
      "source": [
        "import bs4\n",
        "import requests\n",
        "from bs4 import BeautifulSoup\n",
        "import pandas as pd\n",
        "import numpy as np\n",
        "import os\n",
        "import urllib.request\n",
        "import re"
      ],
      "execution_count": 38,
      "outputs": []
    },
    {
      "cell_type": "code",
      "metadata": {
        "id": "hOJxFIvYLP46"
      },
      "source": [
        "import bs4\n",
        "from bs4 import BeautifulSoup\n",
        "import requests\n",
        "import pandas\n",
        "from pandas import DataFrame\n",
        "import csv"
      ],
      "execution_count": 44,
      "outputs": []
    },
    {
      "cell_type": "code",
      "metadata": {
        "id": "KEqtBkpFjibP"
      },
      "source": [
        "def aylikaramalinkiolusturucu(str,ay):\n",
        "  gunl=\"\"\n",
        "  s=0\n",
        "  if (ay<10):\n",
        "    gunl=(\"{}{}{}\".format(str,0,ay))\n",
        "  else:\n",
        "    gunl=(\"{}{}\".format(str,ay))\n",
        "  gun=[]\n",
        "  for j in range(1,31):\n",
        "    if ( j<10):\n",
        "      gun.append(\"{}{}{}{}\".format(gunl,0,j,\"&p=1\") ) \n",
        "        \n",
        "    else:\n",
        "      gun.append(\"{}{}{}\".format(gunl,j,\"&p=1\") )\n",
        "     \n",
        "\n",
        "  return gun"
      ],
      "execution_count": 69,
      "outputs": []
    },
    {
      "cell_type": "code",
      "metadata": {
        "id": "zeb5MOzto_vl"
      },
      "source": [
        "def yillikaramalinkiolusturucu(str):\n",
        "  ay=[]\n",
        "  gun=[]\n",
        "  for i in range(1,13):\n",
        "    if ( i<10):\n",
        "      ay.append(\"{}{}{}\".format(str,0,i) )    \n",
        "    else:\n",
        "      ay.append(\"{}{}\".format(str,i) )\n",
        "\n",
        "    for j in range(1,31):\n",
        "      if ( j<10):\n",
        "        gun.append(\"{}{}{}{}\".format(ay[i-1],0,j,\"&p=1\") )    \n",
        "      else:\n",
        "        gun.append(\"{}{}{}\".format(ay[i-1],j,\"&p=1\") )\n",
        "  return gun"
      ],
      "execution_count": 39,
      "outputs": []
    },
    {
      "cell_type": "code",
      "metadata": {
        "id": "EI4KxrLNfp3g"
      },
      "source": [
        "def gunluksayfali(gun):# aylık yada yıllık toplu gönderilecek linklerin gun+sayfalardan oluşan linkler (full link oluşturucu) \n",
        "  dem=[]\n",
        "  gun2=[]\n",
        "  s=0\n",
        "  for i in gun:   \n",
        "    s=sayfabul(i)\n",
        "    y=i[:-1]   \n",
        "    gun2.append(i)\n",
        "    for j in range(s):      \n",
        "      dem.append(\"{}{}\".format(y,(j+1)))     \n",
        "      s+=1\n",
        "    s=0\n",
        " \n",
        "  return dem\n",
        "    "
      ],
      "execution_count": 191,
      "outputs": []
    },
    {
      "cell_type": "code",
      "metadata": {
        "id": "3XOlUHwlM_oe"
      },
      "source": [
        "def sayfabul(path):    #kendisine gelen günlük webadresinin kaç sayfa haberden oluştuğunu geri döndürür\n",
        "        r = requests.get(path)\n",
        "        soup = BeautifulSoup(r.text ,\"lxml\")\n",
        "        url = soup.find('div', class_=\"paging\").findAll('a')        \n",
        "        return len(url)        "
      ],
      "execution_count": 141,
      "outputs": []
    },
    {
      "cell_type": "code",
      "metadata": {
        "id": "sF80bGX4k6iJ"
      },
      "source": [
        "def haberlinkiolusturucu(gun):# kendisine gelen linkteki sayfada bulunan haberleri döndürür.\n",
        "  linkler2=[]\n",
        "  linkler=[]\n",
        "  ss=0\n",
        "  for i in gun:\n",
        "    url =i\n",
        "    #print(\"url= \",url)\n",
        "    req = requests.get(url)\n",
        "    soup = BeautifulSoup(req.text, \"html.parser\")\n",
        "    #print(\"The href links are :\")\n",
        "    for link in soup.find_all('a'):\n",
        "      #print(link.get('href'))\n",
        "      linkler.append(link.get('href')) \n",
        "    #print(linkler)     \n",
        "  linkler=linksuzme(linkler)\n",
        "  for i in linkler:\n",
        "    if(ss%2==0):\n",
        "      linkler2.append(i)\n",
        "    ss+=1  \n",
        "  return linkler2"
      ],
      "execution_count": 42,
      "outputs": []
    },
    {
      "cell_type": "code",
      "metadata": {
        "id": "j4ESB4Wcvgga"
      },
      "source": [
        "def linksuzme(linkler): # linkte haber dışındaki gereksiz linklerin süzgeçten geçirilmesi\n",
        "  suzulen=[]  \n",
        "  for i in linkler:\n",
        "    if (i.startswith(\"/\") and len(i)>50):      \n",
        "      suzulen.append(\"{}{}\".format(\"https://www.hurriyet.com.tr\",i) )  \n",
        "  return suzulen"
      ],
      "execution_count": 43,
      "outputs": []
    },
    {
      "cell_type": "code",
      "metadata": {
        "id": "ZyW4tNsjkXr0"
      },
      "source": [
        "alink=aylikaramalinkiolusturucu(\"https://www.hurriyet.com.tr/haberleri/2020?d=2020\",1)\n",
        "alink"
      ],
      "execution_count": null,
      "outputs": []
    },
    {
      "cell_type": "code",
      "metadata": {
        "id": "RPqO62aL3XTf"
      },
      "source": [
        "ylink=yillikaramalinkiolusturucu(\"https://www.hurriyet.com.tr/haberleri/2020?d=2020\")"
      ],
      "execution_count": null,
      "outputs": []
    },
    {
      "cell_type": "code",
      "metadata": {
        "id": "Ap31QDiF3zHn"
      },
      "source": [
        "yilhaber=haberlinkiolusturucu(ylink[:100])\n",
        "yilhaber"
      ],
      "execution_count": null,
      "outputs": []
    },
    {
      "cell_type": "code",
      "metadata": {
        "id": "sLQgfDLNnGRZ"
      },
      "source": [
        "\n",
        "ayhaber=haberlinkiolusturucu(alink[:15])\n",
        "ayhaber"
      ],
      "execution_count": null,
      "outputs": []
    },
    {
      "cell_type": "code",
      "metadata": {
        "id": "1KZ1qEM1nAri"
      },
      "source": [
        "with open(\"aylikfile.txt\", 'w') as file:\n",
        "        for row in yilhaber:\n",
        "            s = \"\".join(map(str, row))\n",
        "            file.write(s+'\\n')"
      ],
      "execution_count": null,
      "outputs": []
    },
    {
      "cell_type": "code",
      "metadata": {
        "id": "sd1t7_Ma4p2n"
      },
      "source": [
        "with open(\"yillikfile.txt\", 'w') as file:\n",
        "        for row in yilhaber:\n",
        "            s = \"\".join(map(str, row))\n",
        "            file.write(s+'\\n')"
      ],
      "execution_count": null,
      "outputs": []
    },
    {
      "cell_type": "code",
      "metadata": {
        "id": "4UiF09jig8AX"
      },
      "source": [
        "webpages=gunluksayfali(alink2[:5])\n",
        "webpages"
      ],
      "execution_count": null,
      "outputs": []
    },
    {
      "cell_type": "code",
      "metadata": {
        "id": "I6cWh_ReY_Cb"
      },
      "source": [
        "alink2=alink=aylikaramalinkiolusturucu(\"https://www.hurriyet.com.tr/haberleri/2020?d=2020\",1)\n",
        "alink2"
      ],
      "execution_count": null,
      "outputs": []
    },
    {
      "cell_type": "code",
      "metadata": {
        "id": "lETs_uXObQJf"
      },
      "source": [
        "aylikaramalinkiolusturucu(\"https://www.hurriyet.com.tr/haberleri/2020?d=2020\",1)"
      ],
      "execution_count": null,
      "outputs": []
    },
    {
      "cell_type": "code",
      "metadata": {
        "id": "urL8mAfTRlGu"
      },
      "source": [
        "for i in alink2: #gönderilen linklerin herbirinin sayfa sayısını yazdırır.\n",
        "  a=sayfabul(i)\n",
        "  print(a)\n"
      ],
      "execution_count": null,
      "outputs": []
    }
  ]
}