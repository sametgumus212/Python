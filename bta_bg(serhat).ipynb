{
  "nbformat": 4,
  "nbformat_minor": 0,
  "metadata": {
    "colab": {
      "name": "bta.bg.ipynb",
      "provenance": [],
      "collapsed_sections": [],
      "authorship_tag": "ABX9TyNJffU3xLf5W40rdU50U2T3",
      "include_colab_link": true
    },
    "kernelspec": {
      "name": "python3",
      "display_name": "Python 3"
    },
    "language_info": {
      "name": "python"
    }
  },
  "cells": [
    {
      "cell_type": "markdown",
      "metadata": {
        "id": "view-in-github",
        "colab_type": "text"
      },
      "source": [
        "<a href=\"https://colab.research.google.com/github/sametgumus212/Python/blob/master/bta_bg(serhat).ipynb\" target=\"_parent\"><img src=\"https://colab.research.google.com/assets/colab-badge.svg\" alt=\"Open In Colab\"/></a>"
      ]
    },
    {
      "cell_type": "code",
      "metadata": {
        "colab": {
          "base_uri": "https://localhost:8080/"
        },
        "id": "CWThUCuIJitL",
        "outputId": "0835d71f-ac9c-4baf-9355-704e8b0df0f4"
      },
      "source": [
        "\n",
        "from google.colab import drive\n",
        "drive.mount('/content/drive/', force_remount=True)"
      ],
      "execution_count": 1,
      "outputs": [
        {
          "output_type": "stream",
          "text": [
            "Mounted at /content/drive/\n"
          ],
          "name": "stdout"
        }
      ]
    },
    {
      "cell_type": "code",
      "metadata": {
        "id": "IJqbMx9MOnDF"
      },
      "source": [
        "import os\n",
        "import bs4\n",
        "import requests\n",
        "from bs4 import BeautifulSoup\n",
        "import pandas as pd\n",
        "import numpy as np\n",
        "import os\n",
        "import urllib.request\n",
        "import re\n",
        "from pandas import DataFrame\n",
        "import csv"
      ],
      "execution_count": 2,
      "outputs": []
    },
    {
      "cell_type": "code",
      "metadata": {
        "id": "724oYANLRUlM"
      },
      "source": [
        "nar=np.array([])"
      ],
      "execution_count": null,
      "outputs": []
    },
    {
      "cell_type": "code",
      "metadata": {
        "id": "_SiPpcpjNlmJ"
      },
      "source": [
        "\n",
        "# def urlcreater(url,count):\n",
        "#   h=[]\n",
        "#   nar=np.array(h)\n",
        "#   for i in range(1,count,1):\n",
        "#     h.append(\"{}{}\".format(url,i)) \n",
        "#   nar=np.array(h)\n",
        "\n"
      ],
      "execution_count": null,
      "outputs": []
    },
    {
      "cell_type": "code",
      "metadata": {
        "id": "tv4M5904RYuu"
      },
      "source": [
        "def outlinkcreater(url,count): \n",
        "  out_links=[]  \n",
        "  for i in range(1,count,1):\n",
        "    out_links.append(\"{}{}\".format(url,i))\n",
        "  return out_links"
      ],
      "execution_count": 3,
      "outputs": []
    },
    {
      "cell_type": "code",
      "metadata": {
        "id": "rUIMauV7RVeb"
      },
      "source": [
        "url=\"http://bta.bg/en/c/DF/page/\" # for bg =>url=\"http://bta.bg/bg/c/DF/page/\"\n",
        "outlinks=outlinkcreater(url,10)    # define page count....615\n",
        "# for i in outlinks:\n",
        "#   print(i)\n"
      ],
      "execution_count": 7,
      "outputs": []
    },
    {
      "cell_type": "code",
      "metadata": {
        "id": "zAug2Xf3jpmG"
      },
      "source": [
        "def pagenewslinkcreator2(link):\n",
        "  dblink=[]\n",
        "  req = requests.get(link)\n",
        "  soup = BeautifulSoup(req.content, \"lxml\")\n",
        "  titlem=soup.find_all(\"h4\")\n",
        "  c=\"\"\n",
        "  counter=0\n",
        "  s=1\n",
        "  for i in titlem:\n",
        "    if s==21:\n",
        "      break\n",
        "    if(i is not None):      \n",
        "      c=\"{}{}\".format(\"http://bta.bg\",i.a.get('href'))\n",
        "      if c is not None:      \n",
        "        dblink.append(c)         \n",
        "        s+=1\n",
        "      else:\n",
        "        pass       \n",
        "  return dblink\n"
      ],
      "execution_count": 8,
      "outputs": []
    },
    {
      "cell_type": "code",
      "metadata": {
        "id": "G8IBOkEAWdKU"
      },
      "source": [
        "all_page_links=[]\n",
        "for i in outlinks:\n",
        "  print(i)\n",
        "  all_page_links.append(pagenewslinkcreator2(i))"
      ],
      "execution_count": null,
      "outputs": []
    },
    {
      "cell_type": "code",
      "metadata": {
        "id": "6WOgLpp5Lkq5"
      },
      "source": [
        "for i in all_page_links:\n",
        "  for j in i:\n",
        "    print(j)"
      ],
      "execution_count": null,
      "outputs": []
    },
    {
      "cell_type": "code",
      "metadata": {
        "id": "9wQUljWsoBvp"
      },
      "source": [
        "s=1\n",
        "for i in all_page_links[:10]:\n",
        "  for j in i:\n",
        "    if (s>=7414):\n",
        "      creator(j)\n",
        "    else:\n",
        "      pass\n",
        "    s+=1"
      ],
      "execution_count": 11,
      "outputs": []
    },
    {
      "cell_type": "code",
      "metadata": {
        "id": "v45JWGPbonGC"
      },
      "source": [
        "# for i in all_page_links:\n",
        "#   for j in i:\n",
        "#     ps=\"\"\n",
        "#     with open(\"bta.bg.links.output.txt\", 'a') as file: \n",
        "#       ps=\"{}\".format(j)\n",
        "#       #ps=\"{}{}{}{}{}{}{}\".format(array[0],\";\",array[1],\";\",array[2],\";\",array[3])\n",
        "#       file.write(ps+'\\n')\n",
        "#       file.truncate()"
      ],
      "execution_count": null,
      "outputs": []
    },
    {
      "cell_type": "code",
      "metadata": {
        "id": "noEEIUPutsj7"
      },
      "source": [
        "def creator(link):\n",
        "  array=[]\n",
        "  atxt=\"\"\n",
        "  array.append(link)    \n",
        "  r = requests.get(link)   \n",
        "  soup = BeautifulSoup(r.content, 'html5lib')\n",
        "  dat=soup.find(\"div\",attrs={\"class\":\"page-title\"}).time.get(\"datetime\")\n",
        "  #print(dat)\n",
        "  array.append(dat)\n",
        "  title=soup.find(\"div\",attrs={\"class\":\"page-title\"}).h1.getText()\n",
        "  #print(title)\n",
        "  array.append(title)      \n",
        "  table = soup.find(\"div\", attrs = {\"class\":\"news-content\"}).p.getText()\n",
        "  # for i in table:\n",
        "  #   ad=i.findAll(\"p\",attrs={\"class\":\"\"})\n",
        "  #   for i in ad:\n",
        "  #     txt=i.strip().getText()\n",
        "  #     if(len(txt)>40):\n",
        "  #       atxt+=txt\n",
        "  array.append(table) \n",
        "  ps=\"\"\n",
        "  with open(\"/content/drive/MyDrive/bg_tr/bta.bg/bta.bg_container_out_pdeneme3.txt\", 'a') as file: \n",
        "    #ps=\"{}{}{}{}{}{}{}\".format(pdd[0],\";\",pdd[1],\";\",pdd[2],\";\",pdd[3])\n",
        "    ps=\"{}{}{}{}{}{}{}\".format(array[0],\";\",array[1],\";\",array[2],\";\",array[3])\n",
        "    file.write(ps+'\\n')\n",
        "    file.truncate()\n",
        "  return array\n"
      ],
      "execution_count": 19,
      "outputs": []
    },
    {
      "cell_type": "code",
      "metadata": {
        "id": "GvRlRGCrTgQW"
      },
      "source": [
        "for i in all_page_links[:1]:\n",
        "  for j in i:\n",
        "    #print(j)\n",
        "    creator(j)"
      ],
      "execution_count": 20,
      "outputs": []
    },
    {
      "cell_type": "code",
      "metadata": {
        "id": "V2bKm18QYUBB"
      },
      "source": [
        "! cp '/content/bta.bg.links.output.txt' '/content/drive/MyDrive/bg_tr/bta.bg'"
      ],
      "execution_count": null,
      "outputs": []
    }
  ]
}