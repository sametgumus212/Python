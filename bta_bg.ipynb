{
  "nbformat": 4,
  "nbformat_minor": 0,
  "metadata": {
    "colab": {
      "name": "bta.bg.ipynb",
      "provenance": [],
      "collapsed_sections": [],
      "authorship_tag": "ABX9TyNMvQ5ViC0qDNWvRCFZ6ARh",
      "include_colab_link": true
    },
    "kernelspec": {
      "name": "python3",
      "display_name": "Python 3"
    },
    "language_info": {
      "name": "python"
    }
  },
  "cells": [
    {
      "cell_type": "markdown",
      "metadata": {
        "id": "view-in-github",
        "colab_type": "text"
      },
      "source": [
        "<a href=\"https://colab.research.google.com/github/sametgumus212/Python/blob/master/bta_bg.ipynb\" target=\"_parent\"><img src=\"https://colab.research.google.com/assets/colab-badge.svg\" alt=\"Open In Colab\"/></a>"
      ]
    },
    {
      "cell_type": "code",
      "metadata": {
        "colab": {
          "base_uri": "https://localhost:8080/"
        },
        "id": "CWThUCuIJitL",
        "outputId": "83366ff9-77cd-43e5-c271-f858fef8c678"
      },
      "source": [
        "\n",
        "from google.colab import drive\n",
        "drive.mount('/content/drive/', force_remount=True)"
      ],
      "execution_count": 248,
      "outputs": [
        {
          "output_type": "stream",
          "text": [
            "Mounted at /content/drive/\n"
          ],
          "name": "stdout"
        }
      ]
    },
    {
      "cell_type": "code",
      "metadata": {
        "id": "IJqbMx9MOnDF"
      },
      "source": [
        "import os\n",
        "import bs4\n",
        "import requests\n",
        "from bs4 import BeautifulSoup\n",
        "import pandas as pd\n",
        "import numpy as np\n",
        "import os\n",
        "import urllib.request\n",
        "import re\n",
        "from pandas import DataFrame\n",
        "import csv"
      ],
      "execution_count": 4,
      "outputs": []
    },
    {
      "cell_type": "code",
      "metadata": {
        "id": "724oYANLRUlM"
      },
      "source": [
        "nar=np.array([])"
      ],
      "execution_count": 16,
      "outputs": []
    },
    {
      "cell_type": "code",
      "metadata": {
        "id": "_SiPpcpjNlmJ"
      },
      "source": [
        "\n",
        "# def urlcreater(url,count):\n",
        "#   h=[]\n",
        "#   nar=np.array(h)\n",
        "#   for i in range(1,count,1):\n",
        "#     h.append(\"{}{}\".format(url,i)) \n",
        "#   nar=np.array(h)\n",
        "\n"
      ],
      "execution_count": 21,
      "outputs": []
    },
    {
      "cell_type": "code",
      "metadata": {
        "id": "tv4M5904RYuu"
      },
      "source": [
        "def outlinkcreater(url,count): \n",
        "  out_links=[]  \n",
        "  for i in range(1,count,1):\n",
        "    out_links.append(\"{}{}\".format(url,i))\n",
        "  return out_links"
      ],
      "execution_count": 226,
      "outputs": []
    },
    {
      "cell_type": "code",
      "metadata": {
        "id": "rUIMauV7RVeb"
      },
      "source": [
        "url=\"http://bta.bg/en/c/DF/page/\"\n",
        "outlinks=outlinkcreater(url,615)    # define page count....615\n",
        "# for i in outlinks:\n",
        "#   print(i)\n"
      ],
      "execution_count": 229,
      "outputs": []
    },
    {
      "cell_type": "code",
      "metadata": {
        "id": "zAug2Xf3jpmG"
      },
      "source": [
        "def pagenewslinkcreator2(link):\n",
        "  dblink=[]\n",
        "  req = requests.get(link)\n",
        "  soup = BeautifulSoup(req.content, \"lxml\")\n",
        "  titlem=soup.find_all(\"h4\")\n",
        "  c=\"\"\n",
        "  counter=0\n",
        "  s=1\n",
        "  for i in titlem:\n",
        "    if s==21:\n",
        "      break\n",
        "    if(i is not None):      \n",
        "      c=\"{}{}\".format(\"http://bta.bg\",i.a.get('href'))\n",
        "      if c is not None:      \n",
        "        dblink.append(c)         \n",
        "        s+=1\n",
        "      else:\n",
        "        pass       \n",
        "  return dblink\n"
      ],
      "execution_count": 221,
      "outputs": []
    },
    {
      "cell_type": "code",
      "metadata": {
        "colab": {
          "base_uri": "https://localhost:8080/"
        },
        "id": "G8IBOkEAWdKU",
        "outputId": "50975603-ef8d-4a79-8b43-650981f5f006"
      },
      "source": [
        "all_page_links=[]\n",
        "for i in outlinks[:2]:\n",
        "  print(i)\n",
        "  all_page_links.append(pagenewslinkcreator2(i))"
      ],
      "execution_count": 234,
      "outputs": [
        {
          "output_type": "stream",
          "text": [
            "http://bta.bg/en/c/DF/page/1\n",
            "http://bta.bg/en/c/DF/page/2\n"
          ],
          "name": "stdout"
        }
      ]
    },
    {
      "cell_type": "code",
      "metadata": {
        "id": "noEEIUPutsj7"
      },
      "source": [
        "def creator(link):\n",
        "  array=[]\n",
        "  atxt=\"\"\n",
        "  array.append(link)    \n",
        "  r = requests.get(link)   \n",
        "  soup = BeautifulSoup(r.content, 'html5lib')\n",
        "  dat=soup.find(\"div\",attrs={\"class\":\"page-title\"}).time.get(\"datetime\")\n",
        "  #print(dat)\n",
        "  array.append(dat)\n",
        "  title=soup.find(\"div\",attrs={\"class\":\"page-title\"}).h1.getText()\n",
        "  #print(title)\n",
        "  array.append(title)      \n",
        "  table = soup.find(\"div\", attrs = {\"class\":\"news-content\"}).p.getText()\n",
        "  # for i in table:\n",
        "  #   ad=i.findAll(\"p\",attrs={\"class\":\"\"})\n",
        "  #   for i in ad:\n",
        "  #     txt=i.strip().getText()\n",
        "  #     if(len(txt)>40):\n",
        "  #       atxt+=txt\n",
        "  array.append(table) \n",
        "  ps=\"\"\n",
        "  with open(\"bta.bg_sample_output.txt\", 'a') as file: \n",
        "    #ps=\"{}{}{}{}{}{}{}\".format(pdd[0],\";\",pdd[1],\";\",pdd[2],\";\",pdd[3])\n",
        "    ps=\"{}{}{}{}{}{}{}\".format(array[0],\";\",array[1],\";\",array[2],\";\",array[3])\n",
        "    file.write(ps+'\\n')\n",
        "    file.truncate()\n",
        "  return array\n"
      ],
      "execution_count": 245,
      "outputs": []
    },
    {
      "cell_type": "code",
      "metadata": {
        "id": "GvRlRGCrTgQW"
      },
      "source": [
        "for i in all_page_links[:5]:\n",
        "  for j in i:\n",
        "    #print(j)\n",
        "    creator(j)"
      ],
      "execution_count": 246,
      "outputs": []
    },
    {
      "cell_type": "code",
      "metadata": {
        "id": "V2bKm18QYUBB"
      },
      "source": [
        "! cp '/content/bta.bg_sample_output.txt' '/content/drive/MyDrive/bg_tr/bta.bg'"
      ],
      "execution_count": 249,
      "outputs": []
    }
  ]
}