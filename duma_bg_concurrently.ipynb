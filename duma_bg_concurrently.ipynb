{
  "nbformat": 4,
  "nbformat_minor": 0,
  "metadata": {
    "colab": {
      "name": "duma_bg_concurrently.ipynb",
      "provenance": [],
      "collapsed_sections": [],
      "authorship_tag": "ABX9TyMbY0V4McsSNHpoK4zDvlba",
      "include_colab_link": true
    },
    "kernelspec": {
      "name": "python3",
      "display_name": "Python 3"
    },
    "language_info": {
      "name": "python"
    }
  },
  "cells": [
    {
      "cell_type": "markdown",
      "metadata": {
        "id": "view-in-github",
        "colab_type": "text"
      },
      "source": [
        "<a href=\"https://colab.research.google.com/github/sametgumus212/Python/blob/master/duma_bg_concurrently.ipynb\" target=\"_parent\"><img src=\"https://colab.research.google.com/assets/colab-badge.svg\" alt=\"Open In Colab\"/></a>"
      ]
    },
    {
      "cell_type": "code",
      "metadata": {
        "colab": {
          "base_uri": "https://localhost:8080/"
        },
        "id": "OQW5yK9TuStH",
        "outputId": "3e975e45-cac3-4d8a-affd-53479a9ff7b3"
      },
      "source": [
        "import time as time\n",
        "import math\n",
        "import multiprocessing as mp\n",
        "from multiprocessing import Process, Pool\n",
        "import threading\n",
        "from threading import Thread \n",
        "print(mp.cpu_count())"
      ],
      "execution_count": 1,
      "outputs": [
        {
          "output_type": "stream",
          "text": [
            "2\n"
          ],
          "name": "stdout"
        }
      ]
    },
    {
      "cell_type": "code",
      "metadata": {
        "id": "p_Bo090d8s0I"
      },
      "source": [
        "!pip install bs4\n",
        "!pip install requests\n",
        "!pip install pandas\n",
        "!pip install numpy\n",
        "!pip install urllib.request\n",
        "!pip install lxml\n",
        "!pip install html5lib"
      ],
      "execution_count": null,
      "outputs": []
    },
    {
      "cell_type": "code",
      "metadata": {
        "id": "fsIlyUMQuZCN"
      },
      "source": [
        "import bs4\n",
        "import requests\n",
        "from bs4 import BeautifulSoup, BeautifulStoneSoup,builder_registry,builder\n",
        "import pandas as pd\n",
        "import numpy as np\n",
        "import os\n",
        "import urllib.request\n",
        "import re\n",
        "from pandas import DataFrame\n",
        "import csv\n",
        "import lxml\n",
        "import html5lib\n",
        "from urllib.request import urlopen\n",
        "from urllib.parse import urlparse\n",
        "from bs4 import BeautifulSoup\n",
        "import re\n",
        "import datetime\n",
        "import random\n",
        "import time\n",
        "import multiprocessing\n",
        "import threading\n",
        "from multiprocessing import pool\n",
        "import concurrent"
      ],
      "execution_count": 9,
      "outputs": []
    },
    {
      "cell_type": "code",
      "metadata": {
        "id": "JhTulAMYupwJ"
      },
      "source": [
        "def adresscreator(url,all_link):\n",
        "  adres_array=[]\n",
        "  txt=\"\"\n",
        "  s=1\n",
        "  for i in all_link:\n",
        "    \n",
        "    i=int(i)\n",
        "    for j in range(1,i,1):\n",
        "      txt=(\"{}{}{}{}\".format(url,s,\"&page=\",j))\n",
        "      adres_array.append(txt)\n",
        "      print(txt)\n",
        "    s+=1\n",
        "  return adres_array"
      ],
      "execution_count": 4,
      "outputs": []
    },
    {
      "cell_type": "code",
      "metadata": {
        "id": "aHcdYJrlus2Q"
      },
      "source": [
        "def all_links(linker):\n",
        "  array=[]\n",
        "  for i in range(1,8,1):\n",
        "    link=(\"{}{}\".format(linker,i))\n",
        "    #print(link)\n",
        "    count=pagecountfinder(link)\n",
        "    array.append(count)\n",
        "    #print(count)\n",
        "  return array"
      ],
      "execution_count": 5,
      "outputs": []
    },
    {
      "cell_type": "code",
      "metadata": {
        "id": "UDCMEkWNutYY"
      },
      "source": [
        "def pagecountfinder(baselink):\n",
        "  ar=[]\n",
        "  req = requests.get(baselink)\n",
        "  soup = BeautifulSoup(req.content, \"lxml\")\n",
        "  title=soup.find(\"ul\",attrs={\"class\":\"pagination\"}).findAll('a')\n",
        "  txt=\"\"\n",
        "  for i in title:\n",
        "    txt=i.getText()  \n",
        "    ar.append(txt) \n",
        "  return(ar[-2])"
      ],
      "execution_count": 6,
      "outputs": []
    },
    {
      "cell_type": "code",
      "metadata": {
        "id": "thHA1rrwuwKd"
      },
      "source": [
        "def page_count_print(url):\n",
        "  all_page_count=all_links(url)\n",
        "  print(all_page_count)"
      ],
      "execution_count": 7,
      "outputs": []
    },
    {
      "cell_type": "code",
      "metadata": {
        "id": "an7VMyX5uy6w"
      },
      "source": [
        "def mp_page_count_print(url):\n",
        "  mp_all_page_count=all_links(url)"
      ],
      "execution_count": 8,
      "outputs": []
    },
    {
      "cell_type": "code",
      "metadata": {
        "colab": {
          "base_uri": "https://localhost:8080/"
        },
        "id": "Wea9zCTlu2CA",
        "outputId": "093c6081-98b2-48b4-9988-c4500462ebf3"
      },
      "source": [
        "t1=time.time()\n",
        "url=\"https://duma.bg/?go=news&p=list&categoryId=\"\n",
        "all_page_count=all_links(url)\n",
        "print(time.time()-t1)"
      ],
      "execution_count": 10,
      "outputs": [
        {
          "output_type": "stream",
          "text": [
            "16.30927038192749\n"
          ],
          "name": "stdout"
        }
      ]
    },
    {
      "cell_type": "code",
      "metadata": {
        "colab": {
          "base_uri": "https://localhost:8080/"
        },
        "id": "rv2bixXMvvUN",
        "outputId": "87dd3e10-283b-4188-89df-f6154d87c48d"
      },
      "source": [
        "t2=time.time()\n",
        "with concurrent.futures.ProcessPoolExecutor() as executor:\n",
        "  results=[executor.submit(all_links,url)]\n",
        "  print(results)\n",
        "print(time.time()-t2)"
      ],
      "execution_count": 16,
      "outputs": [
        {
          "output_type": "stream",
          "text": [
            "[<Future at 0x7f9dbd892990 state=running>]\n",
            "16.43797016143799\n"
          ],
          "name": "stdout"
        }
      ]
    },
    {
      "cell_type": "code",
      "metadata": {
        "colab": {
          "base_uri": "https://localhost:8080/"
        },
        "id": "wmV9gfqNxH-c",
        "outputId": "24b4e4be-e404-47e3-c70d-89cd3a396eb0"
      },
      "source": [
        "for i in results:\n",
        "  print(i)"
      ],
      "execution_count": 13,
      "outputs": [
        {
          "output_type": "stream",
          "text": [
            "<Future at 0x7f9db97dd8d0 state=finished returned list>\n"
          ],
          "name": "stdout"
        }
      ]
    },
    {
      "cell_type": "code",
      "metadata": {
        "colab": {
          "base_uri": "https://localhost:8080/"
        },
        "id": "2ts_9wu5xecG",
        "outputId": "2d8bc3bf-b6b5-4ae7-a490-425c3298bf0c"
      },
      "source": [
        "print(results)"
      ],
      "execution_count": 15,
      "outputs": [
        {
          "output_type": "stream",
          "text": [
            "[<Future at 0x7f9db97dd8d0 state=finished returned list>]\n"
          ],
          "name": "stdout"
        }
      ]
    },
    {
      "cell_type": "code",
      "metadata": {
        "colab": {
          "base_uri": "https://localhost:8080/"
        },
        "id": "T40eT-GhxaNu",
        "outputId": "9deadecb-90e7-4f6b-fbeb-042d2ee09c80"
      },
      "source": [
        "for i in all_page_count:\n",
        "  print(i)"
      ],
      "execution_count": 14,
      "outputs": [
        {
          "output_type": "stream",
          "text": [
            "4889\n",
            "1770\n",
            "2380\n",
            "1034\n",
            "1321\n",
            "1077\n",
            "2384\n"
          ],
          "name": "stdout"
        }
      ]
    },
    {
      "cell_type": "code",
      "metadata": {
        "id": "RDJTeDaLzTBf"
      },
      "source": [
        "tt1=time.time()\n",
        "duma_bg=\"https://duma.bg/?go=news&p=list&categoryId=\"\n",
        "db_adres=adresscreator(duma_bg,all_page_count)\n",
        "print(time.time()-tt1)"
      ],
      "execution_count": null,
      "outputs": []
    },
    {
      "cell_type": "code",
      "metadata": {
        "id": "00AMRxbQyo5N"
      },
      "source": [
        "def pagelinkcreator(link):    \n",
        "  dblink=[]\n",
        "  req = requests.get(link)\n",
        "  soup = BeautifulSoup(req.content, \"lxml\")\n",
        "  title=soup.find_all(\"h2\",attrs={\"class\":\"cap\"})\n",
        "  title2=soup.find_all(\"h3\",attrs={\"class\":\"cap\"})  \n",
        "  k=\"\"\n",
        "  counter=0\n",
        "  for i in title:\n",
        "    b=i.a.get(\"href\")\n",
        "    k=b\n",
        "    if (k.startswith(\".\")):\n",
        "      pass\n",
        "    else:\n",
        "      d=\"{}{}\".format(\"https://duma.bg/\",k)\n",
        "      dblink.append(d) \n",
        "      ps=\"\"\n",
        "      ps=d\n",
        "      with open(\"mps1_duma_bg_links_output.txt\", 'a') as file:         \n",
        "        file.write(ps+'\\n')\n",
        "        file.truncate()      \n",
        "  for i in title2:  \n",
        "    c=i.a.get(\"href\")\n",
        "    #dblink.append(\"{}{}\".format(link,c))\n",
        "    d=\"{}{}\".format(\"https://duma.bg/\",c)\n",
        "    dblink.append(d)\n",
        "    ps=\"\"\n",
        "    ps=d\n",
        "    with open(\"mps1_duma_bg_links_output_1000.txt\", 'a') as file: \n",
        "      file.write(ps+'\\n')\n",
        "      file.truncate()     \n",
        "    counter+=1\n",
        "    if counter==10:\n",
        "      break\n",
        "  return dblink"
      ],
      "execution_count": 18,
      "outputs": []
    },
    {
      "cell_type": "code",
      "metadata": {
        "colab": {
          "base_uri": "https://localhost:8080/"
        },
        "id": "ug2q6DbjzBgG",
        "outputId": "6130ec79-3e82-443b-c818-5c9ec618f808"
      },
      "source": [
        "t3=time.time()\n",
        "dblinks=[]\n",
        "for i in db_adres[:10]: #her seferinde [] içerisindeki değeri değiştir.\n",
        "  dblinks.append(pagelinkcreator(i))\n",
        "\n",
        "print(time.time()-t3)"
      ],
      "execution_count": 26,
      "outputs": [
        {
          "output_type": "stream",
          "text": [
            "28.49196434020996\n"
          ],
          "name": "stdout"
        }
      ]
    },
    {
      "cell_type": "code",
      "metadata": {
        "colab": {
          "base_uri": "https://localhost:8080/"
        },
        "id": "qSpvT7yaztVH",
        "outputId": "45b4eae4-82f7-4f83-ec6c-d83f6ace931d"
      },
      "source": [
        "t4=time.time()\n",
        "z=[]\n",
        "with concurrent.futures.ProcessPoolExecutor() as execut:\n",
        "  a_res=[execut.submit(pagelinkcreator,i)for i in db_adres[:10]]\n",
        "  for f in concurrent.futures.as_completed(a_res):\n",
        "    z.append(f.result())\n",
        "    print(f.result())\n",
        "print(time.time()-t4)"
      ],
      "execution_count": 34,
      "outputs": [
        {
          "output_type": "stream",
          "text": [
            "['https://duma.bg/minekov-postavi-pod-vapros-badeshteto-na-sem-n239197', 'https://duma.bg/katsarov-zakriva-i-sliva-direktsii-v-mz-n239196', 'https://duma.bg/dots-kunchev-maskite-padat-na-malko-mesta-s-nisak-risk-n239187', 'https://duma.bg/za-parvi-pat-ot-godina-covid-kartata-na-balgariya-e-v-zeleno-n239186', 'https://duma.bg/koveshi-ne-sam-doshla-da-otsenyavam-balgarskata-prokuratura-n239185', 'https://duma.bg/iztrebitelyat-na-mayor-terziev-se-e-vzrivil-n239184', 'https://duma.bg/protest-posreshtna-koveshi-tya-se-vidya-s-yanaki-stoilov-i-geshev-n239182', 'https://duma.bg/yavor-bozhankov-koga-smyatat-da-vi-kazhat-istinata-i-dokoga-shte-pravyat-vsichki-ni-na-balatsi-n239181', 'https://duma.bg/ministar-panayotov-mayor-terziev-ne-e-otselyal-n239180', 'https://duma.bg/manol-genov-obvini-gerb-za-opasnoto-okolovrastno-na-plovdiv-n239177', 'https://duma.bg/koveshi-pristigna-v-balgariya-n239176', 'https://duma.bg/proveryavat-i-pirogov-za-iztochvane-na-nzok-n239175']\n",
            "['https://duma.bg/chumata-v-bolyarovo-dokazano-falshiva-n239174', 'https://duma.bg/vseki-vtori-bi-dal-signal-za-koruptsiya-v-sluzhbata-si-n239173', 'https://duma.bg/nameri-se-i-druga-firma-za-izbornite-mashini-n239172', 'https://duma.bg/knsb-predlaga-minimalnata-zaplata-da-se-uvelichi-sas-175-n239171', 'https://duma.bg/sadat-potvardi-chuma-po-kozite-v-strandzha-ne-e-imalo-n239129', 'https://duma.bg/otkrit-e-biologichen-material-kray-ostankite-ot-iztrebitelya-n239128', 'https://duma.bg/i-fond-„zemedelie“-e-s-nov-shef-n239127', 'https://duma.bg/prokuraturata-obyavi-protestite-za-ostavkata-na-geshev-kato-„aktsiya-na-podsadimo-litse“-n239126', 'https://duma.bg/radev-„tri-moreta“-nito-e-sayuz-nito-e-voenen-nito-e-sreshtu-rusiya-n239125', 'https://duma.bg/yanaki-stoilov-organizira-diskusiya-za-rayonnite-sadilishta-n239124', 'https://duma.bg/nad-15-000-balgari-sa-poluchili-otkaz-da-zhiveyat-i-rabotyat-vav-velikobritaniya-n239123', 'https://duma.bg/nekorekten-bil-prevodat-na-dumite-na-karadaya-za-rodinata-i-turtsiya-n239122']\n",
            "['https://duma.bg/bez-maski-i-na-zakrito-kadeto-vsichki-sa-imunizirani-n239121', 'https://duma.bg/nad-100-000-balgari-sa-preboleduvali-kovid-no-ne-mogat-da-poluchat-sertifikati-n239120', 'https://duma.bg/proveryavat-i-„pirogov“-za-falshivi-hospitalizatsii-n239119', 'https://duma.bg/prodalzhava-tarseneto-na-mayor-terziev-n239117', 'https://duma.bg/laura-koveshi-pristiga-v-balgariya-n239116', 'https://duma.bg/balgarski-mig-29-padna-v-moreto-kray-shabla-n239108', 'https://duma.bg/ek-nakazva-balgariya-zaradi-lipsvashti-merki-sreshtu-terorizma-n239107', 'https://duma.bg/zapochva-remont-na-padnalata-ograda-s-turtsiya-n239106', 'https://duma.bg/partiyata-na-bozhkov-iska-sadat-da-spre-cherniya-spisak-n239105', 'https://duma.bg/bsp-podkrepi-protestite-sreshtu-zakrivane-na-sadilishta-n239104', 'https://duma.bg/bsp-za-balgariya-otnovo-e-s-nomer-4-na-izborite-n239103', 'https://duma.bg/levitsata-otkriva-kampaniyata-ot-sofiya-n239102']\n",
            "['https://duma.bg/60-ot-balgarite-smyatat-che-sa-po-dobri-ot-drugite-etnosi-n239101', 'https://duma.bg/kmetitsata-na-krasno-selo-e-ulichena-v-konflikt-na-interesi-n239100', 'https://duma.bg/zdravniyat-ministar-poiska-uvolnenie-v-agentsiyata-po-vpisvaniyata-n239099', 'https://duma.bg/kantardzhiev-namekna-za-prokarvane-na-chastni-interesi-ot-katsarov-n239098', 'https://duma.bg/ministar-komitova-otkri-nezakonno-stroitelstvo-po-magistrala-hemus-n239069', 'https://duma.bg/zakrivaneto-na-rayonni-sadilishta-ostavya-480-000-balgari-bez-pravosadie-n239057', 'https://duma.bg/otkrita-e-spasitelnata-zhiletka-na-pilota-na-iztrebitelya-n239051', 'https://duma.bg/katsarov-vleze-v-konflikt-i-s-agentsiyata-po-vpisvaniyata-n239049', 'https://duma.bg/„alfa-risarch“-sanktsiite-na-sasht-otdrapnaha-izbirateli-ot-gerb-n239048', 'https://duma.bg/bsp-shte-otkrie-kampaniyata-si-na-12-yuni-n239045', 'https://duma.bg/„bsp-za-balgariya“-otnovo-s-nomer-4-na-izborite-n239044', 'https://duma.bg/voenniyat-ministar-ne-znaem-dali-pilotat-e-uspyal-da-katapultira-n239043']\n",
            "['https://duma.bg/prof-kantardzhiev-chuh-uzhasyavashti-planove-za-reorganizatsiya-na-tsentara-n239042', 'https://duma.bg/mig-29-padna-v-moreta-kray-shabla-izdirvat-pilota-n239041', 'https://duma.bg/prof-hristova-za-pensioniraneto-na-kantardzhiev-doyde-mi-kato-gram-ot-yasno-nebe-n239040', 'https://duma.bg/premierat-zapochna-pregovori-za-izbornite-mashini-n239031', 'https://duma.bg/skandalni-narusheniya-na-malkite-maturi-v-4-klas-n239035', 'https://duma.bg/prokuraturata-ne-iska-da-kazhe-kolko-ѝ-struva-sborishteto-v-boyana-n239034', 'https://duma.bg/protestni-palatki-sreshtu-geshev-izniknaha-pred-sadebnata-palata-n239033', 'https://duma.bg/radev-prizova-karadaya-da-preosmisli-ponyatieto-rodina-n239032', 'https://duma.bg/ivan-peshev-oglavi-predizborniya-shtab-na-bsp-v-sofiya-n239030', 'https://duma.bg/prof-minekov-dava-largoto-i-kvadrat-500-na-koveshi-n239029', 'https://duma.bg/srokat-na-godnost-na-50-000-vaksini-izticha-prez-yuli-n239028', 'https://duma.bg/otstraneniyat-shef-na-lozenets-obzhalva-uvolnenieto-si-n239027']\n",
            "['https://duma.bg/valna-ot-nedovolstvo-zaradi-pensioniraneto-na-kantardzhiev-n239026', 'https://duma.bg/bsp-shte-otbelezhi-130-ta-si-godishnina-na-buzludzha-na-3-yuli-n239005', 'https://duma.bg/stefan-yanev-se-sreshta-s-dostavchika-na-mashinite-za-glasuvane-n238990', 'https://duma.bg/nakazvat-direktori-i-kvestori-za-podmyana-na-diktovki-na-malkite-maturi-n238987', 'https://duma.bg/rumen-radev-nashiyat-region-tryabva-da-stane-privlekatelen-za-investitsii-n238986', 'https://duma.bg/kiril-petkov-nadyavam-se-initsiativata-tri-moreta-da-e-uspeshna-na-politichesko-i-na-ikonomichesko-nivo-n238985', 'https://duma.bg/d-r-nikolay-mihaylov-nyakoi-ot-ministrite-sa-zlogledi-a-tova-e-opasno-n238980', 'https://duma.bg/stela-baltova-v-ministerstvoto-na-turizma-nyama-kompanii-ot-spisaka-„magnitski”-n238979', 'https://duma.bg/bsp-–-sofiya-izbra-predizborniya-si-shtab-za-vota-na-11-yuli-n238978', 'https://duma.bg/rumen-radev-liderat-na-dps-sledva-da-preosmisli-ponyatieto-rodina-n238977', 'https://duma.bg/otstraneniyat-direktor-na-bolnitsa-„lozenets“-blokira-naznachenieto-na-novoto-rakovodstvo-n238976', 'https://duma.bg/45-mln-evro-„potanali“-v-remonta-na-largoto-n238975']\n",
            "['https://duma.bg/korneliya-ninova-prof-kantardzhiev-e-pochten-chovek-i-dokazan-spetsialist-n238930', 'https://duma.bg/api-eksperti-po-patna-bezopasnost-shte-inspektirat-patya-kray-mikre-n238926', 'https://duma.bg/stefan-yanev-koruptsiyata-e-epidemichna-n238924', 'https://duma.bg/tsik-prekrati-porachkata-za-dostavka-na-novi-1500-mashini-za-11-yuli-n238921', 'https://duma.bg/bsp-registrira-listite-si-v-tsyalata-strana-n238918', 'https://duma.bg/siela-norma-skoro-na-kakvato-i-da-e-tsena-shte-badem-v-nevazmozhnost-da-izpalnim-porachkata-za-mashini-n238912', 'https://duma.bg/sluzhbite-znaeli-ot-mesetsi-za-nezakonnite-transplantatsii-n238908', 'https://duma.bg/katsarov-uvolni-kantardzhiev-n238907', 'https://duma.bg/ninova-gergov-mi-postavi-dva-vaprosa-i-na-dvata-poluchi-otgovor-ne-n238905', 'https://duma.bg/radev-tryabva-da-ima-pravitelstvo-sled-izborite-n238904', 'https://duma.bg/premierat-unizitelno-e-da-ni-kazvat-za-koruptsiyata-otvan-n238903', 'https://duma.bg/zemedelskiyat-ministar-zavarih-lezherno-bezhaberie-n238902']\n",
            "['https://duma.bg/smenen-e-i-direktorat-na-„natsionalna-politsiya“-n238974', 'https://duma.bg/„ima-takav-narod“-shte-opitat-da-sastavyat-pravitelstvo-sled-izborite-n238973', 'https://duma.bg/tsik-shte-tarsi-i-dnes-reshenie-za-dopalnitelni-mashini-za-vota-n238972', 'https://duma.bg/karadaya-obyavi-turtsiya-za-svoya-rodina-n238966', 'https://duma.bg/pensioniraha-prof-kantardzhiev-n238965', 'https://duma.bg/mz-i-sluzhbite-znaeli-za-nezakonnite-transplantatsii-ot-mesetsi-n238964', 'https://duma.bg/metroto-kam-slatina-shte-se-zabavi-n238963', 'https://duma.bg/tsik-se-otkaza-da-kupuva-oshte-mashini-ot-siela-n238962', 'https://duma.bg/yanev-obyavi-antikoruptsionnite-organi-za-bezpolezni-n238961', 'https://duma.bg/nikolay-berievski-ostava-predsedatel-na-mo-v-bsp-n238960', 'https://duma.bg/slavi-trifonov-ne-iska-da-e-deputat-n238959', 'https://duma.bg/2400-chetvartoklasnitsi-s-po-dve-dvoyki-na-malkite-maturi-n238958']\n",
            "['https://duma.bg/karadaya-v-imenieto-na-erdogan-v-turtsiya-n238836', 'https://duma.bg/tsik-mozhe-da-se-napravyat-izbori-i-bez-dopalnitelni-mashini-n238835', 'https://duma.bg/asen-vasilev-sanktsioniranite-balgari-zaemat-25-ot-vsichki-sreshtu-koito-e-prilozhen-magnitski-n238826', 'https://duma.bg/gutsanov-bsp-varna-shte-sezira-evropeyskata-prokuratura-za-remonta-na-skasanata-traba-po-danoto-na-kanala-ezero-more-n238823', 'https://duma.bg/ministerstvo-na-transporta-otreche-da-e-narushavana-zabranata-za-belaruski-samoleti-n238822', 'https://duma.bg/rumen-spetsov-ne-se-pritesnyavam-ot-proverka-na-prokuraturata-n238820', 'https://duma.bg/nad-100-000-zeleni-tsifrovi-sertifikati-za-vaksinatsiya-sa-izdadeni-ot-1-yuni-n238819', 'https://duma.bg/hristo-prodanov-ne-mozhe-kradtsite-da-sa-po-ministerstvata-po-agentsiite-i-da-upravlyavat-darzhavata-te-tryabva-da-sa-v-zatvora-n238815', 'https://duma.bg/tsik-dava-65-mln-leva-za-novite-mashini-dostavchikat-iska-15-mln-n238814', 'https://duma.bg/georgi-panayotov-proverkite-vav-voennoto-ministerstvo-ne-sa-rovene-n238812', 'https://duma.bg/zadushavane-e-prichinata-za-smartta-na-8-godishnoto-dete-ot-kovachevtsi-n238811', 'https://duma.bg/nap-publikuva-spisak-na-64-firmi-svarzani-sas-sanktsioniranite-ot-sasht-litsa-n238810']\n",
            "['https://duma.bg/covid-19-pod-1-sa-polozhitelnite-probi-n238900', 'https://duma.bg/mirishe-na-sabotazh-n238898', 'https://duma.bg/iztsyalo-mashinniyat-vot-e-pred-proval-n238897', 'https://duma.bg/prokuraturata-pokazala-suvenirni-moneti-za-da-obyasni-arest-na-shef-v-mvr-n238896', 'https://duma.bg/stolichnata-obshtina-se-provali-i-v-priema-za-parvi-klas-n238895', 'https://duma.bg/slagat-zashtitni-pregradi-na-shoforite-v-avtobusite-za-po-2000-leva-n238894', 'https://duma.bg/nuzhdaem-se-ot-sotsialna-i-po-spravedliva-darzhava-n238893', 'https://duma.bg/darzhavata-rezhe-i-firmite-rabotili-s-peevski-i-bozhkov-n238892', 'https://duma.bg/sotsialisti-shte-tarsyat-v-arhivite-danni-za-plochata-na-studenta-antifashist-n238891', 'https://duma.bg/suveniri-vmesto-antiki-pokazala-prokuraturata-pri-aresta-na-politseyski-shef-n238854', 'https://duma.bg/bsp-i-abv-sas-zayavka-za-sotsialno-i-spravedlivo-upravlenie-n238838', 'https://duma.bg/ninova-bsp-se-bori-s-porochniya-model-pokazan-ot-sasht-veche-4-godini-n238837']\n",
            "15.030644655227661\n"
          ],
          "name": "stdout"
        }
      ]
    },
    {
      "cell_type": "code",
      "metadata": {
        "id": "sTfddgjG5B17"
      },
      "source": [
        "for i in z:\n",
        "  for j in i:\n",
        "    print(j)"
      ],
      "execution_count": null,
      "outputs": []
    },
    {
      "cell_type": "code",
      "metadata": {
        "colab": {
          "base_uri": "https://localhost:8080/"
        },
        "id": "XHtxKWXY0YZL",
        "outputId": "582bb166-988f-4645-a270-e0e62ffcffba"
      },
      "source": [
        "tt1=time.time()\n",
        "dblinks=[]\n",
        "for i in db_adres[:10]: #her seferinde [] içerisindeki değeri değiştir.\n",
        "  dblinks.append(pagelinkcreator(i))\n",
        "print(time.time()-tt1)"
      ],
      "execution_count": 28,
      "outputs": [
        {
          "output_type": "stream",
          "text": [
            "29.55393934249878\n"
          ],
          "name": "stdout"
        }
      ]
    },
    {
      "cell_type": "code",
      "metadata": {
        "id": "W6miBwyq4O10"
      },
      "source": [
        "def creator(link):\n",
        "  inner_array=[]\n",
        "  atxt=\"\"\n",
        "  inner_array.append(link)    \n",
        "  r = requests.get(link)   \n",
        "  soup = BeautifulSoup(r.content, 'html5lib')\n",
        "  dat=soup.find(\"p\",attrs={\"class\":\"date\"}).time.get(\"datetime\")\n",
        "  inner_array.append(dat)\n",
        "  title=soup.find(\"h1\",attrs={\"class\":\"cap\"}).getText()\n",
        "  inner_array.append(title)      \n",
        "  table = soup.findAll(\"div\", attrs = {\"class\":\"news_dtl_body\"})\n",
        "  for i in table:\n",
        "    ad=i.findAll(\"p\",attrs={\"class\":\"\"})\n",
        "    for i in ad:\n",
        "      txt=i.getText()\n",
        "      if(len(txt)>40):\n",
        "        atxt+=txt\n",
        "  inner_array.append(atxt) \n",
        "  ps=\"\"\n",
        "  with open(\"mp_put.txt\", 'a') as file: \n",
        "    #ps=\"{}{}{}{}{}{}{}\".format(pdd[0],\";\",pdd[1],\";\",pdd[2],\";\",pdd[3])\n",
        "    ps=\"{}{}{}{}{}{}{}\".format(inner_array[0],\";\",inner_array[1],\";\",inner_array[2],\";\",inner_array[3])\n",
        "    file.write(ps+'\\n')\n",
        "    # file.truncate()\n",
        "    # return inner_array"
      ],
      "execution_count": 39,
      "outputs": []
    },
    {
      "cell_type": "code",
      "metadata": {
        "colab": {
          "base_uri": "https://localhost:8080/"
        },
        "id": "9KoDbPSH5tJ6",
        "outputId": "18a2fed3-3279-4c00-c016-e3f99b0dd356"
      },
      "source": [
        "t6=time.time()\n",
        "for i in z:\n",
        "  for j in i:\n",
        "    creator(j)\n",
        "print(time.time()-t6)"
      ],
      "execution_count": 36,
      "outputs": [
        {
          "output_type": "stream",
          "text": [
            "232.81814217567444\n"
          ],
          "name": "stdout"
        }
      ]
    },
    {
      "cell_type": "code",
      "metadata": {
        "colab": {
          "base_uri": "https://localhost:8080/"
        },
        "id": "nUpm_9LB5-OE",
        "outputId": "05d9c9c1-d31b-4fe6-cbec-17b06b5118a4"
      },
      "source": [
        "t6=time.time()\n",
        "son_link=[]\n",
        "for i in z:\n",
        "  for j in i:\n",
        "    son_link.append(j)\n",
        "print(time.time()-t6)"
      ],
      "execution_count": 37,
      "outputs": [
        {
          "output_type": "stream",
          "text": [
            "0.0001838207244873047\n"
          ],
          "name": "stdout"
        }
      ]
    },
    {
      "cell_type": "code",
      "metadata": {
        "id": "K1LJlYDh7S6Z"
      },
      "source": [
        "for i in son_link:\n",
        "  print(i)"
      ],
      "execution_count": null,
      "outputs": []
    },
    {
      "cell_type": "code",
      "metadata": {
        "colab": {
          "base_uri": "https://localhost:8080/"
        },
        "id": "idaL7zFf7aas",
        "outputId": "001166fc-d178-4026-edff-24ac5352090f"
      },
      "source": [
        "t7=time.time()\n",
        "zz=[]\n",
        "with concurrent.futures.ProcessPoolExecutor() as execu:\n",
        "  b_res=[execu.submit(creator,i)for i in son_link]\n",
        "  for f in concurrent.futures.as_completed(b_res):\n",
        "    zz.append(f.result())\n",
        "    print(f.result())\n",
        "print(time.time()-t7)"
      ],
      "execution_count": 40,
      "outputs": [
        {
          "output_type": "stream",
          "text": [
            "None\n",
            "None\n",
            "None\n",
            "None\n",
            "None\n",
            "None\n",
            "None\n",
            "None\n",
            "None\n",
            "None\n",
            "None\n",
            "None\n",
            "None\n",
            "None\n",
            "None\n",
            "None\n",
            "None\n",
            "None\n",
            "None\n",
            "None\n",
            "None\n",
            "None\n",
            "None\n",
            "None\n",
            "None\n",
            "None\n",
            "None\n",
            "None\n",
            "None\n",
            "None\n",
            "None\n",
            "None\n",
            "None\n",
            "None\n",
            "None\n",
            "None\n",
            "None\n",
            "None\n",
            "None\n",
            "None\n",
            "None\n",
            "None\n",
            "None\n",
            "None\n",
            "None\n",
            "None\n",
            "None\n",
            "None\n",
            "None\n",
            "None\n",
            "None\n",
            "None\n",
            "None\n",
            "None\n",
            "None\n",
            "None\n",
            "None\n",
            "None\n",
            "None\n",
            "None\n",
            "None\n",
            "None\n",
            "None\n",
            "None\n",
            "None\n",
            "None\n",
            "None\n",
            "None\n",
            "None\n",
            "None\n",
            "None\n",
            "None\n",
            "None\n",
            "None\n",
            "None\n",
            "None\n",
            "None\n",
            "None\n",
            "None\n",
            "None\n",
            "None\n",
            "None\n",
            "None\n",
            "None\n",
            "None\n",
            "None\n",
            "None\n",
            "None\n",
            "None\n",
            "None\n",
            "None\n",
            "None\n",
            "None\n",
            "None\n",
            "None\n",
            "None\n",
            "None\n",
            "None\n",
            "None\n",
            "None\n",
            "None\n",
            "None\n",
            "None\n",
            "None\n",
            "None\n",
            "None\n",
            "None\n",
            "None\n",
            "None\n",
            "None\n",
            "None\n",
            "None\n",
            "None\n",
            "None\n",
            "None\n",
            "None\n",
            "None\n",
            "None\n",
            "None\n",
            "None\n",
            "121.06358742713928\n"
          ],
          "name": "stdout"
        }
      ]
    }
  ]
}