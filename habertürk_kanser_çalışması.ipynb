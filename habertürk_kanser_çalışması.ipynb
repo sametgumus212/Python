{
  "nbformat": 4,
  "nbformat_minor": 5,
  "metadata": {
    "kernelspec": {
      "display_name": "Python 3",
      "language": "python",
      "name": "python3"
    },
    "language_info": {
      "codemirror_mode": {
        "name": "ipython",
        "version": 3
      },
      "file_extension": ".py",
      "mimetype": "text/x-python",
      "name": "python",
      "nbconvert_exporter": "python",
      "pygments_lexer": "ipython3",
      "version": "3.8.8"
    },
    "colab": {
      "name": "habertürk_kanser_çalışması.ipynb",
      "provenance": [],
      "collapsed_sections": [],
      "include_colab_link": true
    }
  },
  "cells": [
    {
      "cell_type": "markdown",
      "metadata": {
        "id": "view-in-github",
        "colab_type": "text"
      },
      "source": [
        "<a href=\"https://colab.research.google.com/github/sametgumus212/Python/blob/master/habert%C3%BCrk_kanser_%C3%A7al%C4%B1%C5%9Fmas%C4%B1.ipynb\" target=\"_parent\"><img src=\"https://colab.research.google.com/assets/colab-badge.svg\" alt=\"Open In Colab\"/></a>"
      ]
    },
    {
      "cell_type": "code",
      "metadata": {
        "id": "6de85e54"
      },
      "source": [
        "from bs4 import BeautifulSoup\n",
        "import requests\n",
        "from selenium import webdriver\n",
        "from selenium.webdriver.common.keys import Keys\n",
        "import time\n",
        "import csv\n",
        "import pandas as pd\n",
        "import datetime\n",
        "from datetime import datetime, timedelta\n",
        "import numpy as np"
      ],
      "id": "6de85e54",
      "execution_count": 10,
      "outputs": []
    },
    {
      "cell_type": "code",
      "metadata": {
        "colab": {
          "base_uri": "https://localhost:8080/"
        },
        "id": "tqLcUJBzINNz",
        "outputId": "9a7e4905-1aa2-41cf-9652-2aa53de9ab04"
      },
      "source": [
        "pip install kora -q\n"
      ],
      "id": "tqLcUJBzINNz",
      "execution_count": 1,
      "outputs": [
        {
          "output_type": "stream",
          "text": [
            "\u001b[K     |████████████████████████████████| 57 kB 2.7 MB/s \n",
            "\u001b[K     |████████████████████████████████| 53 kB 1.9 MB/s \n",
            "\u001b[?25h"
          ],
          "name": "stdout"
        }
      ]
    },
    {
      "cell_type": "code",
      "metadata": {
        "id": "gCtSt4wNIRvh"
      },
      "source": [
        "from kora.selenium import wd\n",
        "# wd.get(uss)"
      ],
      "id": "gCtSt4wNIRvh",
      "execution_count": 2,
      "outputs": []
    },
    {
      "cell_type": "code",
      "metadata": {
        "id": "371e7054"
      },
      "source": [
        "def datecreator():\n",
        "    date_list=[]\n",
        "    txt=\"\"\n",
        "    newdate=\"\"\n",
        "    url_in=\"\"\n",
        "    url=\"https://www.hurriyet.com.tr/arama#/?page=\"    \n",
        "\n",
        "    for i in range(2): #1000 e kadar sayfa var kanser\n",
        "        url_in=\"{}{}{}\".format(url,i+1,\"&key=kanser&where=/&how=Article,NewsPhotoGallery,Column&isDetail=false\")\n",
        "        date_list.append(url_in)\n",
        "    for i in range(2): #75 e kadar sayfa var prostat kanseri\n",
        "        url_in=\"{}{}{}\".format(url,i+1,\"&key=prostat%20kanseri&where=/&how=Article,NewsPhotoGallery,Column&and=prostat%20kanseri&isDetail=false\")\n",
        "        date_list.append(url_in)\n",
        "    for i in range(2): #266 ya kadar sayfa var meme kanseri\n",
        "        url_in=\"{}{}{}\".format(url,i+1,\"&key=meme%20kanseri&where=/&how=Article,NewsPhotoGallery,Column&isDetail=false\")\n",
        "        date_list.append(url_in)\n",
        " \n",
        "    return date_list"
      ],
      "id": "371e7054",
      "execution_count": 3,
      "outputs": []
    },
    {
      "cell_type": "code",
      "metadata": {
        "id": "d0988801"
      },
      "source": [
        "# def write_to_txt(data):\n",
        "#     with open(\"hürriyetcontent.txt\", 'a') as file: \n",
        "#         file.write(data+'\\n')\n",
        "#         file.truncate()"
      ],
      "id": "d0988801",
      "execution_count": 4,
      "outputs": []
    },
    {
      "cell_type": "code",
      "metadata": {
        "id": "a7d68a23"
      },
      "source": [
        "def get_link(i):\n",
        "    sayfa =i\n",
        "    print(sayfa)\n",
        "    browser = wd\n",
        "    # driver_path = \"C:/Users/koray/Desktop/chromedriver.exe\"\n",
        "    # browser = webdriver.Chrome(driver_path)\n",
        "    browser.get(sayfa)\n",
        "    test = []\n",
        "    dizi = []\n",
        "    sayfa_kaynağı = browser.page_source\n",
        "    soup = BeautifulSoup(sayfa_kaynağı, \"html.parser\")\n",
        "    for a in soup.find_all('a', href=True):\n",
        "        test.append(a['href'])\n",
        "      \n",
        "    for i in test:\n",
        "        if not i in dizi:           #çekilen linklerde aynı olan verileri teke düşürüyor \n",
        "            result = i.startswith(('http://www.hurriyet.com.tr/egitim','http://www.hurriyet.com.tr/gundem','http://www.hurriyet.com.tr/yazarlar','http://www.hurriyet.com.tr/avrupa','http://www.hurriyet.com.tr/kelebek','http://www.hurriyet.com.tr/gundem','http://www.hurriyet.com.tr/yerel-haberler'), 0, 35) #standartlara uygun linkleri çekiyor \n",
        "            link = i\n",
        "            if result == True:\n",
        "                if len(link)>50:\n",
        "                    with open(\"hürriyet_link_kanser.txt\", 'a') as file: \n",
        "                        file.write(link+'\\n')\n",
        "                        dizi.append(link)\n",
        "               #print(\"**\")\n",
        "               #ilk sayfa 40 haber çekiyo\n",
        "    return dizi"
      ],
      "id": "a7d68a23",
      "execution_count": 25,
      "outputs": []
    },
    {
      "cell_type": "code",
      "metadata": {
        "id": "cfc45150"
      },
      "source": [
        "def get_data_from_url_D1(url):\n",
        "    r = requests.get(url)   \n",
        "    soup = BeautifulSoup(r.content, 'html5lib')\n",
        "    title = soup.find(\"h1\", attrs = {\"class\":\"title-news-detail\"}).getText()\n",
        "    content_array = soup.find(\"div\", attrs = {\"class\":\"rhd-all-article-detail\"}).getText()\n",
        "    date = soup.find(\"span\", attrs = {\"class\":\"rhd-time-box-text\"}).getText()\n",
        "    date = date.split()\n",
        "    date = date[2]\n",
        "    content_array = content_array.split()\n",
        "    content_string = \"\"\n",
        "    for w in content_array:\n",
        "        content_string = content_string+\" \"+w\n",
        "        #w_data = url+\";\"+date+\";\"+title+\";\"+content_string\n",
        "    w_data=\"{};{};{};{}\".format(url,date,title,content_string)\n",
        "    #print(w_data)\n",
        "    # write_to_txt(w_data)\n",
        "    with open(\"hürriyet_content_kanser.txt\", 'a') as file: \n",
        "        file.write(w_data+'\\n')"
      ],
      "id": "cfc45150",
      "execution_count": 8,
      "outputs": []
    },
    {
      "cell_type": "code",
      "metadata": {
        "id": "26da4348",
        "colab": {
          "base_uri": "https://localhost:8080/"
        },
        "outputId": "766a09cc-41f6-42ad-8aea-54b3afc206a2"
      },
      "source": [
        "date = datecreator()\n",
        "\n",
        "dizi = []\n",
        "count= 0 \n",
        "for i in date:\n",
        "    try:\n",
        "        dizi.append(get_link(i))\n",
        "       \n",
        "    except:\n",
        "        print('Format Dışı Link')\n",
        "for i in dizi:\n",
        "    print(i)\n",
        "    for j in i:\n",
        "        try:\n",
        "            get_data_from_url_D1(j)\n",
        "            count+=1\n",
        "        except:\n",
        "            print('Hatalı Link')"
      ],
      "id": "26da4348",
      "execution_count": 11,
      "outputs": [
        {
          "output_type": "stream",
          "text": [
            "Format Dışı Link\n",
            "Format Dışı Link\n",
            "Format Dışı Link\n",
            "Format Dışı Link\n",
            "Format Dışı Link\n",
            "Format Dışı Link\n"
          ],
          "name": "stdout"
        }
      ]
    },
    {
      "cell_type": "code",
      "metadata": {
        "id": "MgEfdVGNKyNe"
      },
      "source": [
        "canser_array=[]\n",
        "count=0\n",
        "for i in date:\n",
        "  if(count%2==0):\n",
        "    canser_array.append(i)\n",
        "  else:\n",
        "    pass\n",
        "  count+=1"
      ],
      "id": "MgEfdVGNKyNe",
      "execution_count": 16,
      "outputs": []
    },
    {
      "cell_type": "code",
      "metadata": {
        "colab": {
          "base_uri": "https://localhost:8080/"
        },
        "id": "fM9q5f1KMWWk",
        "outputId": "0d280bb3-4dd8-48a4-859e-6636f8f1d963"
      },
      "source": [
        "for i in canser_array:\n",
        "  print(i)"
      ],
      "id": "fM9q5f1KMWWk",
      "execution_count": 17,
      "outputs": [
        {
          "output_type": "stream",
          "text": [
            "https://www.hurriyet.com.tr/arama#/?page=1&key=kanser&where=/&how=Article,NewsPhotoGallery,Column&isDetail=false\n",
            "https://www.hurriyet.com.tr/arama#/?page=1&key=prostat%20kanseri&where=/&how=Article,NewsPhotoGallery,Column&and=prostat%20kanseri&isDetail=false\n",
            "https://www.hurriyet.com.tr/arama#/?page=1&key=meme%20kanseri&where=/&how=Article,NewsPhotoGallery,Column&isDetail=false\n"
          ],
          "name": "stdout"
        }
      ]
    },
    {
      "cell_type": "code",
      "metadata": {
        "colab": {
          "base_uri": "https://localhost:8080/"
        },
        "id": "2MNDT8iaKe6y",
        "outputId": "3e180401-8d55-45b3-eaac-6280d4c337fa"
      },
      "source": [
        "canser_links=get_link(canser_array[0])"
      ],
      "id": "2MNDT8iaKe6y",
      "execution_count": 26,
      "outputs": [
        {
          "output_type": "stream",
          "text": [
            "https://www.hurriyet.com.tr/arama#/?page=1&key=kanser&where=/&how=Article,NewsPhotoGallery,Column&isDetail=false\n"
          ],
          "name": "stdout"
        }
      ]
    }
  ]
}