{
  "nbformat": 4,
  "nbformat_minor": 0,
  "metadata": {
    "colab": {
      "name": "kanser_aramalar2.ipynb",
      "provenance": [],
      "collapsed_sections": [],
      "authorship_tag": "ABX9TyPgntnesZPKJFwzesCVV2wy",
      "include_colab_link": true
    },
    "kernelspec": {
      "name": "python3",
      "display_name": "Python 3"
    },
    "language_info": {
      "name": "python"
    }
  },
  "cells": [
    {
      "cell_type": "markdown",
      "metadata": {
        "id": "view-in-github",
        "colab_type": "text"
      },
      "source": [
        "<a href=\"https://colab.research.google.com/github/sametgumus212/Python/blob/master/kanser_aramalar2.ipynb\" target=\"_parent\"><img src=\"https://colab.research.google.com/assets/colab-badge.svg\" alt=\"Open In Colab\"/></a>"
      ]
    },
    {
      "cell_type": "code",
      "metadata": {
        "id": "jJb9fvd1-lVq"
      },
      "source": [
        "# urs=\"https://www.hurriyet.com.tr/arama/#/?page=1&key=**&where=hurriyet&how=Article&or=a%C4%9F%C4%B1r&year=2001&platform=hurriyet&mainCategory=/ekonomi/&isDetail=true\"\n",
        "\n",
        "# urr=\"https://www.hurriyet.com.tr/arama/#/?page=1&where=hurriyet&how=Article&startDate=01/01/2016&finishDate=01/02/2016&platform=hurriyet&mainCategory=/dunya/&isDetail=true\"\n"
      ],
      "execution_count": null,
      "outputs": []
    },
    {
      "cell_type": "code",
      "metadata": {
        "id": "CC2e4lTONO9S"
      },
      "source": [
        "# pip install --upgrade jupyter_http_over_ws>=0.0.7 && jupyter serverextension enable --py jupyter_http_over_ws"
      ],
      "execution_count": null,
      "outputs": []
    },
    {
      "cell_type": "code",
      "metadata": {
        "id": "WBKWR631Na1U"
      },
      "source": [
        "# jupyter notebook \\\n",
        "#   --NotebookApp.allow_origin='https://colab.research.google.com' \\\n",
        "#   --port=8888 \\\n",
        "#   --NotebookApp.port_retries=0"
      ],
      "execution_count": null,
      "outputs": []
    },
    {
      "cell_type": "code",
      "metadata": {
        "id": "OXuH7Ml9eFyg"
      },
      "source": [
        "# def date_creator(t1,t2):\n",
        "#   url1=\"https://www.hurriyet.com.tr/arama/#/?page=1&where=hurriyet&how=Article&startDate=\"\n",
        "#   url2=\"&finishDate=\"\n",
        "#   url3=\"&platform=hurriyet&mainCategory=/\"\n",
        "#   url4=\"/&isDetail=true\"\n",
        "#   t= timedelta(days = 1)\n",
        "#   link_categories=\"\"\n",
        "#   generate_url=\"\"\n",
        "#   dates=np.arange(t1, t2, t).astype(datetime)\n",
        "#   categories=['dunya','yerel-haberler','ekonomi','egitim','gundem']\n",
        "#   for i in categories:\n",
        "#     link_categories=\"{}{}{}\".format(url3,i,url4)\n",
        "#     for j in dates:\n",
        "#       newdate=j.strftime('%d-%m-%Y')\n",
        "#       generate_url=\"{}{}{}{}{}\".format(url1,newdate,url2,newdate,link_categories)\n",
        "#       print(generate_url)\n"
      ],
      "execution_count": null,
      "outputs": []
    },
    {
      "cell_type": "code",
      "metadata": {
        "id": "EaHvCg6ligEr"
      },
      "source": [
        "# time1=datetime(2010,1,1)\n",
        "# time2=datetime(2010,2,1)\n",
        "# date_creator(time1,time2)"
      ],
      "execution_count": null,
      "outputs": []
    },
    {
      "cell_type": "code",
      "metadata": {
        "id": "qd-ACzTtgdwW"
      },
      "source": [
        "# def datecreator(t1,t2):\n",
        "#   date_list=[]\n",
        "#   t = timedelta(days = 1)\n",
        "#   txt=\"\"\n",
        "#   newdate=\"\"\n",
        "#   url_in=\"\"\n",
        "#   # array_page_link=[]\n",
        "#   url=\"https://www.sabah.com.tr/timeline/\"\n",
        "#   dates = np.arange(t1, t2, t).astype(datetime)\n",
        "#   categories = [\"gundem\",\"ekonomi\",\"yasam\",\"dunya\",\"yerel-haberler\"]\n",
        "#   for i in categories:\n",
        "#     for j in dates:\n",
        "#       # print(i.strftime('%d-%m-%Y'))\n",
        "#       newdate=j.strftime('%Y/%m/%d')\n",
        "#       url_in=\"{}{}{}{}\".format(url,newdate,\"?c=\",i)\n",
        "#       #print(url_in)\n",
        "#       date_list.append(url_in)\n",
        "  \n",
        "#   return date_list"
      ],
      "execution_count": null,
      "outputs": []
    },
    {
      "cell_type": "code",
      "metadata": {
        "colab": {
          "base_uri": "https://localhost:8080/"
        },
        "id": "U-_ZUtXt5EZ5",
        "outputId": "3e4ab615-7efa-4046-f2fa-bd31229bf26f"
      },
      "source": [
        "!pip install selenium"
      ],
      "execution_count": null,
      "outputs": [
        {
          "output_type": "stream",
          "text": [
            "Collecting selenium\n",
            "  Downloading selenium-3.141.0-py2.py3-none-any.whl (904 kB)\n",
            "\u001b[K     |████████████████████████████████| 904 kB 775 kB/s \n",
            "\u001b[?25hRequirement already satisfied: urllib3 in /usr/lib/python3/dist-packages (from selenium) (1.25.8)\n",
            "Installing collected packages: selenium\n",
            "Successfully installed selenium-3.141.0\n"
          ],
          "name": "stdout"
        }
      ]
    },
    {
      "cell_type": "code",
      "metadata": {
        "id": "0jaZpPSU5LdM"
      },
      "source": [
        ""
      ],
      "execution_count": null,
      "outputs": []
    },
    {
      "cell_type": "code",
      "metadata": {
        "id": "8n04EU6D-uSC"
      },
      "source": [
        "import bs4\n",
        "import requests\n",
        "import selenium\n",
        "from bs4 import BeautifulSoup, BeautifulStoneSoup,builder_registry,builder\n",
        "import pandas as pd\n",
        "import numpy as np\n",
        "import os\n",
        "import urllib.request\n",
        "import re\n",
        "from pandas import DataFrame\n",
        "import csv\n",
        "import lxml\n",
        "import html5lib\n",
        "from urllib.request import urlopen\n",
        "from urllib.parse import urlparse\n",
        "from bs4 import BeautifulSoup\n",
        "import re\n",
        "import datetime\n",
        "import random\n",
        "import time\n",
        "import multiprocessing\n",
        "import threading\n",
        "from multiprocessing import pool\n",
        "import concurrent\n",
        "import datetime\n",
        "from datetime import datetime, timedelta\n",
        "from lxml import etree"
      ],
      "execution_count": 1,
      "outputs": []
    },
    {
      "cell_type": "code",
      "metadata": {
        "id": "5Ev6wlUmAek9"
      },
      "source": [
        "# def page_count_finder(url):\n",
        "#   req = requests.get(url)\n",
        "#   soup = BeautifulSoup(req.content, \"lxml\")\n",
        "#   spans=soup.find('p',class_=\"hs-cfr-text\").find_all(\"span\")\n",
        "#   # print(spans)\n",
        "#   for i in spans:\n",
        "#     print(i)\n",
        "#     print(\"---\")\n",
        "#     print(i.getText())\n",
        "#   # print(spans.text)\n",
        "#   # sp=etree.HTML(\"\"\"html/body/div[3]/div[1]/div[1]/div/div[1]/div/div[1]/div/div/div[1]/p/span[1] \"\"\")\n",
        "#   # print(soup.xpath(\" adsfa \"))\n",
        "#   # for i in spans:\n",
        "#   #   # print(i.string)\n",
        "#   #   print(i.text)\n",
        "#   # titlem=soup.find(\"ul\",attrs={\"class\":\"pagination\"})\n",
        "#   # titlem2=soup.find_all(\"li\",attrs={\"class\":\"desktop-pagination false \"})\n",
        "#   # print(titlem)\n",
        "#   # print(titlem.getText())\n",
        "#   # s=0\n",
        "#   # print(titlem2)\n",
        "#   # for i in titlem2:\n",
        "#   #   h=i\n",
        "#   #   s+=1\n",
        "#   #   print(s)\n",
        "#   #   print(h)\n",
        "\n",
        "\n",
        "# # /html/body/div[3]/div[1]/div[1]/div/div[1]/div/div[1]/div/div/div[1]/p/span[1]\n",
        "\n",
        "\n",
        "# # span = etree.HTML(\"\"\"<span class=\"MarketInfo_market-num_1lAXs\"> 11,511.31 USD </span>\"\"\")\n",
        "\n",
        "# # for i in span.xpath(\"//span/text()\"):\n",
        "# #     print(i)\n",
        "#   # print(titlem)\n",
        "#   # date=titlem\n",
        "#   # print(date.p.text)\n",
        "#   # # for i in date:\n",
        "#   # #   print(i)\n",
        "#   # # print(titlem)\n",
        "#   # # print(\"----\")\n",
        "#   # # print(titlem.p.text)\n",
        "#   # # print(\"----\")\n",
        "#   # # print(titlem.getText())\n",
        "#   # print(\"----\")\n",
        "#   # print(titlem.span.text)\n"
      ],
      "execution_count": null,
      "outputs": []
    },
    {
      "cell_type": "code",
      "metadata": {
        "id": "pTQELT1fBDLt"
      },
      "source": [
        "# urs=\"https://www.hurriyet.com.tr/arama/#/?page=1&where=hurriyet&how=Article&startDate=01/01/2001&finishDate=01/01/2001&platform=hurriyet&mainCategory=/dunya/&isDetail=true\"\n",
        "# urr=\"https://www.hurriyet.com.tr/arama/#/?page=1&where=hurriyet&how=Article&lastPage=lastPage&startDate=07-01-2018&finishDate=08-08-2018&platform=hurriyet&mainCategory=/egitim/&isDetail=true\"\n",
        "# page_count_finder(urr)"
      ],
      "execution_count": null,
      "outputs": []
    },
    {
      "cell_type": "code",
      "metadata": {
        "id": "M2NvrZjkfnJj"
      },
      "source": [
        "# usr=\"https://www.hurriyet.com.tr/arama/#/?page=1&key=prostat%20kanseri&where=/&how=Article,Column,NewsPhotoGallery,NewsVideo,Recipe&platform=/&isDetail=false\""
      ],
      "execution_count": null,
      "outputs": []
    },
    {
      "cell_type": "code",
      "metadata": {
        "id": "rekBSDpDgKsb"
      },
      "source": [
        "# def page_link_finder(url):\n",
        "#   req = requests.get(url)\n",
        "#   soup = BeautifulSoup(req.text, \"lxml\")\n",
        "#   # title_link=soup.find_all(\"a\")\n",
        "#   # title_link=soup.find_all(\"a\",attrs={\"class\":\"col-lg-12 col-md-12 col-sm-6 col-xs-12 hs-new-article\"})\n",
        "#   title_link=soup.find_all(\"div\",{\"class\":\"hs-cn-new asd\"})#.find_all(\"a\")\n",
        "\n",
        "  \n",
        "#   # print(\"www\")\n",
        "#   for i in title_link:\n",
        "#     print(i.a.get(\"href\"))\n",
        "#     print(\"----\")\n",
        "#     print(i.get(\"href\"))\n"
      ],
      "execution_count": null,
      "outputs": []
    },
    {
      "cell_type": "code",
      "metadata": {
        "id": "aWMoidKcg1oF"
      },
      "source": [
        "# page_link_finder(usr)"
      ],
      "execution_count": null,
      "outputs": []
    },
    {
      "cell_type": "markdown",
      "metadata": {
        "id": "bT5kG8eX6v1A"
      },
      "source": [
        ""
      ]
    },
    {
      "cell_type": "code",
      "metadata": {
        "id": "5e3zA8eF6wjf"
      },
      "source": [
        "# uur=\"https://cse.google.com/cse?cx=partner-pub-1493698973773726:8382205131&q=prostat%20kanseri&oq=prostat%20kanseri&gs_l=partner-generic.3..0l9.45968.50934.2.52388.9.9.0.0.0.0.252.1249.0j8j1.9.0.csems%2Cnrl%3D13...0.4905j6241611j10j6...1.34.partner-generic..0.24.3140.E1XtcGiee6U\""
      ],
      "execution_count": null,
      "outputs": []
    },
    {
      "cell_type": "code",
      "metadata": {
        "id": "KG9a9wvn61We"
      },
      "source": [
        "# def page_link_finder2(url):\n",
        "#   req = requests.get(url)\n",
        "#   soup = BeautifulSoup(req.text, \"lxml\")\n",
        "#   # title_link=soup.find_all(\"a\")\n",
        "#   # title_link=soup.find_all(\"a\",attrs={\"class\":\"col-lg-12 col-md-12 col-sm-6 col-xs-12 hs-new-article\"})\n",
        "#   title_link=soup.find_all(\"div\",{\"class\":\"gs-title\"})\n",
        "\n",
        "  \n",
        "#   print(\"www\")\n",
        "#   for i in title_link:\n",
        "#     print(i)\n",
        "#     print(\"----\")\n",
        "#     print(i.a.get(\"href\"))"
      ],
      "execution_count": null,
      "outputs": []
    },
    {
      "cell_type": "code",
      "metadata": {
        "id": "fY4THy-F7G2n"
      },
      "source": [
        "# page_link_finder2(uur)"
      ],
      "execution_count": null,
      "outputs": []
    },
    {
      "cell_type": "code",
      "metadata": {
        "id": "sbRrRY4jFKlc"
      },
      "source": [
        ""
      ],
      "execution_count": null,
      "outputs": []
    },
    {
      "cell_type": "markdown",
      "metadata": {
        "id": "jPcXs-nklpma"
      },
      "source": [
        "BİRGÜN   kanser , meme kanseri , prostat kanseri"
      ]
    },
    {
      "cell_type": "code",
      "metadata": {
        "id": "XMs-lKJXFKhi"
      },
      "source": [
        "burl=\"https://www.birgun.net/ara?q=prostat+kanseri&c=&a=&fd=&td=&et=False&p=\"   #122    m_kans=5   prost_kans=4 "
      ],
      "execution_count": null,
      "outputs": []
    },
    {
      "cell_type": "code",
      "metadata": {
        "id": "7pIO4MKUFObu"
      },
      "source": [
        "def page_link_finder_birgun(url):\n",
        "  req = requests.get(url)\n",
        "  soup = BeautifulSoup(req.text, \"lxml\")\n",
        "  # title_link=soup.find_all(\"a\")\n",
        "  # title_link=soup.find_all(\"a\",attrs={\"class\":\"col-lg-12 col-md-12 col-sm-6 col-xs-12 hs-new-article\"})\n",
        "  title_link=soup.find_all(\"div\",{\"class\":\"news-card\"})\n",
        "  for i in title_link:\n",
        "    # print(i)\n",
        "    # print(\"----\")\n",
        "    h=(i.a.get(\"href\"))   \n",
        "    lnk=\"{}{}\".format(\"https://www.birgun.net\",h)    \n",
        "    if (lnk.startswith(\"https://www.birgun.net/ara\")):    \n",
        "      pass\n",
        "    else:\n",
        "      with open(\"birgun_link_prostat_kanseri\",\"a\",newline='') as f:\n",
        "        f.write(lnk+'\\n')\n",
        "      # print(lnk)"
      ],
      "execution_count": null,
      "outputs": []
    },
    {
      "cell_type": "code",
      "metadata": {
        "id": "WDxRWksZFKAF"
      },
      "source": [
        "for i in range(4):\n",
        "  nburl=burl+str(i)\n",
        "  # print(nburl)\n",
        "  page_link_finder_birgun(nburl)"
      ],
      "execution_count": null,
      "outputs": []
    },
    {
      "cell_type": "code",
      "metadata": {
        "id": "2K6ke2fxKpBg"
      },
      "source": [
        "birgun_links=[]\n",
        "with open('birgun_link_kanser','r',newline='') as fr:\n",
        "  for i in fr.readlines()\n",
        "    birgun_links.append(i)"
      ],
      "execution_count": null,
      "outputs": []
    },
    {
      "cell_type": "code",
      "metadata": {
        "id": "C21Y6Hp0Rqii"
      },
      "source": [
        "for i in birgun_links:\n",
        "  creator(i.strip())"
      ],
      "execution_count": null,
      "outputs": []
    },
    {
      "cell_type": "code",
      "metadata": {
        "id": "Vveqn6EfRg-n"
      },
      "source": [
        "def creator(url):\n",
        "  arr=[]\n",
        "  arr.append(url)\n",
        "  req = requests.get(url)\n",
        "  soup = BeautifulSoup(req.text, \"lxml\")\n",
        "  # title_link=soup.find_all(\"a\")\n",
        "  # title_link=soup.find_all(\"a\",attrs={\"class\":\"col-lg-12 col-md-12 col-sm-6 col-xs-12 hs-new-article\"})\n",
        "  title=soup.find(\"h1\",{\"class\":\"detail__title\"})\n",
        "  # print(title.getText())\n",
        "  try:\n",
        "    date=soup.find(\"div\",{\"class\":\"category-line\"}).getText()\n",
        "    news_cat=date[:-18]\n",
        "    l=len(date[:-18])\n",
        "    dat=date[l:-7]\n",
        "    arr.append(dat.strip())\n",
        "    arr.append(news_cat.strip())\n",
        "    arr.append(title.getText().strip())\n",
        "  except:\n",
        "    pass\n",
        "  \n",
        "  txt=\"\"\n",
        "  try:\n",
        "    text=soup.find(\"div\",{\"class\":\"detail\"}).find_all('p')\n",
        "    for i in text[:-4]:\n",
        "      txt+=i.getText().strip()\n",
        "  except:\n",
        "    pass\n",
        "  # print(txt)\n",
        "  arr.append(txt.strip())\n",
        "  if(len(arr[1])>=2):\n",
        "    last=\"{};{};{};{};{}\".format(arr[0],arr[1],arr[2],arr[3],arr[4])\n",
        "    with open(\"birgun_contain_kanser.txt\",\"a\",newline='') as f:    \n",
        "      f.write(last+'\\n')\n",
        "\n",
        "  else:\n",
        "    pass\n",
        "\n"
      ],
      "execution_count": null,
      "outputs": []
    },
    {
      "cell_type": "code",
      "metadata": {
        "id": "W3GFjUcHSeDD"
      },
      "source": [
        "import os\n",
        "import csv\n",
        "import io\n",
        "from pprint import pprint\n",
        "birgun_prostat_links=[]\n",
        "with open(\"birgun_link_prostat_kanseri\",'r',newline='') as f:\n",
        "  for i in f.readlines():    \n",
        "  # reader=csv.reader(f)\n",
        "    birgun_prostat_links.append(i)"
      ],
      "execution_count": null,
      "outputs": []
    },
    {
      "cell_type": "code",
      "metadata": {
        "colab": {
          "base_uri": "https://localhost:8080/"
        },
        "id": "aXosSrVheevl",
        "outputId": "d9406609-9928-4828-b8ae-86563cfa5f6a"
      },
      "source": [
        "t1=time.time()\n",
        "with concurrent.futures.ProcessPoolExecutor() as execut:\n",
        "  b_res=[execut.submit(creator,i.strip()) for i in birgun_prostat_links]\n",
        "\n",
        "print(time.time()-t1)"
      ],
      "execution_count": null,
      "outputs": [
        {
          "output_type": "stream",
          "text": [
            "2.7672698497772217\n"
          ],
          "name": "stdout"
        }
      ]
    },
    {
      "cell_type": "code",
      "metadata": {
        "id": "sBYO9se_fgqd"
      },
      "source": [
        "birgun_memekanseri_links=[]\n",
        "with open(\"birgun_link_meme_kanseri\",'r',newline='') as f:\n",
        "  for i in f.readlines():    \n",
        "  # reader=csv.reader(f)\n",
        "    birgun_memekanseri_links.append(i)"
      ],
      "execution_count": null,
      "outputs": []
    },
    {
      "cell_type": "code",
      "metadata": {
        "colab": {
          "base_uri": "https://localhost:8080/"
        },
        "id": "dB1xuJSRfght",
        "outputId": "eff2c3b4-298f-4f18-fa61-17b55d475dac"
      },
      "source": [
        "t1=time.time()\n",
        "with concurrent.futures.ProcessPoolExecutor() as execut:\n",
        "  b_res=[execut.submit(creator,i.strip()) for i in birgun_memekanseri_links]\n",
        "\n",
        "print(time.time()-t1)"
      ],
      "execution_count": null,
      "outputs": [
        {
          "output_type": "stream",
          "text": [
            "3.632079601287842\n"
          ],
          "name": "stdout"
        }
      ]
    },
    {
      "cell_type": "code",
      "metadata": {
        "id": "TVy6QQp-fgRJ"
      },
      "source": [
        "birgun_kanser_links=[]\n",
        "with open(\"birgun_link_kanser\",'r',newline='') as f:\n",
        "  for i in f.readlines():    \n",
        "  # reader=csv.reader(f)\n",
        "    birgun_kanser_links.append(i)"
      ],
      "execution_count": null,
      "outputs": []
    },
    {
      "cell_type": "code",
      "metadata": {
        "colab": {
          "base_uri": "https://localhost:8080/"
        },
        "id": "by72kCEXfgGV",
        "outputId": "d13d6629-97b2-4c3c-d960-666a5eb2c219"
      },
      "source": [
        "t1=time.time()\n",
        "with concurrent.futures.ProcessPoolExecutor() as execut:\n",
        "  b_res=[execut.submit(creator,i.strip()) for i in birgun_kanser_links]\n",
        "\n",
        "print(time.time()-t1)"
      ],
      "execution_count": null,
      "outputs": [
        {
          "output_type": "stream",
          "text": [
            "79.47322463989258\n"
          ],
          "name": "stdout"
        }
      ]
    },
    {
      "cell_type": "markdown",
      "metadata": {
        "id": "qmnw-5pjl1Eo"
      },
      "source": [
        "\n",
        "\n",
        "```\n",
        "# This is formatted as code\n",
        "```\n",
        "\n",
        "HÜRRİYET  - koray"
      ]
    },
    {
      "cell_type": "code",
      "metadata": {
        "id": "31bOnp2CmpfD"
      },
      "source": [
        ""
      ],
      "execution_count": null,
      "outputs": []
    },
    {
      "cell_type": "markdown",
      "metadata": {
        "id": "PFp_YJRZl4zf"
      },
      "source": [
        "POSTA"
      ]
    },
    {
      "cell_type": "code",
      "metadata": {
        "id": "d-SGeP5JmqCa"
      },
      "source": [
        ""
      ],
      "execution_count": null,
      "outputs": []
    },
    {
      "cell_type": "markdown",
      "metadata": {
        "id": "fq2nSoY9l81C"
      },
      "source": [
        "AKİT - KORAY"
      ]
    },
    {
      "cell_type": "code",
      "metadata": {
        "id": "eqXkeJbNmqgf"
      },
      "source": [
        ""
      ],
      "execution_count": null,
      "outputs": []
    },
    {
      "cell_type": "markdown",
      "metadata": {
        "id": "uU3XQ-JWl-D-"
      },
      "source": [
        "KARAR"
      ]
    },
    {
      "cell_type": "code",
      "metadata": {
        "id": "ITusuvNr9pAS"
      },
      "source": [
        "def link_creator():\n",
        "  keys = [\"kanser\",\"prostat kanseri\",\"meme kanseri\"]\n",
        "  kanser_links = []\n",
        "  prostat_links = []\n",
        "  memekanseri_links=[]\n",
        "  kan_link =\"https://www.karar.com/ara?key=kanser&page=\"\n",
        "  pros_link = \"https://www.karar.com/ara?key=prostat+kanseri\"\n",
        "  mem_link = \"https://www.karar.com/ara?key=meme+kanseri&page=\"\n",
        "\n",
        "  for i in range(1,20,1):\n",
        "    kanser_links.append(\"{}{}\".format(kan_link,i))\n",
        "\n",
        "  for i in range(1,3,1):\n",
        "    memekanseri_links.append(\"{}{}\".format(mem_link,i))\n",
        "  \n",
        "  prostat_links.append(pros_link)\n",
        "  return kanser_links,memekanseri_links,prostat_links\n",
        "  "
      ],
      "execution_count": 26,
      "outputs": []
    },
    {
      "cell_type": "code",
      "metadata": {
        "colab": {
          "base_uri": "https://localhost:8080/"
        },
        "id": "GlbqImK29o9L",
        "outputId": "472764f4-a267-4c47-aaa0-c6ed6b900781"
      },
      "source": [
        "page_kanser_links,page_memekanseri_links,page_prostat_links = link_creator()\n",
        "print(page_kanser_links)\n",
        "print(page_memekanseri_links)\n",
        "print(page_prostat_links)"
      ],
      "execution_count": 29,
      "outputs": [
        {
          "output_type": "stream",
          "text": [
            "['https://www.karar.com/ara?key=kanser&page=1', 'https://www.karar.com/ara?key=kanser&page=2', 'https://www.karar.com/ara?key=kanser&page=3', 'https://www.karar.com/ara?key=kanser&page=4', 'https://www.karar.com/ara?key=kanser&page=5', 'https://www.karar.com/ara?key=kanser&page=6', 'https://www.karar.com/ara?key=kanser&page=7', 'https://www.karar.com/ara?key=kanser&page=8', 'https://www.karar.com/ara?key=kanser&page=9', 'https://www.karar.com/ara?key=kanser&page=10', 'https://www.karar.com/ara?key=kanser&page=11', 'https://www.karar.com/ara?key=kanser&page=12', 'https://www.karar.com/ara?key=kanser&page=13', 'https://www.karar.com/ara?key=kanser&page=14', 'https://www.karar.com/ara?key=kanser&page=15', 'https://www.karar.com/ara?key=kanser&page=16', 'https://www.karar.com/ara?key=kanser&page=17', 'https://www.karar.com/ara?key=kanser&page=18', 'https://www.karar.com/ara?key=kanser&page=19']\n",
            "['https://www.karar.com/ara?key=meme+kanseri&page=1', 'https://www.karar.com/ara?key=meme+kanseri&page=2']\n",
            "['https://www.karar.com/ara?key=prostat+kanseri']\n"
          ],
          "name": "stdout"
        }
      ]
    },
    {
      "cell_type": "code",
      "metadata": {
        "id": "cKYliVQU9o6B"
      },
      "source": [
        "news_links = []"
      ],
      "execution_count": 32,
      "outputs": []
    },
    {
      "cell_type": "code",
      "metadata": {
        "id": "9xmRouF69o2a"
      },
      "source": [
        "def create_news_link(link):\n",
        "  r = requests.get(link)   \n",
        "  soup = BeautifulSoup(r.content, 'html5lib')\n",
        "  links = soup.find(\"div\", class_=\"search-result\").find_all(\"div\",class_=\"item\")\n",
        "  for l in links:\n",
        "    tmp = \"{}{}\".format(\"https://www.karar.com\",l.a.get(\"href\"))\n",
        "    news_links.append(tmp)"
      ],
      "execution_count": 33,
      "outputs": []
    },
    {
      "cell_type": "code",
      "metadata": {
        "id": "WVjcEOw89znH"
      },
      "source": [
        "def write_to_txt(data):\n",
        "  with open(\"karar.txt\", 'a') as file: \n",
        "    file.write(data+'\\n')\n",
        "    # file.truncate()"
      ],
      "execution_count": 34,
      "outputs": []
    },
    {
      "cell_type": "code",
      "metadata": {
        "id": "DGh6MvAb9zeX"
      },
      "source": [
        "for lnk in :\n",
        "  create_news_link(lnk)"
      ],
      "execution_count": null,
      "outputs": []
    },
    {
      "cell_type": "code",
      "metadata": {
        "id": "e8GayZyk-GNw"
      },
      "source": [
        "t1=time.time()\n",
        "with concurrent.futures.ProcessPoolExecutor() as execut:\n",
        "  b_res=[execut.submit(create_news_link,i.strip()) for i in links]\n",
        "\n",
        "print(time.time()-t1)"
      ],
      "execution_count": null,
      "outputs": []
    },
    {
      "cell_type": "code",
      "metadata": {
        "id": "VHzMtYEw9zbi"
      },
      "source": [
        "def get_data_from_url(url):\n",
        "  r = requests.get(url)\n",
        "  soup = BeautifulSoup(r.content, 'html5lib')\n",
        "  try:\n",
        "    title = soup.find(\"h1\").getText()\n",
        "    content_array = soup.find(\"article\", class_=\"article-content\").getText().split()\n",
        "    date = content_array[0]\n",
        "    content_array.pop(0)\n",
        "    content_array.pop(0)\n",
        "    content = \"\"\n",
        "    for sen in content_array:\n",
        "      content = content+\" \"+sen\n",
        "    data = \"{};{};{};{}\".format(url,date,title,content)\n",
        "    write_to_txt(data)\n",
        "\n",
        "  except:\n",
        "    pass"
      ],
      "execution_count": null,
      "outputs": []
    },
    {
      "cell_type": "code",
      "metadata": {
        "id": "47GpLWYV9zYW"
      },
      "source": [
        "for l1 in news_links:\n",
        "  get_data_from_url(l1)"
      ],
      "execution_count": null,
      "outputs": []
    },
    {
      "cell_type": "code",
      "metadata": {
        "id": "O9KoCaYX9zVG"
      },
      "source": [
        "t2=time.time()\n",
        "with concurrent.futures.ProcessPoolExecutor() as execut:\n",
        "  b_res=[execut.submit(get_data_from_url,i.strip()) for i in news_links]\n",
        "\n",
        "print(time.time()-t2)"
      ],
      "execution_count": null,
      "outputs": []
    },
    {
      "cell_type": "code",
      "metadata": {
        "id": "xVI49qTh9omy"
      },
      "source": [
        ""
      ],
      "execution_count": null,
      "outputs": []
    },
    {
      "cell_type": "markdown",
      "metadata": {
        "id": "kHcGrT8Xl_TS"
      },
      "source": [
        "SABAH  - koray"
      ]
    },
    {
      "cell_type": "code",
      "metadata": {
        "id": "ztSDohoaY_Nq"
      },
      "source": [
        "def datecreator():\n",
        "  date_list=[]\n",
        "  txt=\"\"\n",
        "  newdate=\"\"\n",
        "  url_in=\"\"\n",
        "  url1=\"https://www.sabah.com.tr/get/arama?query=kanser&page=\"\n",
        "  url2=\"https://www.sabah.com.tr/get/arama?query=prostat%20kanseri&page=\"\n",
        "  url3=\"https://www.sabah.com.tr/get/arama?query=meme%20kanseri&page=\"\n",
        " \n",
        " \n",
        "  for i in range(3050): #3050 sayfa var\n",
        "      url_in=\"{}{}\".format(url1,i+1)\n",
        "      date_list.append(url_in)\n",
        "  # for i in range(2210): #2210 sayfa var\n",
        "  #     url_in=\"{}{}\".format(url2,i+1)\n",
        "  #     date_list.append(url_in)\n",
        "  # for i in range(2450): #2450 sayfa var\n",
        "  #     url_in=\"{}{}\".format(url3,i+1)\n",
        "  #     date_list.append(url_in)\n",
        "\n",
        "\n",
        "  return date_list"
      ],
      "execution_count": null,
      "outputs": []
    },
    {
      "cell_type": "code",
      "metadata": {
        "id": "cHrrcJtAZCg1"
      },
      "source": [
        "def get_link(link):\n",
        "  r = requests.get(link)   \n",
        "  soup = BeautifulSoup(r.content, 'html5lib')\n",
        "  url = 'https://www.sabah.com.tr'\n",
        "  dizi = []\n",
        "  counter=0\n",
        "  for a in soup.find_all('a', href=True):\n",
        "    a = a['href']\n",
        "    result = a.startswith('/')\n",
        "    if result == True:\n",
        "      url_in=\"{}{}\".format(url,a)\n",
        "      dizi.append(url_in)\n",
        "      if(counter%2==0):\n",
        "        with open(\"sabah_link_kanser.txt\", 'a') as file: \n",
        "            file.write(url_in+'\\n')\n",
        "      counter+=1\n",
        "  return dizi    "
      ],
      "execution_count": null,
      "outputs": []
    },
    {
      "cell_type": "code",
      "metadata": {
        "id": "_tnNid_AZE_c"
      },
      "source": [
        "def write_to_txt(data):\n",
        "  with open(\"sabah_kanser.txt\", 'a') as file: \n",
        "    file.write(data+'\\n')\n",
        "    file.truncate()"
      ],
      "execution_count": null,
      "outputs": []
    },
    {
      "cell_type": "code",
      "metadata": {
        "id": "trIg5ocdbaFm"
      },
      "source": [
        "def find_categories(url):\n",
        "  head=url[25:]\n",
        "  if(head.startswith(\"yasam\")):\n",
        "    return \"yasam\"\n",
        "  elif(head.startswith(\"saglik\")):\n",
        "    return \"saglik\"\n",
        "  elif(head.startswith(\"magazin\")):\n",
        "    return \"magazin\"\n",
        "  else:\n",
        "    return \"yerel\""
      ],
      "execution_count": null,
      "outputs": []
    },
    {
      "cell_type": "code",
      "metadata": {
        "id": "S15nYX69ZJWF"
      },
      "source": [
        "def veri_cek(url):\n",
        "  # print(url)\n",
        "  r = requests.get(url)  \n",
        "  soup = BeautifulSoup(r.content, 'html5lib')\n",
        "  title = soup.find(\"h1\", attrs = {\"class\":\"pageTitle\"}).getText()\n",
        "  content_array = soup.find(\"div\", attrs = {\"class\":\"newsBox\"}).getText()\n",
        "  date = soup.find(\"span\", attrs = {\"class\":\"textInfo\"}).getText()\n",
        "  date = date.split()\n",
        "  date = date[2]\n",
        "  cat=find_categories(url)  \n",
        "  content_array = content_array.split()\n",
        "  content_string = \"\"\n",
        "  for w in content_array:\n",
        "    content_string = content_string+\" \"+w\n",
        "  #w_data = url+\";\"+date+\";\"+title+\";\"+content_string\n",
        "  data=\"{};{};{};{};{}\".format(url,date,cat,title,content_string)\n",
        "  # print(data)\n",
        "  # write_to_txt(data)\n",
        "  with open(\"sabah_contain_prostat_kanseri.txt\", 'a') as file: \n",
        "       file.write(data+'\\n')"
      ],
      "execution_count": null,
      "outputs": []
    },
    {
      "cell_type": "code",
      "metadata": {
        "id": "fuLitwcbZJSc"
      },
      "source": [
        "def get_url(url):\n",
        "    dizi = url\n",
        "    dizi2 = []\n",
        "    for i in dizi:\n",
        "         if not i in dizi2:           #çekilen linklerde aynı olan verileri teke düşürüyor \n",
        "            with open(\"sabah_link_prostat_kanseri.txt\", 'a') as file: \n",
        "               file.write(i+'\\n')\n",
        "    #          dizi2.append(i)\n",
        "    # return dizi2"
      ],
      "execution_count": null,
      "outputs": []
    },
    {
      "cell_type": "code",
      "metadata": {
        "id": "VqVld-Ou_FJ4"
      },
      "source": [
        "date = datecreator()\n",
        "# for i in date:\n",
        "#   get_link(i)\n"
      ],
      "execution_count": null,
      "outputs": []
    },
    {
      "cell_type": "code",
      "metadata": {
        "colab": {
          "base_uri": "https://localhost:8080/"
        },
        "id": "ThEQ1RyFKILO",
        "outputId": "de31fdc0-47e5-4a6b-a478-d9e86e67ba9a"
      },
      "source": [
        "t1=time.time()\n",
        "with concurrent.futures.ProcessPoolExecutor() as execut:\n",
        "  b_res=[execut.submit(get_link,i.strip()) for i in date]\n",
        "\n",
        "print(time.time()-t1)"
      ],
      "execution_count": null,
      "outputs": [
        {
          "output_type": "stream",
          "text": [
            "85.84534072875977\n"
          ],
          "name": "stdout"
        }
      ]
    },
    {
      "cell_type": "code",
      "metadata": {
        "id": "3RBVElXn_QAZ"
      },
      "source": [
        "import os\n",
        "import csv\n",
        "import io\n",
        "from pprint import pprint\n",
        "sabah_prostat_links=[]\n",
        "with open('sabah_link_prostat_kanseri.txt','r',newline='') as f:\n",
        "  for i in f.readlines():    \n",
        "  # reader=csv.reader(f)\n",
        "    sabah_prostat_links.append(i)"
      ],
      "execution_count": null,
      "outputs": []
    },
    {
      "cell_type": "code",
      "metadata": {
        "colab": {
          "base_uri": "https://localhost:8080/"
        },
        "id": "fouYPDLfW2eE",
        "outputId": "c82d221a-f79d-458b-aa6b-4363408ba495"
      },
      "source": [
        "\n",
        "t4=time.time()\n",
        "with concurrent.futures.ProcessPoolExecutor() as execu:\n",
        "  b_res=[execu.submit(veri_cek,i.strip()) for i in sabah_prostat_links]\n",
        "print(time.time()-t4)"
      ],
      "execution_count": null,
      "outputs": [
        {
          "output_type": "stream",
          "text": [
            "690.9118309020996\n"
          ],
          "name": "stdout"
        }
      ]
    },
    {
      "cell_type": "code",
      "metadata": {
        "id": "tK0c_E9j_NuI"
      },
      "source": [
        "import os\n",
        "import csv\n",
        "import io\n",
        "from pprint import pprint\n",
        "sabah_memekanseri_links=[]\n",
        "with open('sabah_link_meme_kanseri.txt','r',newline='') as f:\n",
        "  for i in f.readlines():    \n",
        "  # reader=csv.reader(f)\n",
        "    sabah_memekanseri_links.append(i)"
      ],
      "execution_count": null,
      "outputs": []
    },
    {
      "cell_type": "code",
      "metadata": {
        "colab": {
          "base_uri": "https://localhost:8080/"
        },
        "id": "B6ZabbbNWkH5",
        "outputId": "d0641e3c-8ab4-408f-8b3c-e82997871320"
      },
      "source": [
        "\n",
        "t3=time.time()\n",
        "with concurrent.futures.ProcessPoolExecutor() as execu:\n",
        "  b_res=[execu.submit(veri_cek,i.strip()) for i in sabah_memekanseri_links]\n",
        "print(time.time()-t3)"
      ],
      "execution_count": null,
      "outputs": [
        {
          "output_type": "stream",
          "text": [
            "751.8304054737091\n"
          ],
          "name": "stdout"
        }
      ]
    },
    {
      "cell_type": "code",
      "metadata": {
        "id": "40k69paZR9vE"
      },
      "source": [
        "import os\n",
        "import csv\n",
        "import io\n",
        "from pprint import pprint\n",
        "sabah_kanser_links=[]\n",
        "with open('sabah_link_kanser.txt','r',newline='') as f:\n",
        "  for i in f.readlines():    \n",
        "  # reader=csv.reader(f)\n",
        "    sabah_kanser_links.append(i)"
      ],
      "execution_count": null,
      "outputs": []
    },
    {
      "cell_type": "code",
      "metadata": {
        "id": "Tyu_JPK-ZW1A",
        "colab": {
          "base_uri": "https://localhost:8080/"
        },
        "outputId": "d8fb2683-5d7c-4023-df09-1edf57e28985"
      },
      "source": [
        "\n",
        "t2=time.time()\n",
        "with concurrent.futures.ProcessPoolExecutor() as execu:\n",
        "  b_res=[execu.submit(veri_cek,i.strip()) for i in sabah_kanser_links]\n",
        "print(time.time()-t2)\n",
        "# for i in dizi2:\n",
        "#   try:\n",
        "#     veri_cek(i)\n",
        "#   except: \n",
        "#     pass\n",
        "    # print(\"Başarısız Link\")\n"
      ],
      "execution_count": null,
      "outputs": [
        {
          "output_type": "stream",
          "text": [
            "956.8247866630554\n"
          ],
          "name": "stdout"
        }
      ]
    },
    {
      "cell_type": "code",
      "metadata": {
        "id": "fa8JpsoAZJL4"
      },
      "source": [
        ""
      ],
      "execution_count": null,
      "outputs": []
    },
    {
      "cell_type": "markdown",
      "metadata": {
        "id": "8V96wFdSmBbA"
      },
      "source": [
        "SÖZCÜ  -"
      ]
    },
    {
      "cell_type": "markdown",
      "metadata": {
        "id": "BdGDJjcRmCsV"
      },
      "source": [
        "T24 -serhat"
      ]
    },
    {
      "cell_type": "markdown",
      "metadata": {
        "id": "VPIcUgH1mF9f"
      },
      "source": [
        "YENİÇAĞ - doğukan"
      ]
    },
    {
      "cell_type": "markdown",
      "metadata": {
        "id": "vl-A7zOYmHpA"
      },
      "source": [
        "ODATV -doğukan  -----SİTE PROBLEMLİ "
      ]
    },
    {
      "cell_type": "markdown",
      "metadata": {
        "id": "9mtbUa_bmSKg"
      },
      "source": [
        "\n",
        "\n",
        "```\n",
        "# This is formatted as code\n",
        "```\n",
        "\n",
        "CUMHURİYET -koray"
      ]
    },
    {
      "cell_type": "markdown",
      "metadata": {
        "id": "DpblRXHwmcMq"
      },
      "source": [
        "GAZETEDUVAR -doğukan"
      ]
    },
    {
      "cell_type": "markdown",
      "metadata": {
        "id": "w0a5wrK-mfcq"
      },
      "source": [
        "YENİ ŞAFAK   - "
      ]
    },
    {
      "cell_type": "code",
      "metadata": {
        "id": "C0DKW_tIDGeX"
      },
      "source": [
        "pages_count=[530,37]  # kanser, prostat   Not : meme kanseri aramada hata veriyor"
      ],
      "execution_count": 4,
      "outputs": []
    },
    {
      "cell_type": "code",
      "metadata": {
        "id": "cAEBOzcoEYUw"
      },
      "source": [
        "link_prostat=[]\n",
        "cat=[\"kanser\",\"prostat\"]\n",
        "for i in range(1,pages_count[1]):\n",
        "  lnk=\"{}{}{}{}{}{}\".format(\"https://www.yenisafak.com/arama/\",cat[1],\"?word=\",cat[1],\"&page=\",i)\n",
        "  link_prostat.append(lnk)\n"
      ],
      "execution_count": 13,
      "outputs": []
    },
    {
      "cell_type": "code",
      "metadata": {
        "id": "LlYFyvWvmfHy"
      },
      "source": [
        "link_kanser=[]\n",
        "cat=[\"kanser\",\"prostat\"]\n",
        "for i in range(1,pages_count[0]):\n",
        "  lnk=\"{}{}{}{}{}{}\".format(\"https://www.yenisafak.com/arama/\",cat[0],\"?word=\",cat[0],\"&page=\",i)\n",
        "  link_kanser.append(lnk)"
      ],
      "execution_count": 19,
      "outputs": []
    },
    {
      "cell_type": "code",
      "metadata": {
        "id": "hM3CHgv8lUlf"
      },
      "source": [
        "for i in link_prostat:\n",
        "  print(i)\n",
        "\n",
        "  # https://www.yenisafak.com/arama/prostat?word=prostat&page=9"
      ],
      "execution_count": null,
      "outputs": []
    },
    {
      "cell_type": "code",
      "metadata": {
        "id": "1tLI7siDmrMU"
      },
      "source": [
        "for i in link_kanser:\n",
        "  print(i)"
      ],
      "execution_count": null,
      "outputs": []
    },
    {
      "cell_type": "code",
      "metadata": {
        "id": "SI5cjd6uGZ_X"
      },
      "source": [
        "def page_links_finder_yenisafak(url):\n",
        "  req = requests.get(url)\n",
        "  soup = BeautifulSoup(req.text, \"lxml\")\n",
        "  # title_link=soup.find_all(\"a\")\n",
        "  url_in=\"https://www.yenisafak.com\"\n",
        "  # title_link=soup.find_all(\"a\",attrs={\"class\":\"col-lg-12 col-md-12 col-sm-6 col-xs-12 hs-new-article\"})\n",
        "  title_link=soup.find(\"div\",{\"class\":\"search-result-list\"}).find_all(\"a\")\n",
        "  for i in title_link:\n",
        "    # print(i)\n",
        "    # print(\"----\")\n",
        "\n",
        "    h=\"{}{}\".format(url_in,i.get(\"href\"))   \n",
        "    # print(h)\n",
        "    # lnk=\"{}{}\".format(\"https://www.birgun.net\",h)    \n",
        "    # if (lnk.startswith(\"https://www.birgun.net/ara\")):    \n",
        "    #   pass\n",
        "    # else:\n",
        "    with open(\"yenisafak_link_kanser.txt\",\"a\",newline='') as f:\n",
        "      f.write(lnk+'\\n')\n"
      ],
      "execution_count": 21,
      "outputs": []
    },
    {
      "cell_type": "code",
      "metadata": {
        "id": "6WRoDOapj7Rf"
      },
      "source": [
        "for i in link_prostat:\n",
        "  page_links_finder_yenisafak(i)"
      ],
      "execution_count": 18,
      "outputs": []
    },
    {
      "cell_type": "code",
      "metadata": {
        "id": "l9GBryC1m20Z"
      },
      "source": [
        "for i in link_kanser:\n",
        "  page_links_finder_yenisafak(i)"
      ],
      "execution_count": 22,
      "outputs": []
    },
    {
      "cell_type": "code",
      "metadata": {
        "id": "bADUHt_6ohh5"
      },
      "source": [
        "ysafak_kanser_links=[]\n",
        "with open(\"yenisafak_link_kanser.txt\",'r',newline='') as f:\n",
        "  for i in f.readlines():    \n",
        "  # reader=csv.reader(f)\n",
        "    ysafak_kanser_links.append(i)"
      ],
      "execution_count": 24,
      "outputs": []
    },
    {
      "cell_type": "code",
      "metadata": {
        "id": "OH8UvC-Yo034"
      },
      "source": [
        "ysafak_prostatkanser_links=[]\n",
        "with open(\"yenisafak_link_prostat_kanseri.txt\",'r',newline='') as f:\n",
        "  for i in f.readlines():    \n",
        "  # reader=csv.reader(f)\n",
        "    ysafak_prostatkanser_links.append(i)"
      ],
      "execution_count": 25,
      "outputs": []
    },
    {
      "cell_type": "code",
      "metadata": {
        "id": "bNG0I0k-m_O1"
      },
      "source": [
        "def container(url):\n",
        "  # print(url)\n",
        "  r = requests.get(url)  \n",
        "  soup = BeautifulSoup(r.content, 'html5lib')\n",
        "  title = soup.find(\"h1\", attrs = {\"class\":\"pageTitle\"}).getText()\n",
        "  content_array = soup.find(\"div\", attrs = {\"class\":\"newsBox\"}).getText()\n",
        "  date = soup.find(\"span\", attrs = {\"class\":\"textInfo\"}).getText()\n",
        "  date = date.split()\n",
        "  date = date[2]\n",
        "  cat=find_categories(url)  \n",
        "  content_array = content_array.split()\n",
        "  content_string = \"\"\n",
        "  for w in content_array:\n",
        "    content_string = content_string+\" \"+w\n",
        "  #w_data = url+\";\"+date+\";\"+title+\";\"+content_string\n",
        "  data=\"{};{};{};{};{}\".format(url,date,cat,title,content_string)\n",
        "  # print(data)\n",
        "  # write_to_txt(data)\n",
        "  with open(\"sabah_contain_prostat_kanseri.txt\", 'a') as file: \n",
        "       file.write(data+'\\n')"
      ],
      "execution_count": null,
      "outputs": []
    },
    {
      "cell_type": "markdown",
      "metadata": {
        "id": "U4hJRsejvahe"
      },
      "source": [
        "trt -koray\n"
      ]
    },
    {
      "cell_type": "code",
      "metadata": {
        "id": "Hzxwg36TvZA6"
      },
      "source": [
        ""
      ],
      "execution_count": null,
      "outputs": []
    }
  ]
}