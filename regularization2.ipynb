{
  "nbformat": 4,
  "nbformat_minor": 0,
  "metadata": {
    "colab": {
      "name": "regularization2.ipynb",
      "provenance": [],
      "collapsed_sections": [],
      "authorship_tag": "ABX9TyNqRaN1CdnA48XBiUBaJB6M",
      "include_colab_link": true
    },
    "kernelspec": {
      "name": "python3",
      "display_name": "Python 3"
    },
    "language_info": {
      "name": "python"
    }
  },
  "cells": [
    {
      "cell_type": "markdown",
      "metadata": {
        "id": "view-in-github",
        "colab_type": "text"
      },
      "source": [
        "<a href=\"https://colab.research.google.com/github/sametgumus212/Python/blob/master/regularization2.ipynb\" target=\"_parent\"><img src=\"https://colab.research.google.com/assets/colab-badge.svg\" alt=\"Open In Colab\"/></a>"
      ]
    },
    {
      "cell_type": "code",
      "metadata": {
        "colab": {
          "base_uri": "https://localhost:8080/"
        },
        "id": "1BxBDaq9m_cl",
        "outputId": "1ccb86ba-92f1-463d-8f6a-c88031040f4b"
      },
      "source": [
        "!pip install bs4\n",
        "!pip install requests\n",
        "!pip install pandas\n",
        "!pip install numpy\n",
        "!pip install urllib.request\n",
        "!pip install lxml\n",
        "!pip install html5lib"
      ],
      "execution_count": null,
      "outputs": [
        {
          "output_type": "stream",
          "name": "stdout",
          "text": [
            "Requirement already satisfied: bs4 in ./.local/lib/python3.8/site-packages (0.0.1)\n",
            "Requirement already satisfied: beautifulsoup4 in ./.local/lib/python3.8/site-packages (from bs4) (4.9.3)\n",
            "Requirement already satisfied: soupsieve>1.2; python_version >= \"3.0\" in ./.local/lib/python3.8/site-packages (from beautifulsoup4->bs4) (2.2.1)\n",
            "Requirement already satisfied: requests in /usr/lib/python3/dist-packages (2.22.0)\n",
            "Requirement already satisfied: pandas in ./.local/lib/python3.8/site-packages (1.2.4)\n",
            "Requirement already satisfied: numpy>=1.16.5 in ./.local/lib/python3.8/site-packages (from pandas) (1.20.3)\n",
            "Requirement already satisfied: pytz>=2017.3 in /usr/lib/python3/dist-packages (from pandas) (2019.3)\n",
            "Requirement already satisfied: python-dateutil>=2.7.3 in /usr/lib/python3/dist-packages (from pandas) (2.7.3)\n",
            "Requirement already satisfied: numpy in ./.local/lib/python3.8/site-packages (1.20.3)\n",
            "\u001b[31mERROR: Could not find a version that satisfies the requirement urllib.request (from versions: none)\u001b[0m\n",
            "\u001b[31mERROR: No matching distribution found for urllib.request\u001b[0m\n",
            "Requirement already satisfied: lxml in ./.local/lib/python3.8/site-packages (4.6.3)\n",
            "Requirement already satisfied: html5lib in ./.local/lib/python3.8/site-packages (1.1)\n",
            "Requirement already satisfied: six>=1.9 in /usr/lib/python3/dist-packages (from html5lib) (1.14.0)\n",
            "Requirement already satisfied: webencodings in /usr/local/lib/python3.8/dist-packages (from html5lib) (0.5.1)\n"
          ]
        }
      ]
    },
    {
      "cell_type": "code",
      "metadata": {
        "id": "MWj1vdWLnOHr"
      },
      "source": [
        "import csv\n",
        "import pandas as pd\n",
        "import numpy as np\n",
        "import os\n",
        "import sqlite3\n",
        "import json\n",
        "\n",
        "import time\n",
        "import multiprocessing\n",
        "import threading\n",
        "from multiprocessing import pool\n",
        "import concurrent"
      ],
      "execution_count": null,
      "outputs": []
    },
    {
      "cell_type": "code",
      "metadata": {
        "id": "R7j77yrSq7H2"
      },
      "source": [
        "dfk=pd.read_csv('kans_3.txt',sep=';')\n",
        "dfk.to_csv('kanser_3.csv',encoding=\"utf-8\")\n",
        "dfk"
      ],
      "execution_count": null,
      "outputs": []
    },
    {
      "cell_type": "code",
      "metadata": {
        "id": "x0wd4vBL3HGC"
      },
      "source": [
        "df\n"
      ],
      "execution_count": null,
      "outputs": []
    },
    {
      "cell_type": "code",
      "metadata": {
        "colab": {
          "base_uri": "https://localhost:8080/",
          "height": 424
        },
        "id": "38g_SDkts3fY",
        "outputId": "6927e2c7-d7ce-433d-ff9e-fd7bafe69399"
      },
      "source": [
        "df1=pd.read_csv('kanser_deneme_relative40.csv',sep=';',header=None)\n",
        "df1.to_csv('kans4.csv',encoding=\"utf-8\")\n",
        "df1"
      ],
      "execution_count": null,
      "outputs": [
        {
          "output_type": "execute_result",
          "data": {
            "text/plain": [
              "            0         1       2\n",
              "0    Topic id      Term  Weight\n",
              "1     topic_0    tedavi   84224\n",
              "2     topic_0    protez   73615\n",
              "3     topic_0       kol   63276\n",
              "4     topic_0   Özdemir   63257\n",
              "..        ...       ...     ...\n",
              "496  topic_49       kan   15479\n",
              "497  topic_49  hastalık   15212\n",
              "498  topic_49   belirti   13581\n",
              "499  topic_49       yap   13159\n",
              "500  topic_49        ed   12797\n",
              "\n",
              "[501 rows x 3 columns]"
            ],
            "text/html": [
              "<div>\n",
              "<style scoped>\n",
              "    .dataframe tbody tr th:only-of-type {\n",
              "        vertical-align: middle;\n",
              "    }\n",
              "\n",
              "    .dataframe tbody tr th {\n",
              "        vertical-align: top;\n",
              "    }\n",
              "\n",
              "    .dataframe thead th {\n",
              "        text-align: right;\n",
              "    }\n",
              "</style>\n",
              "<table border=\"1\" class=\"dataframe\">\n",
              "  <thead>\n",
              "    <tr style=\"text-align: right;\">\n",
              "      <th></th>\n",
              "      <th>0</th>\n",
              "      <th>1</th>\n",
              "      <th>2</th>\n",
              "    </tr>\n",
              "  </thead>\n",
              "  <tbody>\n",
              "    <tr>\n",
              "      <th>0</th>\n",
              "      <td>Topic id</td>\n",
              "      <td>Term</td>\n",
              "      <td>Weight</td>\n",
              "    </tr>\n",
              "    <tr>\n",
              "      <th>1</th>\n",
              "      <td>topic_0</td>\n",
              "      <td>tedavi</td>\n",
              "      <td>84224</td>\n",
              "    </tr>\n",
              "    <tr>\n",
              "      <th>2</th>\n",
              "      <td>topic_0</td>\n",
              "      <td>protez</td>\n",
              "      <td>73615</td>\n",
              "    </tr>\n",
              "    <tr>\n",
              "      <th>3</th>\n",
              "      <td>topic_0</td>\n",
              "      <td>kol</td>\n",
              "      <td>63276</td>\n",
              "    </tr>\n",
              "    <tr>\n",
              "      <th>4</th>\n",
              "      <td>topic_0</td>\n",
              "      <td>Özdemir</td>\n",
              "      <td>63257</td>\n",
              "    </tr>\n",
              "    <tr>\n",
              "      <th>...</th>\n",
              "      <td>...</td>\n",
              "      <td>...</td>\n",
              "      <td>...</td>\n",
              "    </tr>\n",
              "    <tr>\n",
              "      <th>496</th>\n",
              "      <td>topic_49</td>\n",
              "      <td>kan</td>\n",
              "      <td>15479</td>\n",
              "    </tr>\n",
              "    <tr>\n",
              "      <th>497</th>\n",
              "      <td>topic_49</td>\n",
              "      <td>hastalık</td>\n",
              "      <td>15212</td>\n",
              "    </tr>\n",
              "    <tr>\n",
              "      <th>498</th>\n",
              "      <td>topic_49</td>\n",
              "      <td>belirti</td>\n",
              "      <td>13581</td>\n",
              "    </tr>\n",
              "    <tr>\n",
              "      <th>499</th>\n",
              "      <td>topic_49</td>\n",
              "      <td>yap</td>\n",
              "      <td>13159</td>\n",
              "    </tr>\n",
              "    <tr>\n",
              "      <th>500</th>\n",
              "      <td>topic_49</td>\n",
              "      <td>ed</td>\n",
              "      <td>12797</td>\n",
              "    </tr>\n",
              "  </tbody>\n",
              "</table>\n",
              "<p>501 rows × 3 columns</p>\n",
              "</div>"
            ]
          },
          "metadata": {},
          "execution_count": 64
        }
      ]
    },
    {
      "cell_type": "code",
      "metadata": {
        "colab": {
          "base_uri": "https://localhost:8080/",
          "height": 424
        },
        "id": "OXup7kR1_C7E",
        "outputId": "437cd070-9975-4c73-8ba3-20214bf6046c"
      },
      "source": [
        "df2=pd.read_csv('memekanseri_relative3.csv',sep=';',header=None)\n",
        "# df2.to_csv('kans4.csv',encoding=\"utf-8\")\n",
        "df2"
      ],
      "execution_count": null,
      "outputs": [
        {
          "output_type": "execute_result",
          "data": {
            "text/plain": [
              "            0        1       2\n",
              "0    Topic id     Term  Weight\n",
              "1     topic_0   kanser  108427\n",
              "2     topic_0  araştır   68455\n",
              "3     topic_0  Araştır   28633\n",
              "4     topic_0    çalış   27541\n",
              "..        ...      ...     ...\n",
              "496  topic_49    çalış    5094\n",
              "497  topic_49    köpek    4890\n",
              "498  topic_49     yaşa    4818\n",
              "499  topic_49       ed    4766\n",
              "500  topic_49       ol    4685\n",
              "\n",
              "[501 rows x 3 columns]"
            ],
            "text/html": [
              "<div>\n",
              "<style scoped>\n",
              "    .dataframe tbody tr th:only-of-type {\n",
              "        vertical-align: middle;\n",
              "    }\n",
              "\n",
              "    .dataframe tbody tr th {\n",
              "        vertical-align: top;\n",
              "    }\n",
              "\n",
              "    .dataframe thead th {\n",
              "        text-align: right;\n",
              "    }\n",
              "</style>\n",
              "<table border=\"1\" class=\"dataframe\">\n",
              "  <thead>\n",
              "    <tr style=\"text-align: right;\">\n",
              "      <th></th>\n",
              "      <th>0</th>\n",
              "      <th>1</th>\n",
              "      <th>2</th>\n",
              "    </tr>\n",
              "  </thead>\n",
              "  <tbody>\n",
              "    <tr>\n",
              "      <th>0</th>\n",
              "      <td>Topic id</td>\n",
              "      <td>Term</td>\n",
              "      <td>Weight</td>\n",
              "    </tr>\n",
              "    <tr>\n",
              "      <th>1</th>\n",
              "      <td>topic_0</td>\n",
              "      <td>kanser</td>\n",
              "      <td>108427</td>\n",
              "    </tr>\n",
              "    <tr>\n",
              "      <th>2</th>\n",
              "      <td>topic_0</td>\n",
              "      <td>araştır</td>\n",
              "      <td>68455</td>\n",
              "    </tr>\n",
              "    <tr>\n",
              "      <th>3</th>\n",
              "      <td>topic_0</td>\n",
              "      <td>Araştır</td>\n",
              "      <td>28633</td>\n",
              "    </tr>\n",
              "    <tr>\n",
              "      <th>4</th>\n",
              "      <td>topic_0</td>\n",
              "      <td>çalış</td>\n",
              "      <td>27541</td>\n",
              "    </tr>\n",
              "    <tr>\n",
              "      <th>...</th>\n",
              "      <td>...</td>\n",
              "      <td>...</td>\n",
              "      <td>...</td>\n",
              "    </tr>\n",
              "    <tr>\n",
              "      <th>496</th>\n",
              "      <td>topic_49</td>\n",
              "      <td>çalış</td>\n",
              "      <td>5094</td>\n",
              "    </tr>\n",
              "    <tr>\n",
              "      <th>497</th>\n",
              "      <td>topic_49</td>\n",
              "      <td>köpek</td>\n",
              "      <td>4890</td>\n",
              "    </tr>\n",
              "    <tr>\n",
              "      <th>498</th>\n",
              "      <td>topic_49</td>\n",
              "      <td>yaşa</td>\n",
              "      <td>4818</td>\n",
              "    </tr>\n",
              "    <tr>\n",
              "      <th>499</th>\n",
              "      <td>topic_49</td>\n",
              "      <td>ed</td>\n",
              "      <td>4766</td>\n",
              "    </tr>\n",
              "    <tr>\n",
              "      <th>500</th>\n",
              "      <td>topic_49</td>\n",
              "      <td>ol</td>\n",
              "      <td>4685</td>\n",
              "    </tr>\n",
              "  </tbody>\n",
              "</table>\n",
              "<p>501 rows × 3 columns</p>\n",
              "</div>"
            ]
          },
          "metadata": {},
          "execution_count": 68
        }
      ]
    },
    {
      "cell_type": "code",
      "metadata": {
        "colab": {
          "base_uri": "https://localhost:8080/",
          "height": 424
        },
        "id": "UIm5HCGyeCep",
        "outputId": "f560b6f0-6c8a-45da-c11f-2704b7e57be1"
      },
      "source": [
        "df2=pd.read_csv('prostat_kanser_relative3.csv',sep=';',header=None)\n",
        "# df2.to_csv('kans4.csv',encoding=\"utf-8\")\n",
        "df2"
      ],
      "execution_count": null,
      "outputs": [
        {
          "output_type": "execute_result",
          "data": {
            "text/plain": [
              "            0           1       2\n",
              "0    Topic id        Term  Weight\n",
              "1     topic_0       idrar   42627\n",
              "2     topic_0        ağrı   32417\n",
              "3     topic_0          ol   31272\n",
              "4     topic_0         yap   21644\n",
              "..        ...         ...     ...\n",
              "496  topic_49         gör   15087\n",
              "497  topic_49       başla   14624\n",
              "498  topic_49         yaş   14121\n",
              "499  topic_49  kemoterapi   13914\n",
              "500  topic_49     hastane   13002\n",
              "\n",
              "[501 rows x 3 columns]"
            ],
            "text/html": [
              "<div>\n",
              "<style scoped>\n",
              "    .dataframe tbody tr th:only-of-type {\n",
              "        vertical-align: middle;\n",
              "    }\n",
              "\n",
              "    .dataframe tbody tr th {\n",
              "        vertical-align: top;\n",
              "    }\n",
              "\n",
              "    .dataframe thead th {\n",
              "        text-align: right;\n",
              "    }\n",
              "</style>\n",
              "<table border=\"1\" class=\"dataframe\">\n",
              "  <thead>\n",
              "    <tr style=\"text-align: right;\">\n",
              "      <th></th>\n",
              "      <th>0</th>\n",
              "      <th>1</th>\n",
              "      <th>2</th>\n",
              "    </tr>\n",
              "  </thead>\n",
              "  <tbody>\n",
              "    <tr>\n",
              "      <th>0</th>\n",
              "      <td>Topic id</td>\n",
              "      <td>Term</td>\n",
              "      <td>Weight</td>\n",
              "    </tr>\n",
              "    <tr>\n",
              "      <th>1</th>\n",
              "      <td>topic_0</td>\n",
              "      <td>idrar</td>\n",
              "      <td>42627</td>\n",
              "    </tr>\n",
              "    <tr>\n",
              "      <th>2</th>\n",
              "      <td>topic_0</td>\n",
              "      <td>ağrı</td>\n",
              "      <td>32417</td>\n",
              "    </tr>\n",
              "    <tr>\n",
              "      <th>3</th>\n",
              "      <td>topic_0</td>\n",
              "      <td>ol</td>\n",
              "      <td>31272</td>\n",
              "    </tr>\n",
              "    <tr>\n",
              "      <th>4</th>\n",
              "      <td>topic_0</td>\n",
              "      <td>yap</td>\n",
              "      <td>21644</td>\n",
              "    </tr>\n",
              "    <tr>\n",
              "      <th>...</th>\n",
              "      <td>...</td>\n",
              "      <td>...</td>\n",
              "      <td>...</td>\n",
              "    </tr>\n",
              "    <tr>\n",
              "      <th>496</th>\n",
              "      <td>topic_49</td>\n",
              "      <td>gör</td>\n",
              "      <td>15087</td>\n",
              "    </tr>\n",
              "    <tr>\n",
              "      <th>497</th>\n",
              "      <td>topic_49</td>\n",
              "      <td>başla</td>\n",
              "      <td>14624</td>\n",
              "    </tr>\n",
              "    <tr>\n",
              "      <th>498</th>\n",
              "      <td>topic_49</td>\n",
              "      <td>yaş</td>\n",
              "      <td>14121</td>\n",
              "    </tr>\n",
              "    <tr>\n",
              "      <th>499</th>\n",
              "      <td>topic_49</td>\n",
              "      <td>kemoterapi</td>\n",
              "      <td>13914</td>\n",
              "    </tr>\n",
              "    <tr>\n",
              "      <th>500</th>\n",
              "      <td>topic_49</td>\n",
              "      <td>hastane</td>\n",
              "      <td>13002</td>\n",
              "    </tr>\n",
              "  </tbody>\n",
              "</table>\n",
              "<p>501 rows × 3 columns</p>\n",
              "</div>"
            ]
          },
          "metadata": {},
          "execution_count": 67
        }
      ]
    },
    {
      "cell_type": "code",
      "metadata": {
        "id": "c3L4R65JuGQC",
        "colab": {
          "base_uri": "https://localhost:8080/",
          "height": 424
        },
        "outputId": "fe15ce0c-9970-4ac8-f845-59e696c56b5e"
      },
      "source": [
        "df5=pd.read_csv('kanser_relative3.csv',sep=';',header=None)\n",
        "# df2.to_csv('kans4.csv',encoding=\"utf-8\")\n",
        "df5"
      ],
      "execution_count": null,
      "outputs": [
        {
          "output_type": "execute_result",
          "data": {
            "text/plain": [
              "            0        1       2\n",
              "0    Topic id     Term  Weight\n",
              "1     topic_0   tedavi   69174\n",
              "2     topic_0   protez   60296\n",
              "3     topic_0  Özdemir   52027\n",
              "4     topic_0      kol   51956\n",
              "..        ...      ...     ...\n",
              "496  topic_49      gör   42243\n",
              "497  topic_49      ssk   42059\n",
              "498  topic_49      SSK   41905\n",
              "499  topic_49     lenf   41875\n",
              "500  topic_49    hasta   37719\n",
              "\n",
              "[501 rows x 3 columns]"
            ],
            "text/html": [
              "<div>\n",
              "<style scoped>\n",
              "    .dataframe tbody tr th:only-of-type {\n",
              "        vertical-align: middle;\n",
              "    }\n",
              "\n",
              "    .dataframe tbody tr th {\n",
              "        vertical-align: top;\n",
              "    }\n",
              "\n",
              "    .dataframe thead th {\n",
              "        text-align: right;\n",
              "    }\n",
              "</style>\n",
              "<table border=\"1\" class=\"dataframe\">\n",
              "  <thead>\n",
              "    <tr style=\"text-align: right;\">\n",
              "      <th></th>\n",
              "      <th>0</th>\n",
              "      <th>1</th>\n",
              "      <th>2</th>\n",
              "    </tr>\n",
              "  </thead>\n",
              "  <tbody>\n",
              "    <tr>\n",
              "      <th>0</th>\n",
              "      <td>Topic id</td>\n",
              "      <td>Term</td>\n",
              "      <td>Weight</td>\n",
              "    </tr>\n",
              "    <tr>\n",
              "      <th>1</th>\n",
              "      <td>topic_0</td>\n",
              "      <td>tedavi</td>\n",
              "      <td>69174</td>\n",
              "    </tr>\n",
              "    <tr>\n",
              "      <th>2</th>\n",
              "      <td>topic_0</td>\n",
              "      <td>protez</td>\n",
              "      <td>60296</td>\n",
              "    </tr>\n",
              "    <tr>\n",
              "      <th>3</th>\n",
              "      <td>topic_0</td>\n",
              "      <td>Özdemir</td>\n",
              "      <td>52027</td>\n",
              "    </tr>\n",
              "    <tr>\n",
              "      <th>4</th>\n",
              "      <td>topic_0</td>\n",
              "      <td>kol</td>\n",
              "      <td>51956</td>\n",
              "    </tr>\n",
              "    <tr>\n",
              "      <th>...</th>\n",
              "      <td>...</td>\n",
              "      <td>...</td>\n",
              "      <td>...</td>\n",
              "    </tr>\n",
              "    <tr>\n",
              "      <th>496</th>\n",
              "      <td>topic_49</td>\n",
              "      <td>gör</td>\n",
              "      <td>42243</td>\n",
              "    </tr>\n",
              "    <tr>\n",
              "      <th>497</th>\n",
              "      <td>topic_49</td>\n",
              "      <td>ssk</td>\n",
              "      <td>42059</td>\n",
              "    </tr>\n",
              "    <tr>\n",
              "      <th>498</th>\n",
              "      <td>topic_49</td>\n",
              "      <td>SSK</td>\n",
              "      <td>41905</td>\n",
              "    </tr>\n",
              "    <tr>\n",
              "      <th>499</th>\n",
              "      <td>topic_49</td>\n",
              "      <td>lenf</td>\n",
              "      <td>41875</td>\n",
              "    </tr>\n",
              "    <tr>\n",
              "      <th>500</th>\n",
              "      <td>topic_49</td>\n",
              "      <td>hasta</td>\n",
              "      <td>37719</td>\n",
              "    </tr>\n",
              "  </tbody>\n",
              "</table>\n",
              "<p>501 rows × 3 columns</p>\n",
              "</div>"
            ]
          },
          "metadata": {},
          "execution_count": 73
        }
      ]
    },
    {
      "cell_type": "markdown",
      "metadata": {
        "id": "kO5mfi0IcQ9l"
      },
      "source": [
        ""
      ]
    },
    {
      "cell_type": "code",
      "metadata": {
        "id": "ZxPLOD6qnhnj"
      },
      "source": [
        "def regularization(link):\n",
        "    # data=[]\n",
        "    txt=\"\"\n",
        "    a=\"\"\n",
        "    b=\"\"\n",
        "    c=\"\"\n",
        "    d=\"\"\n",
        "    s=0\n",
        "    newlink=\"\"\n",
        "    \n",
        "    content=\"\"\n",
        "    counter=0\n",
        "   \n",
        "    with open(link, \"r\",encoding=\"utf-8\") as filestream:        \n",
        "            for line in filestream:\n",
        "                cl= line.split(\";\")\n",
        "                s=0\n",
        "                if (len(cl)<=5):      \n",
        "                  newlink=line    \n",
        "                  with open(\"prs_4.txt\", \"a\",encoding=\"utf-8\") as f:\n",
        "                    f.write(newlink)\n",
        "                    newlink=\"\"\n",
        "                    txt=\"\"\n",
        "                    a=\"\"\n",
        "                    b=\"\"\n",
        "                    c=\"\"  \n",
        "                    d=\"\" \n",
        "                else: \n",
        "                  counter+=1\n",
        "                  # pass\n",
        "\n",
        "            \n",
        "\n",
        "                  for i in range(len(cl)):\n",
        "                    # for i in range(3):\n",
        "\n",
        "                    a=cl[0]\n",
        "                    s+=1\n",
        "                    b=cl[1]\n",
        "                    s+=1\n",
        "                    c=cl[2]\n",
        "                    s+=1\n",
        "                    d=cl[3]\n",
        "                    s+=1\n",
        "                  \n",
        "                  if(s>=4):\n",
        "                    txt+=cl[i]\n",
        "                    s+=1\n",
        "                  newlink=txt\n",
        "                #newlink=\"reg_\"+link\n",
        "                  with open(\"prs_5.txt\", \"a\",encoding=\"utf-8\") as f:\n",
        "                    f.write(newlink)\n",
        "                    newlink=\"\"\n",
        "                    txt=\"\"\n",
        "                    a=\"\"\n",
        "                    b=\"\"\n",
        "                    c=\"\"  \n",
        "                    d=\"\" \n",
        "            if counter>10:\n",
        "              \n",
        "              print(link)\n",
        "\n",
        "    # print(\"saved\")"
      ],
      "execution_count": null,
      "outputs": []
    },
    {
      "cell_type": "code",
      "metadata": {
        "id": "e1YHaTHtpStp"
      },
      "source": [
        "def regularization_mk(link):\n",
        "    # data=[]\n",
        "    txt=\"\"\n",
        "    a=\"\"\n",
        "    b=\"\"\n",
        "    c=\"\"\n",
        "    d=\"\"\n",
        "    s=0\n",
        "    newlink=\"\"\n",
        "    \n",
        "    content=\"\"\n",
        "    counter=0\n",
        "   \n",
        "    with open(link, \"r\",encoding=\"utf-8\") as filestream:        \n",
        "            for line in filestream:\n",
        "                cl= line.split(\";\")\n",
        "                s=0\n",
        "                if (len(cl)<=5):      \n",
        "                  newlink=line    \n",
        "                  with open(\"mkans_4.txt\", \"a\",encoding=\"utf-8\") as f:\n",
        "                    f.write(newlink)\n",
        "                    newlink=\"\"\n",
        "                    txt=\"\"\n",
        "                    a=\"\"\n",
        "                    b=\"\"\n",
        "                    c=\"\"  \n",
        "                    d=\"\" \n",
        "                else: \n",
        "                  counter+=1\n",
        "                  # pass\n",
        "\n",
        "            \n",
        "\n",
        "                  for i in range(len(cl)):\n",
        "                    # for i in range(3):\n",
        "\n",
        "                    a=cl[0]\n",
        "                    s+=1\n",
        "                    b=cl[1]\n",
        "                    s+=1\n",
        "                    c=cl[2]\n",
        "                    s+=1\n",
        "                    d=cl[3]\n",
        "                    s+=1\n",
        "                  \n",
        "                  if(s>=4):\n",
        "                    txt+=cl[i]\n",
        "                    s+=1\n",
        "                  newlink=txt\n",
        "                #newlink=\"reg_\"+link\n",
        "                  with open(\"mkans_5.txt\", \"a\",encoding=\"utf-8\") as f:\n",
        "                    f.write(newlink)\n",
        "                    newlink=\"\"\n",
        "                    txt=\"\"\n",
        "                    a=\"\"\n",
        "                    b=\"\"\n",
        "                    c=\"\"  \n",
        "                    d=\"\" \n",
        "            if counter>10:\n",
        "              \n",
        "              print(link)\n",
        "\n",
        "    # print(\"saved\")"
      ],
      "execution_count": null,
      "outputs": []
    },
    {
      "cell_type": "code",
      "metadata": {
        "id": "VvpP38qUpdNT"
      },
      "source": [
        "def regularization_k(link):\n",
        "    # data=[]\n",
        "    txt=\"\"\n",
        "    a=\"\"\n",
        "    b=\"\"\n",
        "    c=\"\"\n",
        "    d=\"\"\n",
        "    s=0\n",
        "    newlink=\"\"\n",
        "    \n",
        "    content=\"\"\n",
        "    counter=0\n",
        "   \n",
        "    with open(link, \"r\",encoding=\"utf-8\") as filestream:        \n",
        "            for line in filestream:\n",
        "                cl= line.split(\";\")\n",
        "                s=0\n",
        "                if (len(cl)<=5):      \n",
        "                  newlink=line    \n",
        "                  with open(\"kans_3.txt\", \"a\",encoding=\"utf-8\") as f:\n",
        "                    f.write(newlink)\n",
        "                    newlink=\"\"\n",
        "                    txt=\"\"\n",
        "                    a=\"\"\n",
        "                    b=\"\"\n",
        "                    c=\"\"  \n",
        "                    d=\"\" \n",
        "                else: \n",
        "                  counter+=1\n",
        "                  # pass\n",
        "\n",
        "            \n",
        "\n",
        "                  for i in range(len(cl)):\n",
        "                    # for i in range(3):\n",
        "\n",
        "                    a=cl[0]\n",
        "                    s+=1\n",
        "                    b=cl[1]\n",
        "                    s+=1\n",
        "                    c=cl[2]\n",
        "                    s+=1\n",
        "                    d=cl[3]\n",
        "                    s+=1\n",
        "                  \n",
        "                  if(s>=4):\n",
        "                    txt+=cl[i]\n",
        "                    s+=1\n",
        "                  newlink=txt\n",
        "                #newlink=\"reg_\"+link\n",
        "                  with open(\"kans_33.txt\", \"a\",encoding=\"utf-8\") as f:\n",
        "                    f.write(newlink)\n",
        "                    newlink=\"\"\n",
        "                    txt=\"\"\n",
        "                    a=\"\"\n",
        "                    b=\"\"\n",
        "                    c=\"\"  \n",
        "                    d=\"\" \n",
        "            if counter>10:\n",
        "              \n",
        "              print(link)\n",
        "\n",
        "    # print(\"saved\")"
      ],
      "execution_count": null,
      "outputs": []
    },
    {
      "cell_type": "code",
      "metadata": {
        "id": "GMDbBX9udafe"
      },
      "source": [
        "prostatlar=['docs/github/kanser_haberleri/birgun/birgun_contain_prostat_kanseri.txt','docs/github/kanser_haberleri/cumhuriyet/cumhuriyet_content_prostat_kanser.txt','docs/github/kanser_haberleri/ensonhaber/ensonhaber_content_prostat_kanser.txt','docs/github/kanser_haberleri/gazeteduvar/gazeteduvar_content_prostat_kanser.txt','docs/github/kanser_haberleri/gazetevatan/gazetevatan_content_prostat_kanser.txt','docs/github/kanser_haberleri/hurriyet/hurriyet_link_prostat_kanseri.txt','docs/github/kanser_haberleri/karar/karar_contain_prostat_kanseri.txt','docs/github/kanser_haberleri/memurlar.net/memurlarnet_Prostat_Kanser_Cont','docs/github/kanser_haberleri/sabah/sabah_contain_prostat_kanseri.txt','docs/github/kanser_haberleri/takvim/takvim_content_prostat_kanser.txt','docs/github/kanser_haberleri/turkiye gazetesi/turkiyegazetesi_content_prostat_kanser.txt','docs/github/kanser_haberleri/yenisafak/yenisafak_contain_prostat_kanseri.txt']"
      ],
      "execution_count": null,
      "outputs": []
    },
    {
      "cell_type": "code",
      "metadata": {
        "id": "uBPtr-7xmd4I"
      },
      "source": [
        "mkanserler=['docs/github/kanser_haberleri/birgun/birgun_contain_meme_kanseri.txt','docs/github/kanser_haberleri/cumhuriyet/cumhuriyet_content_meme_kanser.txt','docs/github/kanser_haberleri/ensonhaber/ensonhaber_content_meme_kanser.txt','docs/github/kanser_haberleri/gazeteduvar/gazeteduvar_content_meme_kanser.txt','docs/github/kanser_haberleri/gazetevatan/gazetevatan_content_meme_kanser.txt','docs/github/kanser_haberleri/hurriyet/hürriyet_content_meme_kanser.txt','docs/github/kanser_haberleri/karar/karar_contain_meme_kanseri.txt','docs/github/kanser_haberleri/memurlar.net/memurlarnet_Meme_Kanser_Cont','docs/github/kanser_haberleri/sabah/sabah_contain_meme_kanseri.txt','docs/github/kanser_haberleri/takvim/takvim_content_meme_kanser.txt','docs/github/kanser_haberleri/turkiye gazetesi/turkiyegazetesi_content_meme_kanser.txt']"
      ],
      "execution_count": null,
      "outputs": []
    },
    {
      "cell_type": "code",
      "metadata": {
        "id": "PmqvTHmooHvr"
      },
      "source": [
        "kanserler=['docs/github/kanser_haberleri/yenisafak/yenisafak_contain_kanser.txt','docs/github/kanser_haberleri/turkiye gazetesi/turkiyegazetesi_content_kanser.txt','docs/github/kanser_haberleri/takvim/takvim_content_kanser.txt','docs/github/kanser_haberleri/sabah/sabah_contain_kanser.txt','docs/github/kanser_haberleri/memurlar.net/memurlarnet_Kanser_Cont','docs/github/kanser_haberleri/karar/karar_contain_kanser.txt','docs/github/kanser_haberleri/hurriyet/hürriyet_content_kanser.txt','docs/github/kanser_haberleri/gazetevatan/gazetevatan_content_kanser.txt','docs/github/kanser_haberleri/gazeteduvar/gazeteduvar_content_kanser.txt','docs/github/kanser_haberleri/ensonhaber/ensonhaber_content_kanser.txt','docs/github/kanser_haberleri/cumhuriyet/cumhuriyet_content_kanser.txt','docs/github/kanser_haberleri/birgun/birgun_contain_kanser.txt']"
      ],
      "execution_count": null,
      "outputs": []
    },
    {
      "cell_type": "code",
      "metadata": {
        "colab": {
          "base_uri": "https://localhost:8080/"
        },
        "id": "wGYXpYnMess7",
        "outputId": "892a28b7-ffd6-4f50-c31c-d1a7df93df44"
      },
      "source": [
        "for i in prostatlar:\n",
        "  regularization(i)"
      ],
      "execution_count": null,
      "outputs": [
        {
          "output_type": "stream",
          "name": "stdout",
          "text": [
            "docs/github/kanser_haberleri/birgun/birgun_contain_prostat_kanseri.txt\n",
            "docs/github/kanser_haberleri/cumhuriyet/cumhuriyet_content_prostat_kanser.txt\n",
            "docs/github/kanser_haberleri/gazetevatan/gazetevatan_content_prostat_kanser.txt\n",
            "docs/github/kanser_haberleri/sabah/sabah_contain_prostat_kanseri.txt\n",
            "docs/github/kanser_haberleri/takvim/takvim_content_prostat_kanser.txt\n",
            "docs/github/kanser_haberleri/turkiye gazetesi/turkiyegazetesi_content_prostat_kanser.txt\n"
          ]
        }
      ]
    },
    {
      "cell_type": "code",
      "metadata": {
        "colab": {
          "base_uri": "https://localhost:8080/"
        },
        "id": "OI7NVgblpr20",
        "outputId": "dee826ff-bf15-4400-e1a3-2677b434cdfe"
      },
      "source": [
        "for i in kanserler:\n",
        "  regularization_k(i)"
      ],
      "execution_count": null,
      "outputs": [
        {
          "output_type": "stream",
          "name": "stdout",
          "text": [
            "docs/github/kanser_haberleri/yenisafak/yenisafak_contain_kanser.txt\n",
            "docs/github/kanser_haberleri/turkiye gazetesi/turkiyegazetesi_content_kanser.txt\n",
            "docs/github/kanser_haberleri/takvim/takvim_content_kanser.txt\n",
            "docs/github/kanser_haberleri/sabah/sabah_contain_kanser.txt\n",
            "docs/github/kanser_haberleri/karar/karar_contain_kanser.txt\n",
            "docs/github/kanser_haberleri/hurriyet/hürriyet_content_kanser.txt\n",
            "docs/github/kanser_haberleri/gazetevatan/gazetevatan_content_kanser.txt\n",
            "docs/github/kanser_haberleri/gazeteduvar/gazeteduvar_content_kanser.txt\n",
            "docs/github/kanser_haberleri/ensonhaber/ensonhaber_content_kanser.txt\n",
            "docs/github/kanser_haberleri/cumhuriyet/cumhuriyet_content_kanser.txt\n",
            "docs/github/kanser_haberleri/birgun/birgun_contain_kanser.txt\n"
          ]
        }
      ]
    },
    {
      "cell_type": "code",
      "metadata": {
        "colab": {
          "base_uri": "https://localhost:8080/"
        },
        "id": "teBaveyEpwyn",
        "outputId": "527bd61f-66b2-458d-b2e6-ac7fa11cb4f4"
      },
      "source": [
        "for i in mkanserler:\n",
        "  regularization_mk(i)"
      ],
      "execution_count": null,
      "outputs": [
        {
          "output_type": "stream",
          "name": "stdout",
          "text": [
            "docs/github/kanser_haberleri/birgun/birgun_contain_meme_kanseri.txt\n",
            "docs/github/kanser_haberleri/cumhuriyet/cumhuriyet_content_meme_kanser.txt\n",
            "docs/github/kanser_haberleri/gazeteduvar/gazeteduvar_content_meme_kanser.txt\n",
            "docs/github/kanser_haberleri/gazetevatan/gazetevatan_content_meme_kanser.txt\n",
            "docs/github/kanser_haberleri/hurriyet/hürriyet_content_meme_kanser.txt\n",
            "docs/github/kanser_haberleri/sabah/sabah_contain_meme_kanseri.txt\n",
            "docs/github/kanser_haberleri/takvim/takvim_content_meme_kanser.txt\n",
            "docs/github/kanser_haberleri/turkiye gazetesi/turkiyegazetesi_content_meme_kanser.txt\n"
          ]
        }
      ]
    },
    {
      "cell_type": "code",
      "metadata": {
        "id": "DSdtHI4FkyZz"
      },
      "source": [
        "ln='docs/github/kanser_haberleri/birgun/birgun_contain_prostat_kanseri.txt'"
      ],
      "execution_count": null,
      "outputs": []
    },
    {
      "cell_type": "code",
      "metadata": {
        "colab": {
          "base_uri": "https://localhost:8080/"
        },
        "id": "uNWEBSVXlDMb",
        "outputId": "c24c67ed-e4be-4615-f327-fe10fa03467e"
      },
      "source": [
        "regularization(ln)"
      ],
      "execution_count": null,
      "outputs": [
        {
          "output_type": "stream",
          "name": "stdout",
          "text": [
            "docs/github/kanser_haberleri/birgun/birgun_contain_prostat_kanseri.txt\n"
          ]
        }
      ]
    },
    {
      "cell_type": "code",
      "metadata": {
        "id": "YNJCj94Pt3XG"
      },
      "source": [
        "\n",
        "def tojson():  \n",
        "  # the file to be converted\n",
        "  filename = 'data.txt'\n",
        "    \n",
        "  # resultant dictionary\n",
        "  dict1 = {}\n",
        "    \n",
        "  # fields in the sample file \n",
        "  fields =['link', 'date', 'title', 'content']\n",
        "    \n",
        "  with open(filename) as fh:\n",
        "        \n",
        "    \n",
        "        \n",
        "      # count variable for employee id creation\n",
        "      l = 1\n",
        "        \n",
        "      for line in fh:\n",
        "            \n",
        "          # reading line by line from the text file\n",
        "          description = list( line.strip().split(';', 4))\n",
        "            \n",
        "          # for output see below\n",
        "          print(description) \n",
        "            \n",
        "          # for automatic creation of id for each employee\n",
        "          sno ='news'+str(l)\n",
        "        \n",
        "          # loop variable\n",
        "          i = 0\n",
        "          # intermediate dictionary\n",
        "          dict2 = {}\n",
        "          while i<len(fields):\n",
        "                \n",
        "                  # creating dictionary for each employee\n",
        "                  dict2[fields[i]]= description[i]\n",
        "                  i = i + 1\n",
        "                    \n",
        "          # appending the record of each employee to\n",
        "          # the main dictionary\n",
        "          dict1[sno]= dict2\n",
        "          l = l + 1\n",
        "    \n",
        "    \n",
        "  # creating json file        \n",
        "  out_file = open(\"test2.json\", \"w\")\n",
        "  json.dump(dict1, out_file, indent = 4)\n",
        "  out_file.close()"
      ],
      "execution_count": null,
      "outputs": []
    },
    {
      "cell_type": "code",
      "metadata": {
        "id": "hPAnKSrGpNh8"
      },
      "source": [
        "regularization(\"docs/github/kanser_haberleri/birgun/birgun_contain_kanser.txt\")"
      ],
      "execution_count": null,
      "outputs": []
    }
  ]
}