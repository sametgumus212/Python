{
  "nbformat": 4,
  "nbformat_minor": 0,
  "metadata": {
    "colab": {
      "name": "trud_bg.ipynb",
      "provenance": [],
      "authorship_tag": "ABX9TyMKmg9Ee8bW/tLDsaLfITN+",
      "include_colab_link": true
    },
    "kernelspec": {
      "name": "python3",
      "display_name": "Python 3"
    },
    "language_info": {
      "name": "python"
    }
  },
  "cells": [
    {
      "cell_type": "markdown",
      "metadata": {
        "id": "view-in-github",
        "colab_type": "text"
      },
      "source": [
        "<a href=\"https://colab.research.google.com/github/sametgumus212/Python/blob/master/trud_bg.ipynb\" target=\"_parent\"><img src=\"https://colab.research.google.com/assets/colab-badge.svg\" alt=\"Open In Colab\"/></a>"
      ]
    },
    {
      "cell_type": "code",
      "metadata": {
        "colab": {
          "base_uri": "https://localhost:8080/"
        },
        "id": "osWX3iv1gxM0",
        "outputId": "6b735607-e4c4-48d7-e9c8-dcea55cab113"
      },
      "source": [
        "from google.colab import drive\n",
        "drive.mount('/content/drive/', force_remount=True)"
      ],
      "execution_count": null,
      "outputs": [
        {
          "output_type": "stream",
          "text": [
            "Mounted at /content/drive/\n"
          ],
          "name": "stdout"
        }
      ]
    },
    {
      "cell_type": "code",
      "metadata": {
        "id": "GKIP3ncmkKV8"
      },
      "source": [
        "import os\n",
        "import bs4\n",
        "import requests\n",
        "from bs4 import BeautifulSoup\n",
        "import pandas as pd\n",
        "import numpy as np\n",
        "import os\n",
        "import urllib.request\n",
        "import re\n",
        "from pandas import DataFrame\n",
        "import csv\n",
        "import datetime\n",
        "from datetime import datetime, timedelta"
      ],
      "execution_count": null,
      "outputs": []
    },
    {
      "cell_type": "code",
      "metadata": {
        "id": "SJMvNXLsknhW"
      },
      "source": [
        "t1 = datetime(2015,1,1)\n",
        "t2 = datetime(2021,6,1)\n",
        "t = timedelta(days = 1)\n",
        "txt=\"\"\n",
        "url=\"https://trud.bg/%D0%B0%D1%80%D1%85%D0%B8%D0%B2/%D0%BD%D0%BE%D0%B2%D0%B8%D0%BD%D0%B8/?date=\"\n",
        "dates = np.arange(t1, t2, t).astype(datetime)\n",
        "all_links=[]\n",
        "for i in dates:\n",
        "  txt=\"{}{}\".format(url,i.date())\n",
        "  all_links.append(txt)"
      ],
      "execution_count": null,
      "outputs": []
    },
    {
      "cell_type": "code",
      "metadata": {
        "id": "ete5XDtnFwwf"
      },
      "source": [
        "for i in all_links:\n",
        "  print(i)"
      ],
      "execution_count": null,
      "outputs": []
    },
    {
      "cell_type": "code",
      "metadata": {
        "id": "ab52Aq8IuAuG"
      },
      "source": [
        "def pagenewslinkcreator(link):\n",
        "  dblink=[]\n",
        "  req = requests.get(link)\n",
        "  soup = BeautifulSoup(req.content, \"lxml\")\n",
        "  titlem=soup.find_all(\"h3\",attrs={\"class\":\"article__title article__title--l font_size_arhiv\"})\n",
        "  #print(titlem)\n",
        "  c=\"\"\n",
        "  counter=0\n",
        "  s=1\n",
        "  for i in titlem:\n",
        "    if s==21:\n",
        "      break\n",
        "    if(i is not None):      \n",
        "      c=\"{}{}\".format(\"http://trud.bg\",i.a.get('href'))\n",
        "      if c is not None:      \n",
        "        dblink.append(c) \n",
        "        ps=\"\"\n",
        "        ps=c\n",
        "        with open(\"/content/drive/MyDrive/bg_tr/trud.bg/trud_bg_links_output.txt\", 'a') as file: \n",
        "          #ps=\"{}{}{}{}{}{}{}\".format(pdd[0],\";\",pdd[1],\";\",pdd[2],\";\",pdd[3])\n",
        "          # ps=\"{}\".format(ps)\n",
        "          file.write(ps+'\\n')\n",
        "          file.truncate()        \n",
        "        s+=1\n",
        "      else:\n",
        "        pass   \n",
        "          \n",
        "  return dblink"
      ],
      "execution_count": null,
      "outputs": []
    },
    {
      "cell_type": "code",
      "metadata": {
        "id": "9K5PpN1NIEMO"
      },
      "source": [
        "for i in all_links:\n",
        "  all_page_links=pagenewslinkcreator(i)"
      ],
      "execution_count": null,
      "outputs": []
    },
    {
      "cell_type": "code",
      "metadata": {
        "id": "9S-7CSTev815"
      },
      "source": [
        "for i in all_page_links:\n",
        "  print(i)"
      ],
      "execution_count": null,
      "outputs": []
    },
    {
      "cell_type": "code",
      "metadata": {
        "id": "k4zmork4JTrg"
      },
      "source": [
        "df=pd.DataFrame(all_page_links)\n",
        "df.to_csv(\"trud_bg_all_page_links\")"
      ],
      "execution_count": null,
      "outputs": []
    },
    {
      "cell_type": "code",
      "metadata": {
        "id": "9XGci0MTJmcq"
      },
      "source": [
        "!cp '/content/trud_bg_all_page_links' '/content/drive/MyDrive/bg_tr/trud.bg'"
      ],
      "execution_count": null,
      "outputs": []
    },
    {
      "cell_type": "code",
      "metadata": {
        "id": "QPW33HhOyX7V"
      },
      "source": [
        "uur=\"https://trud.bg/%D0%B0%D1%80%D1%85%D0%B8%D0%B2/%D0%BD%D0%BE%D0%B2%D0%B8%D0%BD%D0%B8/?date=2021-03-03\"\n",
        "asa=pagenewslinkcreator(uur)"
      ],
      "execution_count": null,
      "outputs": []
    },
    {
      "cell_type": "code",
      "metadata": {
        "id": "TiF_Mhc51kCL"
      },
      "source": [
        "cc=[]\n",
        "for i in asa:\n",
        "  #cc.append(creator(i))\n",
        "  print(i)"
      ],
      "execution_count": null,
      "outputs": []
    },
    {
      "cell_type": "code",
      "metadata": {
        "id": "3jaBhSa12SrN"
      },
      "source": [
        "usr=\"http://trud.bg/полша-сключи-сделка-за-производство-на-ваксината-на-новавакс-за-covid-19/\"\n",
        "asa=creator(usr)\n",
        "for i in asa:\n",
        "  print(i)"
      ],
      "execution_count": null,
      "outputs": []
    },
    {
      "cell_type": "code",
      "metadata": {
        "id": "ZoahlcW8kbaR"
      },
      "source": [
        "def creator(link):\n",
        "  array=[]\n",
        "  atxt=\"\"\n",
        "  array.append(link)    \n",
        "  r = requests.get(link)   \n",
        "  soup = BeautifulSoup(r.content, 'html5lib')\n",
        "  dat=soup.find(\"time\",attrs={\"class\":\"tag__text\"}).get(\"datetime\")\n",
        "  array.append(dat)\n",
        "  title=soup.find(\"div\",attrs={\"class\":\"text\"}).h3.getText()\n",
        "  array.append(title)      \n",
        "  table = soup.select('div[id=article_text_container]')\n",
        "  tmp2=\"\"\n",
        "  for i in table:\n",
        "    tmp=soup.findAll(\"p\")\n",
        "    for i in tmp[:-2]:      \n",
        "      tmp2+=i.getText()    \n",
        "  array.append(tmp2)\n",
        "  ps=\"\"\n",
        "  with open(\"/content/drive/MyDrive/bg_tr/trud.bg/trud_bg_container_output.txt\", 'a') as file: \n",
        "    #ps=\"{}{}{}{}{}{}{}\".format(pdd[0],\";\",pdd[1],\";\",pdd[2],\";\",pdd[3])\n",
        "    ps=\"{}{}{}{}{}{}{}\".format(array[0],\";\",array[1],\";\",array[2],\";\",array[3])\n",
        "    file.write(ps+'\\n')\n",
        "    file.truncate()\n",
        "  return array\n"
      ],
      "execution_count": null,
      "outputs": []
    }
  ]
}