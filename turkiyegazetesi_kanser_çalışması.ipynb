{
  "nbformat": 4,
  "nbformat_minor": 0,
  "metadata": {
    "colab": {
      "name": "turkiyegazetesi_kanser_çalışması.ipynb",
      "provenance": [],
      "include_colab_link": true
    },
    "kernelspec": {
      "name": "python3",
      "display_name": "Python 3"
    },
    "language_info": {
      "name": "python"
    }
  },
  "cells": [
    {
      "cell_type": "markdown",
      "metadata": {
        "id": "view-in-github",
        "colab_type": "text"
      },
      "source": [
        "<a href=\"https://colab.research.google.com/github/sametgumus212/Python/blob/master/turkiyegazetesi_kanser_%C3%A7al%C4%B1%C5%9Fmas%C4%B1.ipynb\" target=\"_parent\"><img src=\"https://colab.research.google.com/assets/colab-badge.svg\" alt=\"Open In Colab\"/></a>"
      ]
    },
    {
      "cell_type": "code",
      "metadata": {
        "id": "llD6fFXgYQvv"
      },
      "source": [
        "import os\n",
        "import bs4\n",
        "import requests\n",
        "from bs4 import BeautifulSoup\n",
        "import pandas as pd\n",
        "import numpy as np\n",
        "import os\n",
        "import time\n",
        "import urllib.request\n",
        "import re\n",
        "import urllib3\n",
        "from pandas import DataFrame\n",
        "import csv\n",
        "import datetime\n",
        "from datetime import datetime, timedelta"
      ],
      "execution_count": 1,
      "outputs": []
    },
    {
      "cell_type": "code",
      "metadata": {
        "id": "83k781ssYm3P"
      },
      "source": [
        "def datecreator():\n",
        "  kanser_links = []\n",
        "  prostat_links = []\n",
        "  memekanseri_links=[]\n",
        "  kan_link =\"https://www.turkiyegazetesi.com.tr/arama?q=kanser&pg=\" #85 e kadar sayfa var kanser\n",
        "  pros_link = \"https://www.turkiyegazetesi.com.tr/arama?q=prostat%20kanseri&pg=\" #2 e kadar sayfa var prostat kanseri\n",
        "  mem_link = \"https://www.turkiyegazetesi.com.tr/arama?q=meme%20kanseri&pg=\" #5 ya kadar sayfa var meme kanseri\n",
        "\n",
        "  for i in range(1,3,1):\n",
        "    kanser_links.append(\"{}{}\".format(kan_link,i))\n",
        "\n",
        "  for i in range(1,3,1):\n",
        "    prostat_links.append(\"{}{}\".format(pros_link,i))\n",
        "\n",
        "  for i in range(1,3,1):\n",
        "    memekanseri_links.append(\"{}{}\".format(mem_link,i))\n",
        "  return kanser_links,memekanseri_links,prostat_links"
      ],
      "execution_count": 2,
      "outputs": []
    },
    {
      "cell_type": "code",
      "metadata": {
        "colab": {
          "base_uri": "https://localhost:8080/"
        },
        "id": "5DFfLhnPYm5S",
        "outputId": "6cc25f67-5128-401c-df6e-4b3533a62a25"
      },
      "source": [
        "page_kanser_links,page_memekanseri_links,page_prostat_links = datecreator()\n",
        "print(page_kanser_links)\n",
        "print(page_memekanseri_links)\n",
        "print(page_prostat_links)"
      ],
      "execution_count": 3,
      "outputs": [
        {
          "output_type": "stream",
          "text": [
            "['https://www.turkiyegazetesi.com.tr/arama?q=kanser&pg=1', 'https://www.turkiyegazetesi.com.tr/arama?q=kanser&pg=2']\n",
            "['https://www.turkiyegazetesi.com.tr/arama?q=meme%20kanseri&pg=1', 'https://www.turkiyegazetesi.com.tr/arama?q=meme%20kanseri&pg=2']\n",
            "['https://www.turkiyegazetesi.com.tr/arama?q=prostat%20kanseri&pg=1', 'https://www.turkiyegazetesi.com.tr/arama?q=prostat%20kanseri&pg=2']\n"
          ],
          "name": "stdout"
        }
      ]
    },
    {
      "cell_type": "code",
      "metadata": {
        "id": "JhX3U6s5Ym7n"
      },
      "source": [
        "def get_link_kanser(i):\n",
        "    r = requests.get(i)   \n",
        "    soup = BeautifulSoup(r.content, 'html5lib')\n",
        "    dizi = []\n",
        "    for a in soup.find_all('a', href=True):\n",
        "        link = a['href']\n",
        "        result = True #link.startswith(('https://www.turkiyegazetesi.com.tr/yasam','https://www.turkiyegazetesi.com.tr/saglik','https://www.turkiyegazetesi.com.tr/magazin','https://www.turkiyegazetesi.com.tr/politika'))\n",
        "        if result == True:\n",
        "          if len(link)>45:\n",
        "            if not link in dizi:           #çekilen linklerde aynı olan verileri teke düşürüyor \n",
        "               dizi.append(link)\n",
        "               print(link)\n",
        "              #  with open(\"turkiyegazetesi_link_kanser.txt\", 'a') as file: \n",
        "              #     file.write(link+'\\n')\n",
        "              #     dizi.append(link)\n",
        "    return dizi"
      ],
      "execution_count": 25,
      "outputs": []
    },
    {
      "cell_type": "code",
      "metadata": {
        "id": "Ofz7votXkMKE"
      },
      "source": [
        "# clearfix\n",
        "def get_link_kanser2(i):\n",
        "    count=1\n",
        "    count2=0\n",
        "    r = requests.get(i)   \n",
        "    soup = BeautifulSoup(r.content, 'html5lib')\n",
        "    dizi = []\n",
        "    # in_links=soup.find_all('a',{\"class\":\"clearfix\"}).get(\"href\")\n",
        "    for a in soup.find_all('a', href=True):\n",
        "      link = a['href']\n",
        "      \n",
        "      if(link.endswith('.aspx')and link.startswith('https')):\n",
        "        count2+=1\n",
        "        #   # print(link)         \n",
        "        #   if(count==21):\n",
        "        #     break\n",
        "        #   else:\n",
        "        #     print(link)\n",
        "        #   count+=1\n",
        "        #   print(count)\n",
        "    print(count2)\n",
        "    for a in soup.find_all('a', href=True):\n",
        "        link = a['href']\n",
        "        if(link.endswith('.aspx')and link.startswith('https')):\n",
        "          # print(link)\n",
        "          sayi=21-(34-count2)         \n",
        "          if(count==sayi):\n",
        "            break\n",
        "          else:\n",
        "            print(link)\n",
        "          count+=1\n",
        "          print(count)\n",
        "    # for a in soup.find_all('a', href=True):\n",
        "    #     link = a['href']\n",
        "    #     result = True #link.startswith(('https://www.turkiyegazetesi.com.tr/yasam','https://www.turkiyegazetesi.com.tr/saglik','https://www.turkiyegazetesi.com.tr/magazin','https://www.turkiyegazetesi.com.tr/politika'))\n",
        "    #     if result == True:\n",
        "    #       if len(link)>45:\n",
        "    #         if not link in dizi:           #çekilen linklerde aynı olan verileri teke düşürüyor \n",
        "    #            dizi.append(link)\n",
        "    #            print(link)\n",
        "              #  with open(\"turkiyegazetesi_link_kanser.txt\", 'a') as file: \n",
        "              #     file.write(link+'\\n')\n",
        "              #     dizi.append(link)\n",
        "    # return dizi"
      ],
      "execution_count": 82,
      "outputs": []
    },
    {
      "cell_type": "code",
      "metadata": {
        "id": "vs6C6z5yhHk0",
        "outputId": "9765cee9-c28f-4c3f-a19d-d44ccb782b13",
        "colab": {
          "base_uri": "https://localhost:8080/"
        }
      },
      "source": [
        "uus=\"https://www.turkiyegazetesi.com.tr/arama?q=kanser&pg=1\"\n",
        "uur=\"https://www.turkiyegazetesi.com.tr/arama?q=kanser&pg=2\"\n",
        "uur2=\"https://www.turkiyegazetesi.com.tr/arama?q=prostat%20kanseri&pg=2\"\n",
        "get_link_kanser2(uus)"
      ],
      "execution_count": 85,
      "outputs": [
        {
          "output_type": "stream",
          "text": [
            "34\n",
            "https://www.turkiyegazetesi.com.tr/dunya/796680.aspx\n",
            "2\n",
            "https://www.turkiyegazetesi.com.tr/saglik/796356.aspx\n",
            "3\n",
            "https://www.turkiyegazetesi.com.tr/magazin/795836.aspx\n",
            "4\n",
            "https://www.turkiyegazetesi.com.tr/magazin/795319.aspx\n",
            "5\n",
            "https://www.turkiyegazetesi.com.tr/saglik/795235.aspx\n",
            "6\n",
            "https://www.turkiyegazetesi.com.tr/saglik/795063.aspx\n",
            "7\n",
            "https://www.turkiyegazetesi.com.tr/saglik/795038.aspx\n",
            "8\n",
            "https://www.turkiyegazetesi.com.tr/saglik/794819.aspx\n",
            "9\n",
            "https://www.turkiyegazetesi.com.tr/saglik/794511.aspx\n",
            "10\n",
            "https://www.turkiyegazetesi.com.tr/saglik/794317.aspx\n",
            "11\n",
            "https://www.turkiyegazetesi.com.tr/spor/793977.aspx\n",
            "12\n",
            "https://www.turkiyegazetesi.com.tr/saglik/793791.aspx\n",
            "13\n",
            "https://www.turkiyegazetesi.com.tr/saglik/793790.aspx\n",
            "14\n",
            "https://www.turkiyegazetesi.com.tr/yasam/793475.aspx\n",
            "15\n",
            "https://www.turkiyegazetesi.com.tr/saglik/793366.aspx\n",
            "16\n",
            "https://www.turkiyegazetesi.com.tr/saglik/793364.aspx\n",
            "17\n",
            "https://www.turkiyegazetesi.com.tr/saglik/792864.aspx\n",
            "18\n",
            "https://www.turkiyegazetesi.com.tr/dunya/792794.aspx\n",
            "19\n",
            "https://www.turkiyegazetesi.com.tr/magazin/792652.aspx\n",
            "20\n",
            "https://www.turkiyegazetesi.com.tr/saglik/792041.aspx\n",
            "21\n"
          ],
          "name": "stdout"
        }
      ]
    },
    {
      "cell_type": "code",
      "metadata": {
        "id": "TGpFBp-vhdwF",
        "outputId": "49e562c9-5d54-4dda-fe86-ed02676d5e2e",
        "colab": {
          "base_uri": "https://localhost:8080/"
        }
      },
      "source": [
        "sayac=1\n",
        "for i in dene[23:]:\n",
        "  if(sayac==21):\n",
        "    break\n",
        "  else:\n",
        "    print(i)\n",
        "  sayac+=1"
      ],
      "execution_count": 36,
      "outputs": [
        {
          "output_type": "stream",
          "text": [
            "https://www.turkiyegazetesi.com.tr/dunya/791734.aspx\n",
            "https://www.turkiyegazetesi.com.tr/saglik/791475.aspx\n",
            "https://www.turkiyegazetesi.com.tr/saglik/791044.aspx\n",
            "https://www.turkiyegazetesi.com.tr/spor/788872.aspx\n",
            "https://www.turkiyegazetesi.com.tr/saglik/788564.aspx\n",
            "https://www.turkiyegazetesi.com.tr/magazin/788220.aspx\n",
            "https://www.turkiyegazetesi.com.tr/yasam/787894.aspx\n",
            "https://www.turkiyegazetesi.com.tr/editorunsectikleri/787893.aspx\n",
            "https://www.turkiyegazetesi.com.tr/magazin/787881.aspx\n",
            "https://www.turkiyegazetesi.com.tr/yasam/786880.aspx\n",
            "https://www.turkiyegazetesi.com.tr/yasam/786661.aspx\n",
            "https://www.turkiyegazetesi.com.tr/yasam/786027.aspx\n",
            "https://www.turkiyegazetesi.com.tr/yasam/784134.aspx\n",
            "https://www.turkiyegazetesi.com.tr/dunya/782303.aspx\n",
            "https://www.turkiyegazetesi.com.tr/saglik/780824.aspx\n",
            "https://www.turkiyegazetesi.com.tr/yasam/780691.aspx\n",
            "https://www.turkiyegazetesi.com.tr/magazin/780311.aspx\n",
            "https://www.turkiyegazetesi.com.tr/saglik/780214.aspx\n",
            "https://www.turkiyegazetesi.com.tr/saglik/780213.aspx\n",
            "https://www.turkiyegazetesi.com.tr/saglik/780034.aspx\n"
          ],
          "name": "stdout"
        }
      ]
    },
    {
      "cell_type": "code",
      "metadata": {
        "id": "zXRW5KJrYm9k"
      },
      "source": [
        "\n",
        "def get_link_prostatkanseri(i):\n",
        "    r = requests.get(i)   \n",
        "    soup = BeautifulSoup(r.content, 'html5lib')\n",
        "    dizi = []\n",
        "    for a in soup.find_all('a', href=True):\n",
        "        link = a['href']\n",
        "        result = link.startswith(('https://www.turkiyegazetesi.com.tr/yasam','https://www.turkiyegazetesi.com.tr/saglik','https://www.turkiyegazetesi.com.tr/magazin','https://www.turkiyegazetesi.com.tr/politika'))\n",
        "        if result == True:\n",
        "          if len(link)>45:\n",
        "            if not link in dizi:           #çekilen linklerde aynı olan verileri teke düşürüyor \n",
        "               dizi.append(link)\n",
        "               with open(\"turkiyegazetesi_link_prostat_kanser.txt\", 'a') as file: \n",
        "                  file.write(link+'\\n')\n",
        "                  dizi.append(link)\n",
        "    return dizi"
      ],
      "execution_count": 5,
      "outputs": []
    },
    {
      "cell_type": "code",
      "metadata": {
        "id": "OGXEEtgDYm_x"
      },
      "source": [
        "def get_link_memekanseri(i):\n",
        "    r = requests.get(i)   \n",
        "    soup = BeautifulSoup(r.content, 'html5lib')\n",
        "    dizi = []\n",
        "    for a in soup.find_all('a', href=True):\n",
        "        link = a['href']\n",
        "        result = link.startswith(('https://www.turkiyegazetesi.com.tr/yasam','https://www.turkiyegazetesi.com.tr/saglik','https://www.turkiyegazetesi.com.tr/magazin','https://www.turkiyegazetesi.com.tr/politika'))\n",
        "        if result == True:\n",
        "          if len(link)>45:\n",
        "            if not link in dizi:           #çekilen linklerde aynı olan verileri teke düşürüyor \n",
        "               dizi.append(link)\n",
        "               with open(\"turkiyegazetesi_link_meme_kanser.txt\", 'a') as file: \n",
        "                  file.write(link+'\\n')\n",
        "                  dizi.append(link)\n",
        "    return dizi"
      ],
      "execution_count": 6,
      "outputs": []
    },
    {
      "cell_type": "code",
      "metadata": {
        "id": "yllnKPhkYnBV"
      },
      "source": [
        "def creator1(url):\n",
        "    r = requests.get(url)   \n",
        "    soup = BeautifulSoup(r.content, 'html5lib')\n",
        "    title = soup.find(\"h1\").getText()\n",
        "    content_array = soup.find(\"div\", attrs = {\"class\":\"article-body\"}).getText()\n",
        "    date = soup.find(\"div\", attrs = {\"class\":\"story_date\"}).getText()\n",
        "    date = date.split()\n",
        "    date = date[0]\n",
        "    content_array = content_array.split()\n",
        "    content_string = \"\"\n",
        "    for w in content_array:\n",
        "        content_string = content_string+\" \"+w\n",
        "        #w_data = url+\";\"+date+\";\"+title+\";\"+content_string\n",
        "    w_data=\"{};{};{};{}\".format(url,date,title,content_string)\n",
        "    #print(w_data)\n",
        "    # write_to_txt(w_data)\n",
        "    with open(\"turkiyegazetesi_content_kanser.txt\", 'a') as file: \n",
        "        file.write(w_data+'\\n')"
      ],
      "execution_count": 7,
      "outputs": []
    },
    {
      "cell_type": "code",
      "metadata": {
        "id": "Ov2RI2dnZD0h"
      },
      "source": [
        "def creator2(url):\n",
        "    r = requests.get(url)   \n",
        "    soup = BeautifulSoup(r.content, 'html5lib')\n",
        "    title = soup.find(\"h1\").getText()\n",
        "    content_array = soup.find(\"div\", attrs = {\"class\":\"article-body\"}).getText()\n",
        "    date = soup.find(\"div\", attrs = {\"class\":\"story_date\"}).getText()\n",
        "    date = date.split()\n",
        "    date = date[0]\n",
        "    content_array = content_array.split()\n",
        "    content_string = \"\"\n",
        "    for w in content_array:\n",
        "        content_string = content_string+\" \"+w\n",
        "        #w_data = url+\";\"+date+\";\"+title+\";\"+content_string\n",
        "    w_data=\"{};{};{};{}\".format(url,date,title,content_string)\n",
        "    #print(w_data)\n",
        "    # write_to_txt(w_data)\n",
        "    with open(\"turkiyegazetesi_content_prostat_kanser.txt\", 'a') as file: \n",
        "        file.write(w_data+'\\n')"
      ],
      "execution_count": 8,
      "outputs": []
    },
    {
      "cell_type": "code",
      "metadata": {
        "id": "VvIO-ICTZD2z"
      },
      "source": [
        "def creator3(url):\n",
        "    r = requests.get(url)   \n",
        "    soup = BeautifulSoup(r.content, 'html5lib')\n",
        "    title = soup.find(\"h1\").getText()\n",
        "    content_array = soup.find(\"div\", attrs = {\"class\":\"article-body\"}).getText()\n",
        "    date = soup.find(\"div\", attrs = {\"class\":\"story_date\"}).getText()\n",
        "    date = date.split()\n",
        "    date = date[0]\n",
        "    content_array = content_array.split()\n",
        "    content_string = \"\"\n",
        "    for w in content_array:\n",
        "        content_string = content_string+\" \"+w\n",
        "        #w_data = url+\";\"+date+\";\"+title+\";\"+content_string\n",
        "    w_data=\"{};{};{};{}\".format(url,date,title,content_string)\n",
        "    #print(w_data)\n",
        "    # write_to_txt(w_data)\n",
        "    with open(\"turkiyegazetesi_content_meme_kanser.txt\", 'a') as file: \n",
        "        file.write(w_data+'\\n')"
      ],
      "execution_count": 9,
      "outputs": []
    },
    {
      "cell_type": "code",
      "metadata": {
        "id": "AxEQXLKgZD5B"
      },
      "source": [
        "page_kanser_links,page_memekanseri_links,page_prostat_links = datecreator()\n",
        "\n",
        "dizi = []\n",
        "count= 0 \n",
        "for i in page_kanser_links:\n",
        "    try:\n",
        "       get_link_kanser(i)\n",
        "    except:\n",
        "        print('Format Dışı Link')\n",
        "\n",
        "\n",
        "for i in page_prostat_links:\n",
        "    try:\n",
        "       get_link_prostatkanseri(i)\n",
        "       \n",
        "    except:\n",
        "        print('Format Dışı Link')\n",
        "\n",
        "\n",
        "for i in page_memekanseri_links:\n",
        "    try:\n",
        "      get_link_memekanseri(i)\n",
        "       \n",
        "    except:\n",
        "        print('Format Dışı Link')"
      ],
      "execution_count": 10,
      "outputs": []
    },
    {
      "cell_type": "code",
      "metadata": {
        "id": "SiIuBTuxZD69"
      },
      "source": [
        "import os\n",
        "import csv\n",
        "import concurrent\n",
        "import multiprocessing\n",
        "from multiprocessing import pool\n",
        "import io\n",
        "from pprint import pprint\n",
        "turkiyegazetesi_kanser_links=[]\n",
        "with open(\"turkiyegazetesi_link_kanser.txt\",'r',newline='') as f:\n",
        "  for i in f.readlines():    \n",
        "  # reader=csv.reader(f)\n",
        "    turkiyegazetesi_kanser_links.append(i)"
      ],
      "execution_count": 11,
      "outputs": []
    },
    {
      "cell_type": "code",
      "metadata": {
        "colab": {
          "base_uri": "https://localhost:8080/"
        },
        "id": "vduB9eHSm512",
        "outputId": "e2770e35-9ec9-40dc-c363-4e2ebfbdc54b"
      },
      "source": [
        "t1=time.time()\n",
        "with concurrent.futures.ProcessPoolExecutor() as execut:\n",
        "  b_res=[execut.submit(creator1,i.strip()) for i in turkiyegazetesi_kanser_links]\n",
        "\n",
        "print(time.time()-t1)"
      ],
      "execution_count": 12,
      "outputs": [
        {
          "output_type": "stream",
          "text": [
            "27.690077304840088\n"
          ],
          "name": "stdout"
        }
      ]
    },
    {
      "cell_type": "code",
      "metadata": {
        "id": "Z_ouc1ulm54J"
      },
      "source": [
        "turkiyegazetesi_prostat_kanser_links=[]\n",
        "with open(\"turkiyegazetesi_link_prostat_kanser.txt\",'r',newline='') as f:\n",
        "  for i in f.readlines():    \n",
        "  # reader=csv.reader(f)\n",
        "    turkiyegazetesi_prostat_kanser_links.append(i)"
      ],
      "execution_count": 13,
      "outputs": []
    },
    {
      "cell_type": "code",
      "metadata": {
        "colab": {
          "base_uri": "https://localhost:8080/"
        },
        "id": "XunLfaUqm56W",
        "outputId": "3c08ef35-1149-4279-c183-1f10d528a53f"
      },
      "source": [
        "t1=time.time()\n",
        "with concurrent.futures.ProcessPoolExecutor() as execut:\n",
        "  b_res=[execut.submit(creator2,i.strip()) for i in turkiyegazetesi_prostat_kanser_links]\n",
        "\n",
        "print(time.time()-t1)"
      ],
      "execution_count": 14,
      "outputs": [
        {
          "output_type": "stream",
          "text": [
            "25.090045928955078\n"
          ],
          "name": "stdout"
        }
      ]
    },
    {
      "cell_type": "code",
      "metadata": {
        "id": "rNXmeL3noKSn"
      },
      "source": [
        "turkiyegazetesi_meme_kanser_links=[]\n",
        "with open(\"turkiyegazetesi_link_meme_kanser.txt\",'r',newline='') as f:\n",
        "  for i in f.readlines():    \n",
        "  # reader=csv.reader(f)\n",
        "    turkiyegazetesi_meme_kanser_links.append(i)"
      ],
      "execution_count": 15,
      "outputs": []
    },
    {
      "cell_type": "code",
      "metadata": {
        "colab": {
          "base_uri": "https://localhost:8080/"
        },
        "id": "GokvbESQoKVf",
        "outputId": "6145d8ac-c4a0-467a-e83b-bca1936a3938"
      },
      "source": [
        "t1=time.time()\n",
        "with concurrent.futures.ProcessPoolExecutor() as execut:\n",
        "  b_res=[execut.submit(creator3,i.strip()) for i in turkiyegazetesi_meme_kanser_links]\n",
        "\n",
        "print(time.time()-t1)"
      ],
      "execution_count": 16,
      "outputs": [
        {
          "output_type": "stream",
          "text": [
            "31.848942756652832\n"
          ],
          "name": "stdout"
        }
      ]
    }
  ]
}